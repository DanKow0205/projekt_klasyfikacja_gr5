{
  "nbformat": 4,
  "nbformat_minor": 0,
  "metadata": {
    "colab": {
      "provenance": []
    },
    "kernelspec": {
      "name": "python3",
      "display_name": "Python 3"
    },
    "language_info": {
      "name": "python"
    }
  },
  "cells": [
    {
      "cell_type": "code",
      "source": [
        "import pandas as pd\n",
        "import numpy as np"
      ],
      "metadata": {
        "id": "7Pb9-AKwUD7X"
      },
      "execution_count": 2,
      "outputs": []
    },
    {
      "cell_type": "code",
      "source": [
        "import matplotlib.pyplot as plt\n",
        "import seaborn as sns\n",
        "import plotly.express as px\n",
        "import plotly.graph_objects as go\n",
        "from plotly.offline import iplot"
      ],
      "metadata": {
        "id": "T0yOmSY9YaOf"
      },
      "execution_count": 16,
      "outputs": []
    },
    {
      "cell_type": "code",
      "source": [
        "from sklearn.preprocessing import OneHotEncoder"
      ],
      "metadata": {
        "id": "SQ4F95p7n8AW"
      },
      "execution_count": 52,
      "outputs": []
    },
    {
      "cell_type": "code",
      "execution_count": 4,
      "metadata": {
        "colab": {
          "base_uri": "https://localhost:8080/",
          "height": 313
        },
        "id": "wqnxY-6iTRyF",
        "outputId": "a7ea2216-57e8-42ec-ff09-9e1db7b4c769"
      },
      "outputs": [
        {
          "output_type": "execute_result",
          "data": {
            "text/plain": [
              "   EmployeeNumber   Age BusinessTravel  DailyRate              Department  \\\n",
              "0             104  30.0  Travel_Rarely      852.0  Research & Development   \n",
              "1            1638  38.0  Travel_Rarely      397.0  Research & Development   \n",
              "2             164  26.0  Travel_Rarely      841.0  Research & Development   \n",
              "3             395  28.0  Travel_Rarely     1117.0  Research & Development   \n",
              "4              53  35.0  Travel_Rarely      464.0  Research & Development   \n",
              "\n",
              "   DistanceFromHome  Education EducationField  EmployeeCount  \\\n",
              "0               1.0        1.0  Life Sciences            1.0   \n",
              "1               2.0        2.0        Medical            1.0   \n",
              "2               6.0        3.0          Other            1.0   \n",
              "3               8.0        2.0  Life Sciences            1.0   \n",
              "4               4.0        2.0          Other            1.0   \n",
              "\n",
              "   EnvironmentSatisfaction  Gender  HourlyRate  JobInvolvement  JobLevel  \\\n",
              "0                      4.0    Male        55.0             2.0       2.0   \n",
              "1                      4.0  Female        54.0             2.0       3.0   \n",
              "2                      3.0  Female        46.0             2.0       1.0   \n",
              "3                      4.0  Female        66.0             3.0       1.0   \n",
              "4                      3.0    Male        75.0             3.0       1.0   \n",
              "\n",
              "                  JobRole  JobSatisfaction MaritalStatus  MonthlyIncome  \\\n",
              "0   Laboratory Technician              4.0       Married         5126.0   \n",
              "1  Manufacturing Director              3.0       Married         7756.0   \n",
              "2      Research Scientist              2.0       Married         2368.0   \n",
              "3      Research Scientist              4.0        Single         3310.0   \n",
              "4   Laboratory Technician              4.0      Divorced         1951.0   \n",
              "\n",
              "   MonthlyRate  NumCompaniesWorked  \n",
              "0      15998.0                 1.0  \n",
              "1      14199.0                 3.0  \n",
              "2      23300.0                 1.0  \n",
              "3       4488.0                 1.0  \n",
              "4      10910.0                 1.0  "
            ],
            "text/html": [
              "\n",
              "  <div id=\"df-aaff9eef-a971-416d-a5aa-1a3a95db7614\" class=\"colab-df-container\">\n",
              "    <div>\n",
              "<style scoped>\n",
              "    .dataframe tbody tr th:only-of-type {\n",
              "        vertical-align: middle;\n",
              "    }\n",
              "\n",
              "    .dataframe tbody tr th {\n",
              "        vertical-align: top;\n",
              "    }\n",
              "\n",
              "    .dataframe thead th {\n",
              "        text-align: right;\n",
              "    }\n",
              "</style>\n",
              "<table border=\"1\" class=\"dataframe\">\n",
              "  <thead>\n",
              "    <tr style=\"text-align: right;\">\n",
              "      <th></th>\n",
              "      <th>EmployeeNumber</th>\n",
              "      <th>Age</th>\n",
              "      <th>BusinessTravel</th>\n",
              "      <th>DailyRate</th>\n",
              "      <th>Department</th>\n",
              "      <th>DistanceFromHome</th>\n",
              "      <th>Education</th>\n",
              "      <th>EducationField</th>\n",
              "      <th>EmployeeCount</th>\n",
              "      <th>EnvironmentSatisfaction</th>\n",
              "      <th>Gender</th>\n",
              "      <th>HourlyRate</th>\n",
              "      <th>JobInvolvement</th>\n",
              "      <th>JobLevel</th>\n",
              "      <th>JobRole</th>\n",
              "      <th>JobSatisfaction</th>\n",
              "      <th>MaritalStatus</th>\n",
              "      <th>MonthlyIncome</th>\n",
              "      <th>MonthlyRate</th>\n",
              "      <th>NumCompaniesWorked</th>\n",
              "    </tr>\n",
              "  </thead>\n",
              "  <tbody>\n",
              "    <tr>\n",
              "      <th>0</th>\n",
              "      <td>104</td>\n",
              "      <td>30.0</td>\n",
              "      <td>Travel_Rarely</td>\n",
              "      <td>852.0</td>\n",
              "      <td>Research &amp; Development</td>\n",
              "      <td>1.0</td>\n",
              "      <td>1.0</td>\n",
              "      <td>Life Sciences</td>\n",
              "      <td>1.0</td>\n",
              "      <td>4.0</td>\n",
              "      <td>Male</td>\n",
              "      <td>55.0</td>\n",
              "      <td>2.0</td>\n",
              "      <td>2.0</td>\n",
              "      <td>Laboratory Technician</td>\n",
              "      <td>4.0</td>\n",
              "      <td>Married</td>\n",
              "      <td>5126.0</td>\n",
              "      <td>15998.0</td>\n",
              "      <td>1.0</td>\n",
              "    </tr>\n",
              "    <tr>\n",
              "      <th>1</th>\n",
              "      <td>1638</td>\n",
              "      <td>38.0</td>\n",
              "      <td>Travel_Rarely</td>\n",
              "      <td>397.0</td>\n",
              "      <td>Research &amp; Development</td>\n",
              "      <td>2.0</td>\n",
              "      <td>2.0</td>\n",
              "      <td>Medical</td>\n",
              "      <td>1.0</td>\n",
              "      <td>4.0</td>\n",
              "      <td>Female</td>\n",
              "      <td>54.0</td>\n",
              "      <td>2.0</td>\n",
              "      <td>3.0</td>\n",
              "      <td>Manufacturing Director</td>\n",
              "      <td>3.0</td>\n",
              "      <td>Married</td>\n",
              "      <td>7756.0</td>\n",
              "      <td>14199.0</td>\n",
              "      <td>3.0</td>\n",
              "    </tr>\n",
              "    <tr>\n",
              "      <th>2</th>\n",
              "      <td>164</td>\n",
              "      <td>26.0</td>\n",
              "      <td>Travel_Rarely</td>\n",
              "      <td>841.0</td>\n",
              "      <td>Research &amp; Development</td>\n",
              "      <td>6.0</td>\n",
              "      <td>3.0</td>\n",
              "      <td>Other</td>\n",
              "      <td>1.0</td>\n",
              "      <td>3.0</td>\n",
              "      <td>Female</td>\n",
              "      <td>46.0</td>\n",
              "      <td>2.0</td>\n",
              "      <td>1.0</td>\n",
              "      <td>Research Scientist</td>\n",
              "      <td>2.0</td>\n",
              "      <td>Married</td>\n",
              "      <td>2368.0</td>\n",
              "      <td>23300.0</td>\n",
              "      <td>1.0</td>\n",
              "    </tr>\n",
              "    <tr>\n",
              "      <th>3</th>\n",
              "      <td>395</td>\n",
              "      <td>28.0</td>\n",
              "      <td>Travel_Rarely</td>\n",
              "      <td>1117.0</td>\n",
              "      <td>Research &amp; Development</td>\n",
              "      <td>8.0</td>\n",
              "      <td>2.0</td>\n",
              "      <td>Life Sciences</td>\n",
              "      <td>1.0</td>\n",
              "      <td>4.0</td>\n",
              "      <td>Female</td>\n",
              "      <td>66.0</td>\n",
              "      <td>3.0</td>\n",
              "      <td>1.0</td>\n",
              "      <td>Research Scientist</td>\n",
              "      <td>4.0</td>\n",
              "      <td>Single</td>\n",
              "      <td>3310.0</td>\n",
              "      <td>4488.0</td>\n",
              "      <td>1.0</td>\n",
              "    </tr>\n",
              "    <tr>\n",
              "      <th>4</th>\n",
              "      <td>53</td>\n",
              "      <td>35.0</td>\n",
              "      <td>Travel_Rarely</td>\n",
              "      <td>464.0</td>\n",
              "      <td>Research &amp; Development</td>\n",
              "      <td>4.0</td>\n",
              "      <td>2.0</td>\n",
              "      <td>Other</td>\n",
              "      <td>1.0</td>\n",
              "      <td>3.0</td>\n",
              "      <td>Male</td>\n",
              "      <td>75.0</td>\n",
              "      <td>3.0</td>\n",
              "      <td>1.0</td>\n",
              "      <td>Laboratory Technician</td>\n",
              "      <td>4.0</td>\n",
              "      <td>Divorced</td>\n",
              "      <td>1951.0</td>\n",
              "      <td>10910.0</td>\n",
              "      <td>1.0</td>\n",
              "    </tr>\n",
              "  </tbody>\n",
              "</table>\n",
              "</div>\n",
              "    <div class=\"colab-df-buttons\">\n",
              "\n",
              "  <div class=\"colab-df-container\">\n",
              "    <button class=\"colab-df-convert\" onclick=\"convertToInteractive('df-aaff9eef-a971-416d-a5aa-1a3a95db7614')\"\n",
              "            title=\"Convert this dataframe to an interactive table.\"\n",
              "            style=\"display:none;\">\n",
              "\n",
              "  <svg xmlns=\"http://www.w3.org/2000/svg\" height=\"24px\" viewBox=\"0 -960 960 960\">\n",
              "    <path d=\"M120-120v-720h720v720H120Zm60-500h600v-160H180v160Zm220 220h160v-160H400v160Zm0 220h160v-160H400v160ZM180-400h160v-160H180v160Zm440 0h160v-160H620v160ZM180-180h160v-160H180v160Zm440 0h160v-160H620v160Z\"/>\n",
              "  </svg>\n",
              "    </button>\n",
              "\n",
              "  <style>\n",
              "    .colab-df-container {\n",
              "      display:flex;\n",
              "      gap: 12px;\n",
              "    }\n",
              "\n",
              "    .colab-df-convert {\n",
              "      background-color: #E8F0FE;\n",
              "      border: none;\n",
              "      border-radius: 50%;\n",
              "      cursor: pointer;\n",
              "      display: none;\n",
              "      fill: #1967D2;\n",
              "      height: 32px;\n",
              "      padding: 0 0 0 0;\n",
              "      width: 32px;\n",
              "    }\n",
              "\n",
              "    .colab-df-convert:hover {\n",
              "      background-color: #E2EBFA;\n",
              "      box-shadow: 0px 1px 2px rgba(60, 64, 67, 0.3), 0px 1px 3px 1px rgba(60, 64, 67, 0.15);\n",
              "      fill: #174EA6;\n",
              "    }\n",
              "\n",
              "    .colab-df-buttons div {\n",
              "      margin-bottom: 4px;\n",
              "    }\n",
              "\n",
              "    [theme=dark] .colab-df-convert {\n",
              "      background-color: #3B4455;\n",
              "      fill: #D2E3FC;\n",
              "    }\n",
              "\n",
              "    [theme=dark] .colab-df-convert:hover {\n",
              "      background-color: #434B5C;\n",
              "      box-shadow: 0px 1px 3px 1px rgba(0, 0, 0, 0.15);\n",
              "      filter: drop-shadow(0px 1px 2px rgba(0, 0, 0, 0.3));\n",
              "      fill: #FFFFFF;\n",
              "    }\n",
              "  </style>\n",
              "\n",
              "    <script>\n",
              "      const buttonEl =\n",
              "        document.querySelector('#df-aaff9eef-a971-416d-a5aa-1a3a95db7614 button.colab-df-convert');\n",
              "      buttonEl.style.display =\n",
              "        google.colab.kernel.accessAllowed ? 'block' : 'none';\n",
              "\n",
              "      async function convertToInteractive(key) {\n",
              "        const element = document.querySelector('#df-aaff9eef-a971-416d-a5aa-1a3a95db7614');\n",
              "        const dataTable =\n",
              "          await google.colab.kernel.invokeFunction('convertToInteractive',\n",
              "                                                    [key], {});\n",
              "        if (!dataTable) return;\n",
              "\n",
              "        const docLinkHtml = 'Like what you see? Visit the ' +\n",
              "          '<a target=\"_blank\" href=https://colab.research.google.com/notebooks/data_table.ipynb>data table notebook</a>'\n",
              "          + ' to learn more about interactive tables.';\n",
              "        element.innerHTML = '';\n",
              "        dataTable['output_type'] = 'display_data';\n",
              "        await google.colab.output.renderOutput(dataTable, element);\n",
              "        const docLink = document.createElement('div');\n",
              "        docLink.innerHTML = docLinkHtml;\n",
              "        element.appendChild(docLink);\n",
              "      }\n",
              "    </script>\n",
              "  </div>\n",
              "\n",
              "\n",
              "<div id=\"df-6e3de166-51a2-4bab-9e47-bc2f65d60682\">\n",
              "  <button class=\"colab-df-quickchart\" onclick=\"quickchart('df-6e3de166-51a2-4bab-9e47-bc2f65d60682')\"\n",
              "            title=\"Suggest charts\"\n",
              "            style=\"display:none;\">\n",
              "\n",
              "<svg xmlns=\"http://www.w3.org/2000/svg\" height=\"24px\"viewBox=\"0 0 24 24\"\n",
              "     width=\"24px\">\n",
              "    <g>\n",
              "        <path d=\"M19 3H5c-1.1 0-2 .9-2 2v14c0 1.1.9 2 2 2h14c1.1 0 2-.9 2-2V5c0-1.1-.9-2-2-2zM9 17H7v-7h2v7zm4 0h-2V7h2v10zm4 0h-2v-4h2v4z\"/>\n",
              "    </g>\n",
              "</svg>\n",
              "  </button>\n",
              "\n",
              "<style>\n",
              "  .colab-df-quickchart {\n",
              "      --bg-color: #E8F0FE;\n",
              "      --fill-color: #1967D2;\n",
              "      --hover-bg-color: #E2EBFA;\n",
              "      --hover-fill-color: #174EA6;\n",
              "      --disabled-fill-color: #AAA;\n",
              "      --disabled-bg-color: #DDD;\n",
              "  }\n",
              "\n",
              "  [theme=dark] .colab-df-quickchart {\n",
              "      --bg-color: #3B4455;\n",
              "      --fill-color: #D2E3FC;\n",
              "      --hover-bg-color: #434B5C;\n",
              "      --hover-fill-color: #FFFFFF;\n",
              "      --disabled-bg-color: #3B4455;\n",
              "      --disabled-fill-color: #666;\n",
              "  }\n",
              "\n",
              "  .colab-df-quickchart {\n",
              "    background-color: var(--bg-color);\n",
              "    border: none;\n",
              "    border-radius: 50%;\n",
              "    cursor: pointer;\n",
              "    display: none;\n",
              "    fill: var(--fill-color);\n",
              "    height: 32px;\n",
              "    padding: 0;\n",
              "    width: 32px;\n",
              "  }\n",
              "\n",
              "  .colab-df-quickchart:hover {\n",
              "    background-color: var(--hover-bg-color);\n",
              "    box-shadow: 0 1px 2px rgba(60, 64, 67, 0.3), 0 1px 3px 1px rgba(60, 64, 67, 0.15);\n",
              "    fill: var(--button-hover-fill-color);\n",
              "  }\n",
              "\n",
              "  .colab-df-quickchart-complete:disabled,\n",
              "  .colab-df-quickchart-complete:disabled:hover {\n",
              "    background-color: var(--disabled-bg-color);\n",
              "    fill: var(--disabled-fill-color);\n",
              "    box-shadow: none;\n",
              "  }\n",
              "\n",
              "  .colab-df-spinner {\n",
              "    border: 2px solid var(--fill-color);\n",
              "    border-color: transparent;\n",
              "    border-bottom-color: var(--fill-color);\n",
              "    animation:\n",
              "      spin 1s steps(1) infinite;\n",
              "  }\n",
              "\n",
              "  @keyframes spin {\n",
              "    0% {\n",
              "      border-color: transparent;\n",
              "      border-bottom-color: var(--fill-color);\n",
              "      border-left-color: var(--fill-color);\n",
              "    }\n",
              "    20% {\n",
              "      border-color: transparent;\n",
              "      border-left-color: var(--fill-color);\n",
              "      border-top-color: var(--fill-color);\n",
              "    }\n",
              "    30% {\n",
              "      border-color: transparent;\n",
              "      border-left-color: var(--fill-color);\n",
              "      border-top-color: var(--fill-color);\n",
              "      border-right-color: var(--fill-color);\n",
              "    }\n",
              "    40% {\n",
              "      border-color: transparent;\n",
              "      border-right-color: var(--fill-color);\n",
              "      border-top-color: var(--fill-color);\n",
              "    }\n",
              "    60% {\n",
              "      border-color: transparent;\n",
              "      border-right-color: var(--fill-color);\n",
              "    }\n",
              "    80% {\n",
              "      border-color: transparent;\n",
              "      border-right-color: var(--fill-color);\n",
              "      border-bottom-color: var(--fill-color);\n",
              "    }\n",
              "    90% {\n",
              "      border-color: transparent;\n",
              "      border-bottom-color: var(--fill-color);\n",
              "    }\n",
              "  }\n",
              "</style>\n",
              "\n",
              "  <script>\n",
              "    async function quickchart(key) {\n",
              "      const quickchartButtonEl =\n",
              "        document.querySelector('#' + key + ' button');\n",
              "      quickchartButtonEl.disabled = true;  // To prevent multiple clicks.\n",
              "      quickchartButtonEl.classList.add('colab-df-spinner');\n",
              "      try {\n",
              "        const charts = await google.colab.kernel.invokeFunction(\n",
              "            'suggestCharts', [key], {});\n",
              "      } catch (error) {\n",
              "        console.error('Error during call to suggestCharts:', error);\n",
              "      }\n",
              "      quickchartButtonEl.classList.remove('colab-df-spinner');\n",
              "      quickchartButtonEl.classList.add('colab-df-quickchart-complete');\n",
              "    }\n",
              "    (() => {\n",
              "      let quickchartButtonEl =\n",
              "        document.querySelector('#df-6e3de166-51a2-4bab-9e47-bc2f65d60682 button');\n",
              "      quickchartButtonEl.style.display =\n",
              "        google.colab.kernel.accessAllowed ? 'block' : 'none';\n",
              "    })();\n",
              "  </script>\n",
              "</div>\n",
              "    </div>\n",
              "  </div>\n"
            ]
          },
          "metadata": {},
          "execution_count": 4
        }
      ],
      "source": [
        "df1 = pd.read_csv('/content/df1.csv')\n",
        "df1.head()"
      ]
    },
    {
      "cell_type": "code",
      "source": [
        "df1.shape"
      ],
      "metadata": {
        "colab": {
          "base_uri": "https://localhost:8080/"
        },
        "id": "EtVtQN9PUC1i",
        "outputId": "7c5578d4-b2da-4ec5-9d38-e562a3a2abb4"
      },
      "execution_count": 5,
      "outputs": [
        {
          "output_type": "execute_result",
          "data": {
            "text/plain": [
              "(4449, 20)"
            ]
          },
          "metadata": {},
          "execution_count": 5
        }
      ]
    },
    {
      "cell_type": "code",
      "source": [
        "df1.info()"
      ],
      "metadata": {
        "colab": {
          "base_uri": "https://localhost:8080/"
        },
        "id": "gcYfOeJeVsq1",
        "outputId": "5b5ec8fd-10e3-4e1f-b701-29dc647e4c8a"
      },
      "execution_count": 10,
      "outputs": [
        {
          "output_type": "stream",
          "name": "stdout",
          "text": [
            "<class 'pandas.core.frame.DataFrame'>\n",
            "RangeIndex: 4449 entries, 0 to 4448\n",
            "Data columns (total 20 columns):\n",
            " #   Column                   Non-Null Count  Dtype  \n",
            "---  ------                   --------------  -----  \n",
            " 0   EmployeeNumber           4449 non-null   int64  \n",
            " 1   Age                      4449 non-null   float64\n",
            " 2   BusinessTravel           4449 non-null   object \n",
            " 3   DailyRate                4449 non-null   float64\n",
            " 4   Department               4449 non-null   object \n",
            " 5   DistanceFromHome         4449 non-null   float64\n",
            " 6   Education                4449 non-null   float64\n",
            " 7   EducationField           4449 non-null   object \n",
            " 8   EmployeeCount            4449 non-null   float64\n",
            " 9   EnvironmentSatisfaction  4449 non-null   float64\n",
            " 10  Gender                   4449 non-null   object \n",
            " 11  HourlyRate               4449 non-null   float64\n",
            " 12  JobInvolvement           4449 non-null   float64\n",
            " 13  JobLevel                 4449 non-null   float64\n",
            " 14  JobRole                  4449 non-null   object \n",
            " 15  JobSatisfaction          4449 non-null   float64\n",
            " 16  MaritalStatus            4449 non-null   object \n",
            " 17  MonthlyIncome            4449 non-null   float64\n",
            " 18  MonthlyRate              4449 non-null   float64\n",
            " 19  NumCompaniesWorked       4449 non-null   float64\n",
            "dtypes: float64(13), int64(1), object(6)\n",
            "memory usage: 695.3+ KB\n"
          ]
        }
      ]
    },
    {
      "cell_type": "code",
      "source": [
        "df2 = pd.read_csv('/content/df2.csv')\n",
        "df2.head()"
      ],
      "metadata": {
        "colab": {
          "base_uri": "https://localhost:8080/",
          "height": 226
        },
        "id": "8qQ7g64GUU-7",
        "outputId": "8a6848ca-500b-4549-d76f-40b2eb6fc7d6"
      },
      "execution_count": 6,
      "outputs": [
        {
          "output_type": "execute_result",
          "data": {
            "text/plain": [
              "   EmployeeNumber Over18 OverTime  PercentSalaryHike  PerformanceRating  \\\n",
              "0             104      Y      Yes               12.0                3.0   \n",
              "1            1638      Y      Yes               19.0                3.0   \n",
              "2             164      Y       No               19.0                3.0   \n",
              "3             395      Y       No               21.0                4.0   \n",
              "4              53      Y       No               12.0                3.0   \n",
              "\n",
              "   RelationshipSatisfaction  StandardHours  StockOptionLevel  \\\n",
              "0                       3.0           80.0               2.0   \n",
              "1                       4.0           80.0               1.0   \n",
              "2                       3.0           80.0               0.0   \n",
              "3                       4.0           80.0               0.0   \n",
              "4                       3.0           80.0               1.0   \n",
              "\n",
              "   TotalWorkingYears  TrainingTimesLastYear  WorkLifeBalance  YearsAtCompany  \\\n",
              "0               10.0                    1.0              2.0            10.0   \n",
              "1               10.0                    6.0              4.0             5.0   \n",
              "2                5.0                    3.0              2.0             5.0   \n",
              "3                5.0                    3.0              3.0             5.0   \n",
              "4                1.0                    3.0              3.0             1.0   \n",
              "\n",
              "   YearsInCurrentRole  YearsSinceLastPromotion  YearsWithCurrManager  \\\n",
              "0                 8.0                      3.0                   0.0   \n",
              "1                 4.0                      0.0                   2.0   \n",
              "2                 4.0                      4.0                   3.0   \n",
              "3                 3.0                      0.0                   2.0   \n",
              "4                 0.0                      0.0                   0.0   \n",
              "\n",
              "  Attrition  YearlyIncome  \n",
              "0        No       61512.0  \n",
              "1        No       93072.0  \n",
              "2        No       28416.0  \n",
              "3        No       39720.0  \n",
              "4        No       23412.0  "
            ],
            "text/html": [
              "\n",
              "  <div id=\"df-fc0c5732-c685-4aa5-bf80-74ddaf8cfd89\" class=\"colab-df-container\">\n",
              "    <div>\n",
              "<style scoped>\n",
              "    .dataframe tbody tr th:only-of-type {\n",
              "        vertical-align: middle;\n",
              "    }\n",
              "\n",
              "    .dataframe tbody tr th {\n",
              "        vertical-align: top;\n",
              "    }\n",
              "\n",
              "    .dataframe thead th {\n",
              "        text-align: right;\n",
              "    }\n",
              "</style>\n",
              "<table border=\"1\" class=\"dataframe\">\n",
              "  <thead>\n",
              "    <tr style=\"text-align: right;\">\n",
              "      <th></th>\n",
              "      <th>EmployeeNumber</th>\n",
              "      <th>Over18</th>\n",
              "      <th>OverTime</th>\n",
              "      <th>PercentSalaryHike</th>\n",
              "      <th>PerformanceRating</th>\n",
              "      <th>RelationshipSatisfaction</th>\n",
              "      <th>StandardHours</th>\n",
              "      <th>StockOptionLevel</th>\n",
              "      <th>TotalWorkingYears</th>\n",
              "      <th>TrainingTimesLastYear</th>\n",
              "      <th>WorkLifeBalance</th>\n",
              "      <th>YearsAtCompany</th>\n",
              "      <th>YearsInCurrentRole</th>\n",
              "      <th>YearsSinceLastPromotion</th>\n",
              "      <th>YearsWithCurrManager</th>\n",
              "      <th>Attrition</th>\n",
              "      <th>YearlyIncome</th>\n",
              "    </tr>\n",
              "  </thead>\n",
              "  <tbody>\n",
              "    <tr>\n",
              "      <th>0</th>\n",
              "      <td>104</td>\n",
              "      <td>Y</td>\n",
              "      <td>Yes</td>\n",
              "      <td>12.0</td>\n",
              "      <td>3.0</td>\n",
              "      <td>3.0</td>\n",
              "      <td>80.0</td>\n",
              "      <td>2.0</td>\n",
              "      <td>10.0</td>\n",
              "      <td>1.0</td>\n",
              "      <td>2.0</td>\n",
              "      <td>10.0</td>\n",
              "      <td>8.0</td>\n",
              "      <td>3.0</td>\n",
              "      <td>0.0</td>\n",
              "      <td>No</td>\n",
              "      <td>61512.0</td>\n",
              "    </tr>\n",
              "    <tr>\n",
              "      <th>1</th>\n",
              "      <td>1638</td>\n",
              "      <td>Y</td>\n",
              "      <td>Yes</td>\n",
              "      <td>19.0</td>\n",
              "      <td>3.0</td>\n",
              "      <td>4.0</td>\n",
              "      <td>80.0</td>\n",
              "      <td>1.0</td>\n",
              "      <td>10.0</td>\n",
              "      <td>6.0</td>\n",
              "      <td>4.0</td>\n",
              "      <td>5.0</td>\n",
              "      <td>4.0</td>\n",
              "      <td>0.0</td>\n",
              "      <td>2.0</td>\n",
              "      <td>No</td>\n",
              "      <td>93072.0</td>\n",
              "    </tr>\n",
              "    <tr>\n",
              "      <th>2</th>\n",
              "      <td>164</td>\n",
              "      <td>Y</td>\n",
              "      <td>No</td>\n",
              "      <td>19.0</td>\n",
              "      <td>3.0</td>\n",
              "      <td>3.0</td>\n",
              "      <td>80.0</td>\n",
              "      <td>0.0</td>\n",
              "      <td>5.0</td>\n",
              "      <td>3.0</td>\n",
              "      <td>2.0</td>\n",
              "      <td>5.0</td>\n",
              "      <td>4.0</td>\n",
              "      <td>4.0</td>\n",
              "      <td>3.0</td>\n",
              "      <td>No</td>\n",
              "      <td>28416.0</td>\n",
              "    </tr>\n",
              "    <tr>\n",
              "      <th>3</th>\n",
              "      <td>395</td>\n",
              "      <td>Y</td>\n",
              "      <td>No</td>\n",
              "      <td>21.0</td>\n",
              "      <td>4.0</td>\n",
              "      <td>4.0</td>\n",
              "      <td>80.0</td>\n",
              "      <td>0.0</td>\n",
              "      <td>5.0</td>\n",
              "      <td>3.0</td>\n",
              "      <td>3.0</td>\n",
              "      <td>5.0</td>\n",
              "      <td>3.0</td>\n",
              "      <td>0.0</td>\n",
              "      <td>2.0</td>\n",
              "      <td>No</td>\n",
              "      <td>39720.0</td>\n",
              "    </tr>\n",
              "    <tr>\n",
              "      <th>4</th>\n",
              "      <td>53</td>\n",
              "      <td>Y</td>\n",
              "      <td>No</td>\n",
              "      <td>12.0</td>\n",
              "      <td>3.0</td>\n",
              "      <td>3.0</td>\n",
              "      <td>80.0</td>\n",
              "      <td>1.0</td>\n",
              "      <td>1.0</td>\n",
              "      <td>3.0</td>\n",
              "      <td>3.0</td>\n",
              "      <td>1.0</td>\n",
              "      <td>0.0</td>\n",
              "      <td>0.0</td>\n",
              "      <td>0.0</td>\n",
              "      <td>No</td>\n",
              "      <td>23412.0</td>\n",
              "    </tr>\n",
              "  </tbody>\n",
              "</table>\n",
              "</div>\n",
              "    <div class=\"colab-df-buttons\">\n",
              "\n",
              "  <div class=\"colab-df-container\">\n",
              "    <button class=\"colab-df-convert\" onclick=\"convertToInteractive('df-fc0c5732-c685-4aa5-bf80-74ddaf8cfd89')\"\n",
              "            title=\"Convert this dataframe to an interactive table.\"\n",
              "            style=\"display:none;\">\n",
              "\n",
              "  <svg xmlns=\"http://www.w3.org/2000/svg\" height=\"24px\" viewBox=\"0 -960 960 960\">\n",
              "    <path d=\"M120-120v-720h720v720H120Zm60-500h600v-160H180v160Zm220 220h160v-160H400v160Zm0 220h160v-160H400v160ZM180-400h160v-160H180v160Zm440 0h160v-160H620v160ZM180-180h160v-160H180v160Zm440 0h160v-160H620v160Z\"/>\n",
              "  </svg>\n",
              "    </button>\n",
              "\n",
              "  <style>\n",
              "    .colab-df-container {\n",
              "      display:flex;\n",
              "      gap: 12px;\n",
              "    }\n",
              "\n",
              "    .colab-df-convert {\n",
              "      background-color: #E8F0FE;\n",
              "      border: none;\n",
              "      border-radius: 50%;\n",
              "      cursor: pointer;\n",
              "      display: none;\n",
              "      fill: #1967D2;\n",
              "      height: 32px;\n",
              "      padding: 0 0 0 0;\n",
              "      width: 32px;\n",
              "    }\n",
              "\n",
              "    .colab-df-convert:hover {\n",
              "      background-color: #E2EBFA;\n",
              "      box-shadow: 0px 1px 2px rgba(60, 64, 67, 0.3), 0px 1px 3px 1px rgba(60, 64, 67, 0.15);\n",
              "      fill: #174EA6;\n",
              "    }\n",
              "\n",
              "    .colab-df-buttons div {\n",
              "      margin-bottom: 4px;\n",
              "    }\n",
              "\n",
              "    [theme=dark] .colab-df-convert {\n",
              "      background-color: #3B4455;\n",
              "      fill: #D2E3FC;\n",
              "    }\n",
              "\n",
              "    [theme=dark] .colab-df-convert:hover {\n",
              "      background-color: #434B5C;\n",
              "      box-shadow: 0px 1px 3px 1px rgba(0, 0, 0, 0.15);\n",
              "      filter: drop-shadow(0px 1px 2px rgba(0, 0, 0, 0.3));\n",
              "      fill: #FFFFFF;\n",
              "    }\n",
              "  </style>\n",
              "\n",
              "    <script>\n",
              "      const buttonEl =\n",
              "        document.querySelector('#df-fc0c5732-c685-4aa5-bf80-74ddaf8cfd89 button.colab-df-convert');\n",
              "      buttonEl.style.display =\n",
              "        google.colab.kernel.accessAllowed ? 'block' : 'none';\n",
              "\n",
              "      async function convertToInteractive(key) {\n",
              "        const element = document.querySelector('#df-fc0c5732-c685-4aa5-bf80-74ddaf8cfd89');\n",
              "        const dataTable =\n",
              "          await google.colab.kernel.invokeFunction('convertToInteractive',\n",
              "                                                    [key], {});\n",
              "        if (!dataTable) return;\n",
              "\n",
              "        const docLinkHtml = 'Like what you see? Visit the ' +\n",
              "          '<a target=\"_blank\" href=https://colab.research.google.com/notebooks/data_table.ipynb>data table notebook</a>'\n",
              "          + ' to learn more about interactive tables.';\n",
              "        element.innerHTML = '';\n",
              "        dataTable['output_type'] = 'display_data';\n",
              "        await google.colab.output.renderOutput(dataTable, element);\n",
              "        const docLink = document.createElement('div');\n",
              "        docLink.innerHTML = docLinkHtml;\n",
              "        element.appendChild(docLink);\n",
              "      }\n",
              "    </script>\n",
              "  </div>\n",
              "\n",
              "\n",
              "<div id=\"df-76a3b7d2-4ce4-4681-898a-01b90ad5304c\">\n",
              "  <button class=\"colab-df-quickchart\" onclick=\"quickchart('df-76a3b7d2-4ce4-4681-898a-01b90ad5304c')\"\n",
              "            title=\"Suggest charts\"\n",
              "            style=\"display:none;\">\n",
              "\n",
              "<svg xmlns=\"http://www.w3.org/2000/svg\" height=\"24px\"viewBox=\"0 0 24 24\"\n",
              "     width=\"24px\">\n",
              "    <g>\n",
              "        <path d=\"M19 3H5c-1.1 0-2 .9-2 2v14c0 1.1.9 2 2 2h14c1.1 0 2-.9 2-2V5c0-1.1-.9-2-2-2zM9 17H7v-7h2v7zm4 0h-2V7h2v10zm4 0h-2v-4h2v4z\"/>\n",
              "    </g>\n",
              "</svg>\n",
              "  </button>\n",
              "\n",
              "<style>\n",
              "  .colab-df-quickchart {\n",
              "      --bg-color: #E8F0FE;\n",
              "      --fill-color: #1967D2;\n",
              "      --hover-bg-color: #E2EBFA;\n",
              "      --hover-fill-color: #174EA6;\n",
              "      --disabled-fill-color: #AAA;\n",
              "      --disabled-bg-color: #DDD;\n",
              "  }\n",
              "\n",
              "  [theme=dark] .colab-df-quickchart {\n",
              "      --bg-color: #3B4455;\n",
              "      --fill-color: #D2E3FC;\n",
              "      --hover-bg-color: #434B5C;\n",
              "      --hover-fill-color: #FFFFFF;\n",
              "      --disabled-bg-color: #3B4455;\n",
              "      --disabled-fill-color: #666;\n",
              "  }\n",
              "\n",
              "  .colab-df-quickchart {\n",
              "    background-color: var(--bg-color);\n",
              "    border: none;\n",
              "    border-radius: 50%;\n",
              "    cursor: pointer;\n",
              "    display: none;\n",
              "    fill: var(--fill-color);\n",
              "    height: 32px;\n",
              "    padding: 0;\n",
              "    width: 32px;\n",
              "  }\n",
              "\n",
              "  .colab-df-quickchart:hover {\n",
              "    background-color: var(--hover-bg-color);\n",
              "    box-shadow: 0 1px 2px rgba(60, 64, 67, 0.3), 0 1px 3px 1px rgba(60, 64, 67, 0.15);\n",
              "    fill: var(--button-hover-fill-color);\n",
              "  }\n",
              "\n",
              "  .colab-df-quickchart-complete:disabled,\n",
              "  .colab-df-quickchart-complete:disabled:hover {\n",
              "    background-color: var(--disabled-bg-color);\n",
              "    fill: var(--disabled-fill-color);\n",
              "    box-shadow: none;\n",
              "  }\n",
              "\n",
              "  .colab-df-spinner {\n",
              "    border: 2px solid var(--fill-color);\n",
              "    border-color: transparent;\n",
              "    border-bottom-color: var(--fill-color);\n",
              "    animation:\n",
              "      spin 1s steps(1) infinite;\n",
              "  }\n",
              "\n",
              "  @keyframes spin {\n",
              "    0% {\n",
              "      border-color: transparent;\n",
              "      border-bottom-color: var(--fill-color);\n",
              "      border-left-color: var(--fill-color);\n",
              "    }\n",
              "    20% {\n",
              "      border-color: transparent;\n",
              "      border-left-color: var(--fill-color);\n",
              "      border-top-color: var(--fill-color);\n",
              "    }\n",
              "    30% {\n",
              "      border-color: transparent;\n",
              "      border-left-color: var(--fill-color);\n",
              "      border-top-color: var(--fill-color);\n",
              "      border-right-color: var(--fill-color);\n",
              "    }\n",
              "    40% {\n",
              "      border-color: transparent;\n",
              "      border-right-color: var(--fill-color);\n",
              "      border-top-color: var(--fill-color);\n",
              "    }\n",
              "    60% {\n",
              "      border-color: transparent;\n",
              "      border-right-color: var(--fill-color);\n",
              "    }\n",
              "    80% {\n",
              "      border-color: transparent;\n",
              "      border-right-color: var(--fill-color);\n",
              "      border-bottom-color: var(--fill-color);\n",
              "    }\n",
              "    90% {\n",
              "      border-color: transparent;\n",
              "      border-bottom-color: var(--fill-color);\n",
              "    }\n",
              "  }\n",
              "</style>\n",
              "\n",
              "  <script>\n",
              "    async function quickchart(key) {\n",
              "      const quickchartButtonEl =\n",
              "        document.querySelector('#' + key + ' button');\n",
              "      quickchartButtonEl.disabled = true;  // To prevent multiple clicks.\n",
              "      quickchartButtonEl.classList.add('colab-df-spinner');\n",
              "      try {\n",
              "        const charts = await google.colab.kernel.invokeFunction(\n",
              "            'suggestCharts', [key], {});\n",
              "      } catch (error) {\n",
              "        console.error('Error during call to suggestCharts:', error);\n",
              "      }\n",
              "      quickchartButtonEl.classList.remove('colab-df-spinner');\n",
              "      quickchartButtonEl.classList.add('colab-df-quickchart-complete');\n",
              "    }\n",
              "    (() => {\n",
              "      let quickchartButtonEl =\n",
              "        document.querySelector('#df-76a3b7d2-4ce4-4681-898a-01b90ad5304c button');\n",
              "      quickchartButtonEl.style.display =\n",
              "        google.colab.kernel.accessAllowed ? 'block' : 'none';\n",
              "    })();\n",
              "  </script>\n",
              "</div>\n",
              "    </div>\n",
              "  </div>\n"
            ]
          },
          "metadata": {},
          "execution_count": 6
        }
      ]
    },
    {
      "cell_type": "code",
      "source": [
        "df2.shape"
      ],
      "metadata": {
        "colab": {
          "base_uri": "https://localhost:8080/"
        },
        "id": "YONPGlPbUlLw",
        "outputId": "8413aeee-8102-4436-f2cb-4ad495b10e1e"
      },
      "execution_count": 7,
      "outputs": [
        {
          "output_type": "execute_result",
          "data": {
            "text/plain": [
              "(4449, 17)"
            ]
          },
          "metadata": {},
          "execution_count": 7
        }
      ]
    },
    {
      "cell_type": "code",
      "source": [
        "df2.info()"
      ],
      "metadata": {
        "colab": {
          "base_uri": "https://localhost:8080/"
        },
        "id": "SyjNNuOOUnuS",
        "outputId": "63ca1199-3bfa-4ab9-c0bb-3370312623f0"
      },
      "execution_count": 12,
      "outputs": [
        {
          "output_type": "stream",
          "name": "stdout",
          "text": [
            "<class 'pandas.core.frame.DataFrame'>\n",
            "RangeIndex: 4449 entries, 0 to 4448\n",
            "Data columns (total 17 columns):\n",
            " #   Column                    Non-Null Count  Dtype  \n",
            "---  ------                    --------------  -----  \n",
            " 0   EmployeeNumber            4449 non-null   int64  \n",
            " 1   Over18                    4449 non-null   object \n",
            " 2   OverTime                  4449 non-null   object \n",
            " 3   PercentSalaryHike         4449 non-null   float64\n",
            " 4   PerformanceRating         4449 non-null   float64\n",
            " 5   RelationshipSatisfaction  4449 non-null   float64\n",
            " 6   StandardHours             4449 non-null   float64\n",
            " 7   StockOptionLevel          4449 non-null   float64\n",
            " 8   TotalWorkingYears         4449 non-null   float64\n",
            " 9   TrainingTimesLastYear     4449 non-null   float64\n",
            " 10  WorkLifeBalance           4449 non-null   float64\n",
            " 11  YearsAtCompany            4449 non-null   float64\n",
            " 12  YearsInCurrentRole        4449 non-null   float64\n",
            " 13  YearsSinceLastPromotion   4449 non-null   float64\n",
            " 14  YearsWithCurrManager      4449 non-null   float64\n",
            " 15  Attrition                 4302 non-null   object \n",
            " 16  YearlyIncome              4449 non-null   float64\n",
            "dtypes: float64(13), int64(1), object(3)\n",
            "memory usage: 591.0+ KB\n"
          ]
        }
      ]
    },
    {
      "cell_type": "code",
      "source": [
        "df = pd.merge(df1, df2, on='EmployeeNumber')"
      ],
      "metadata": {
        "id": "8wadotpSVVx7"
      },
      "execution_count": 429,
      "outputs": []
    },
    {
      "cell_type": "code",
      "source": [
        "df.shape"
      ],
      "metadata": {
        "colab": {
          "base_uri": "https://localhost:8080/"
        },
        "id": "0kIjlNyaW8k5",
        "outputId": "64538df8-f04a-4311-f869-72b74a08147f"
      },
      "execution_count": 430,
      "outputs": [
        {
          "output_type": "execute_result",
          "data": {
            "text/plain": [
              "(4449, 36)"
            ]
          },
          "metadata": {},
          "execution_count": 430
        }
      ]
    },
    {
      "cell_type": "code",
      "source": [
        "df.info()"
      ],
      "metadata": {
        "colab": {
          "base_uri": "https://localhost:8080/"
        },
        "id": "BvEKWn3TW-ip",
        "outputId": "fbb95d77-fb45-4c1b-ed1e-1a49bac157e7"
      },
      "execution_count": 431,
      "outputs": [
        {
          "output_type": "stream",
          "name": "stdout",
          "text": [
            "<class 'pandas.core.frame.DataFrame'>\n",
            "Int64Index: 4449 entries, 0 to 4448\n",
            "Data columns (total 36 columns):\n",
            " #   Column                    Non-Null Count  Dtype  \n",
            "---  ------                    --------------  -----  \n",
            " 0   EmployeeNumber            4449 non-null   int64  \n",
            " 1   Age                       4449 non-null   float64\n",
            " 2   BusinessTravel            4449 non-null   object \n",
            " 3   DailyRate                 4449 non-null   float64\n",
            " 4   Department                4449 non-null   object \n",
            " 5   DistanceFromHome          4449 non-null   float64\n",
            " 6   Education                 4449 non-null   float64\n",
            " 7   EducationField            4449 non-null   object \n",
            " 8   EmployeeCount             4449 non-null   float64\n",
            " 9   EnvironmentSatisfaction   4449 non-null   float64\n",
            " 10  Gender                    4449 non-null   object \n",
            " 11  HourlyRate                4449 non-null   float64\n",
            " 12  JobInvolvement            4449 non-null   float64\n",
            " 13  JobLevel                  4449 non-null   float64\n",
            " 14  JobRole                   4449 non-null   object \n",
            " 15  JobSatisfaction           4449 non-null   float64\n",
            " 16  MaritalStatus             4449 non-null   object \n",
            " 17  MonthlyIncome             4449 non-null   float64\n",
            " 18  MonthlyRate               4449 non-null   float64\n",
            " 19  NumCompaniesWorked        4449 non-null   float64\n",
            " 20  Over18                    4449 non-null   object \n",
            " 21  OverTime                  4449 non-null   object \n",
            " 22  PercentSalaryHike         4449 non-null   float64\n",
            " 23  PerformanceRating         4449 non-null   float64\n",
            " 24  RelationshipSatisfaction  4449 non-null   float64\n",
            " 25  StandardHours             4449 non-null   float64\n",
            " 26  StockOptionLevel          4449 non-null   float64\n",
            " 27  TotalWorkingYears         4449 non-null   float64\n",
            " 28  TrainingTimesLastYear     4449 non-null   float64\n",
            " 29  WorkLifeBalance           4449 non-null   float64\n",
            " 30  YearsAtCompany            4449 non-null   float64\n",
            " 31  YearsInCurrentRole        4449 non-null   float64\n",
            " 32  YearsSinceLastPromotion   4449 non-null   float64\n",
            " 33  YearsWithCurrManager      4449 non-null   float64\n",
            " 34  Attrition                 4302 non-null   object \n",
            " 35  YearlyIncome              4449 non-null   float64\n",
            "dtypes: float64(26), int64(1), object(9)\n",
            "memory usage: 1.3+ MB\n"
          ]
        }
      ]
    },
    {
      "cell_type": "code",
      "source": [
        "df.head()"
      ],
      "metadata": {
        "colab": {
          "base_uri": "https://localhost:8080/",
          "height": 342
        },
        "id": "hix9dojHYyYA",
        "outputId": "23c15ffb-277a-4f0c-9eb1-3535fb3641f3"
      },
      "execution_count": 432,
      "outputs": [
        {
          "output_type": "execute_result",
          "data": {
            "text/plain": [
              "   EmployeeNumber   Age BusinessTravel  DailyRate              Department  \\\n",
              "0             104  30.0  Travel_Rarely      852.0  Research & Development   \n",
              "1            1638  38.0  Travel_Rarely      397.0  Research & Development   \n",
              "2             164  26.0  Travel_Rarely      841.0  Research & Development   \n",
              "3             395  28.0  Travel_Rarely     1117.0  Research & Development   \n",
              "4              53  35.0  Travel_Rarely      464.0  Research & Development   \n",
              "\n",
              "   DistanceFromHome  Education EducationField  EmployeeCount  \\\n",
              "0               1.0        1.0  Life Sciences            1.0   \n",
              "1               2.0        2.0        Medical            1.0   \n",
              "2               6.0        3.0          Other            1.0   \n",
              "3               8.0        2.0  Life Sciences            1.0   \n",
              "4               4.0        2.0          Other            1.0   \n",
              "\n",
              "   EnvironmentSatisfaction  ... StockOptionLevel  TotalWorkingYears  \\\n",
              "0                      4.0  ...              2.0               10.0   \n",
              "1                      4.0  ...              1.0               10.0   \n",
              "2                      3.0  ...              0.0                5.0   \n",
              "3                      4.0  ...              0.0                5.0   \n",
              "4                      3.0  ...              1.0                1.0   \n",
              "\n",
              "   TrainingTimesLastYear  WorkLifeBalance YearsAtCompany  YearsInCurrentRole  \\\n",
              "0                    1.0              2.0           10.0                 8.0   \n",
              "1                    6.0              4.0            5.0                 4.0   \n",
              "2                    3.0              2.0            5.0                 4.0   \n",
              "3                    3.0              3.0            5.0                 3.0   \n",
              "4                    3.0              3.0            1.0                 0.0   \n",
              "\n",
              "  YearsSinceLastPromotion  YearsWithCurrManager  Attrition  YearlyIncome  \n",
              "0                     3.0                   0.0         No       61512.0  \n",
              "1                     0.0                   2.0         No       93072.0  \n",
              "2                     4.0                   3.0         No       28416.0  \n",
              "3                     0.0                   2.0         No       39720.0  \n",
              "4                     0.0                   0.0         No       23412.0  \n",
              "\n",
              "[5 rows x 36 columns]"
            ],
            "text/html": [
              "\n",
              "  <div id=\"df-c131fe17-93cd-44bd-9886-7efbc06e1459\" class=\"colab-df-container\">\n",
              "    <div>\n",
              "<style scoped>\n",
              "    .dataframe tbody tr th:only-of-type {\n",
              "        vertical-align: middle;\n",
              "    }\n",
              "\n",
              "    .dataframe tbody tr th {\n",
              "        vertical-align: top;\n",
              "    }\n",
              "\n",
              "    .dataframe thead th {\n",
              "        text-align: right;\n",
              "    }\n",
              "</style>\n",
              "<table border=\"1\" class=\"dataframe\">\n",
              "  <thead>\n",
              "    <tr style=\"text-align: right;\">\n",
              "      <th></th>\n",
              "      <th>EmployeeNumber</th>\n",
              "      <th>Age</th>\n",
              "      <th>BusinessTravel</th>\n",
              "      <th>DailyRate</th>\n",
              "      <th>Department</th>\n",
              "      <th>DistanceFromHome</th>\n",
              "      <th>Education</th>\n",
              "      <th>EducationField</th>\n",
              "      <th>EmployeeCount</th>\n",
              "      <th>EnvironmentSatisfaction</th>\n",
              "      <th>...</th>\n",
              "      <th>StockOptionLevel</th>\n",
              "      <th>TotalWorkingYears</th>\n",
              "      <th>TrainingTimesLastYear</th>\n",
              "      <th>WorkLifeBalance</th>\n",
              "      <th>YearsAtCompany</th>\n",
              "      <th>YearsInCurrentRole</th>\n",
              "      <th>YearsSinceLastPromotion</th>\n",
              "      <th>YearsWithCurrManager</th>\n",
              "      <th>Attrition</th>\n",
              "      <th>YearlyIncome</th>\n",
              "    </tr>\n",
              "  </thead>\n",
              "  <tbody>\n",
              "    <tr>\n",
              "      <th>0</th>\n",
              "      <td>104</td>\n",
              "      <td>30.0</td>\n",
              "      <td>Travel_Rarely</td>\n",
              "      <td>852.0</td>\n",
              "      <td>Research &amp; Development</td>\n",
              "      <td>1.0</td>\n",
              "      <td>1.0</td>\n",
              "      <td>Life Sciences</td>\n",
              "      <td>1.0</td>\n",
              "      <td>4.0</td>\n",
              "      <td>...</td>\n",
              "      <td>2.0</td>\n",
              "      <td>10.0</td>\n",
              "      <td>1.0</td>\n",
              "      <td>2.0</td>\n",
              "      <td>10.0</td>\n",
              "      <td>8.0</td>\n",
              "      <td>3.0</td>\n",
              "      <td>0.0</td>\n",
              "      <td>No</td>\n",
              "      <td>61512.0</td>\n",
              "    </tr>\n",
              "    <tr>\n",
              "      <th>1</th>\n",
              "      <td>1638</td>\n",
              "      <td>38.0</td>\n",
              "      <td>Travel_Rarely</td>\n",
              "      <td>397.0</td>\n",
              "      <td>Research &amp; Development</td>\n",
              "      <td>2.0</td>\n",
              "      <td>2.0</td>\n",
              "      <td>Medical</td>\n",
              "      <td>1.0</td>\n",
              "      <td>4.0</td>\n",
              "      <td>...</td>\n",
              "      <td>1.0</td>\n",
              "      <td>10.0</td>\n",
              "      <td>6.0</td>\n",
              "      <td>4.0</td>\n",
              "      <td>5.0</td>\n",
              "      <td>4.0</td>\n",
              "      <td>0.0</td>\n",
              "      <td>2.0</td>\n",
              "      <td>No</td>\n",
              "      <td>93072.0</td>\n",
              "    </tr>\n",
              "    <tr>\n",
              "      <th>2</th>\n",
              "      <td>164</td>\n",
              "      <td>26.0</td>\n",
              "      <td>Travel_Rarely</td>\n",
              "      <td>841.0</td>\n",
              "      <td>Research &amp; Development</td>\n",
              "      <td>6.0</td>\n",
              "      <td>3.0</td>\n",
              "      <td>Other</td>\n",
              "      <td>1.0</td>\n",
              "      <td>3.0</td>\n",
              "      <td>...</td>\n",
              "      <td>0.0</td>\n",
              "      <td>5.0</td>\n",
              "      <td>3.0</td>\n",
              "      <td>2.0</td>\n",
              "      <td>5.0</td>\n",
              "      <td>4.0</td>\n",
              "      <td>4.0</td>\n",
              "      <td>3.0</td>\n",
              "      <td>No</td>\n",
              "      <td>28416.0</td>\n",
              "    </tr>\n",
              "    <tr>\n",
              "      <th>3</th>\n",
              "      <td>395</td>\n",
              "      <td>28.0</td>\n",
              "      <td>Travel_Rarely</td>\n",
              "      <td>1117.0</td>\n",
              "      <td>Research &amp; Development</td>\n",
              "      <td>8.0</td>\n",
              "      <td>2.0</td>\n",
              "      <td>Life Sciences</td>\n",
              "      <td>1.0</td>\n",
              "      <td>4.0</td>\n",
              "      <td>...</td>\n",
              "      <td>0.0</td>\n",
              "      <td>5.0</td>\n",
              "      <td>3.0</td>\n",
              "      <td>3.0</td>\n",
              "      <td>5.0</td>\n",
              "      <td>3.0</td>\n",
              "      <td>0.0</td>\n",
              "      <td>2.0</td>\n",
              "      <td>No</td>\n",
              "      <td>39720.0</td>\n",
              "    </tr>\n",
              "    <tr>\n",
              "      <th>4</th>\n",
              "      <td>53</td>\n",
              "      <td>35.0</td>\n",
              "      <td>Travel_Rarely</td>\n",
              "      <td>464.0</td>\n",
              "      <td>Research &amp; Development</td>\n",
              "      <td>4.0</td>\n",
              "      <td>2.0</td>\n",
              "      <td>Other</td>\n",
              "      <td>1.0</td>\n",
              "      <td>3.0</td>\n",
              "      <td>...</td>\n",
              "      <td>1.0</td>\n",
              "      <td>1.0</td>\n",
              "      <td>3.0</td>\n",
              "      <td>3.0</td>\n",
              "      <td>1.0</td>\n",
              "      <td>0.0</td>\n",
              "      <td>0.0</td>\n",
              "      <td>0.0</td>\n",
              "      <td>No</td>\n",
              "      <td>23412.0</td>\n",
              "    </tr>\n",
              "  </tbody>\n",
              "</table>\n",
              "<p>5 rows × 36 columns</p>\n",
              "</div>\n",
              "    <div class=\"colab-df-buttons\">\n",
              "\n",
              "  <div class=\"colab-df-container\">\n",
              "    <button class=\"colab-df-convert\" onclick=\"convertToInteractive('df-c131fe17-93cd-44bd-9886-7efbc06e1459')\"\n",
              "            title=\"Convert this dataframe to an interactive table.\"\n",
              "            style=\"display:none;\">\n",
              "\n",
              "  <svg xmlns=\"http://www.w3.org/2000/svg\" height=\"24px\" viewBox=\"0 -960 960 960\">\n",
              "    <path d=\"M120-120v-720h720v720H120Zm60-500h600v-160H180v160Zm220 220h160v-160H400v160Zm0 220h160v-160H400v160ZM180-400h160v-160H180v160Zm440 0h160v-160H620v160ZM180-180h160v-160H180v160Zm440 0h160v-160H620v160Z\"/>\n",
              "  </svg>\n",
              "    </button>\n",
              "\n",
              "  <style>\n",
              "    .colab-df-container {\n",
              "      display:flex;\n",
              "      gap: 12px;\n",
              "    }\n",
              "\n",
              "    .colab-df-convert {\n",
              "      background-color: #E8F0FE;\n",
              "      border: none;\n",
              "      border-radius: 50%;\n",
              "      cursor: pointer;\n",
              "      display: none;\n",
              "      fill: #1967D2;\n",
              "      height: 32px;\n",
              "      padding: 0 0 0 0;\n",
              "      width: 32px;\n",
              "    }\n",
              "\n",
              "    .colab-df-convert:hover {\n",
              "      background-color: #E2EBFA;\n",
              "      box-shadow: 0px 1px 2px rgba(60, 64, 67, 0.3), 0px 1px 3px 1px rgba(60, 64, 67, 0.15);\n",
              "      fill: #174EA6;\n",
              "    }\n",
              "\n",
              "    .colab-df-buttons div {\n",
              "      margin-bottom: 4px;\n",
              "    }\n",
              "\n",
              "    [theme=dark] .colab-df-convert {\n",
              "      background-color: #3B4455;\n",
              "      fill: #D2E3FC;\n",
              "    }\n",
              "\n",
              "    [theme=dark] .colab-df-convert:hover {\n",
              "      background-color: #434B5C;\n",
              "      box-shadow: 0px 1px 3px 1px rgba(0, 0, 0, 0.15);\n",
              "      filter: drop-shadow(0px 1px 2px rgba(0, 0, 0, 0.3));\n",
              "      fill: #FFFFFF;\n",
              "    }\n",
              "  </style>\n",
              "\n",
              "    <script>\n",
              "      const buttonEl =\n",
              "        document.querySelector('#df-c131fe17-93cd-44bd-9886-7efbc06e1459 button.colab-df-convert');\n",
              "      buttonEl.style.display =\n",
              "        google.colab.kernel.accessAllowed ? 'block' : 'none';\n",
              "\n",
              "      async function convertToInteractive(key) {\n",
              "        const element = document.querySelector('#df-c131fe17-93cd-44bd-9886-7efbc06e1459');\n",
              "        const dataTable =\n",
              "          await google.colab.kernel.invokeFunction('convertToInteractive',\n",
              "                                                    [key], {});\n",
              "        if (!dataTable) return;\n",
              "\n",
              "        const docLinkHtml = 'Like what you see? Visit the ' +\n",
              "          '<a target=\"_blank\" href=https://colab.research.google.com/notebooks/data_table.ipynb>data table notebook</a>'\n",
              "          + ' to learn more about interactive tables.';\n",
              "        element.innerHTML = '';\n",
              "        dataTable['output_type'] = 'display_data';\n",
              "        await google.colab.output.renderOutput(dataTable, element);\n",
              "        const docLink = document.createElement('div');\n",
              "        docLink.innerHTML = docLinkHtml;\n",
              "        element.appendChild(docLink);\n",
              "      }\n",
              "    </script>\n",
              "  </div>\n",
              "\n",
              "\n",
              "<div id=\"df-455b6387-1555-41fc-8456-8692e06b3d87\">\n",
              "  <button class=\"colab-df-quickchart\" onclick=\"quickchart('df-455b6387-1555-41fc-8456-8692e06b3d87')\"\n",
              "            title=\"Suggest charts\"\n",
              "            style=\"display:none;\">\n",
              "\n",
              "<svg xmlns=\"http://www.w3.org/2000/svg\" height=\"24px\"viewBox=\"0 0 24 24\"\n",
              "     width=\"24px\">\n",
              "    <g>\n",
              "        <path d=\"M19 3H5c-1.1 0-2 .9-2 2v14c0 1.1.9 2 2 2h14c1.1 0 2-.9 2-2V5c0-1.1-.9-2-2-2zM9 17H7v-7h2v7zm4 0h-2V7h2v10zm4 0h-2v-4h2v4z\"/>\n",
              "    </g>\n",
              "</svg>\n",
              "  </button>\n",
              "\n",
              "<style>\n",
              "  .colab-df-quickchart {\n",
              "      --bg-color: #E8F0FE;\n",
              "      --fill-color: #1967D2;\n",
              "      --hover-bg-color: #E2EBFA;\n",
              "      --hover-fill-color: #174EA6;\n",
              "      --disabled-fill-color: #AAA;\n",
              "      --disabled-bg-color: #DDD;\n",
              "  }\n",
              "\n",
              "  [theme=dark] .colab-df-quickchart {\n",
              "      --bg-color: #3B4455;\n",
              "      --fill-color: #D2E3FC;\n",
              "      --hover-bg-color: #434B5C;\n",
              "      --hover-fill-color: #FFFFFF;\n",
              "      --disabled-bg-color: #3B4455;\n",
              "      --disabled-fill-color: #666;\n",
              "  }\n",
              "\n",
              "  .colab-df-quickchart {\n",
              "    background-color: var(--bg-color);\n",
              "    border: none;\n",
              "    border-radius: 50%;\n",
              "    cursor: pointer;\n",
              "    display: none;\n",
              "    fill: var(--fill-color);\n",
              "    height: 32px;\n",
              "    padding: 0;\n",
              "    width: 32px;\n",
              "  }\n",
              "\n",
              "  .colab-df-quickchart:hover {\n",
              "    background-color: var(--hover-bg-color);\n",
              "    box-shadow: 0 1px 2px rgba(60, 64, 67, 0.3), 0 1px 3px 1px rgba(60, 64, 67, 0.15);\n",
              "    fill: var(--button-hover-fill-color);\n",
              "  }\n",
              "\n",
              "  .colab-df-quickchart-complete:disabled,\n",
              "  .colab-df-quickchart-complete:disabled:hover {\n",
              "    background-color: var(--disabled-bg-color);\n",
              "    fill: var(--disabled-fill-color);\n",
              "    box-shadow: none;\n",
              "  }\n",
              "\n",
              "  .colab-df-spinner {\n",
              "    border: 2px solid var(--fill-color);\n",
              "    border-color: transparent;\n",
              "    border-bottom-color: var(--fill-color);\n",
              "    animation:\n",
              "      spin 1s steps(1) infinite;\n",
              "  }\n",
              "\n",
              "  @keyframes spin {\n",
              "    0% {\n",
              "      border-color: transparent;\n",
              "      border-bottom-color: var(--fill-color);\n",
              "      border-left-color: var(--fill-color);\n",
              "    }\n",
              "    20% {\n",
              "      border-color: transparent;\n",
              "      border-left-color: var(--fill-color);\n",
              "      border-top-color: var(--fill-color);\n",
              "    }\n",
              "    30% {\n",
              "      border-color: transparent;\n",
              "      border-left-color: var(--fill-color);\n",
              "      border-top-color: var(--fill-color);\n",
              "      border-right-color: var(--fill-color);\n",
              "    }\n",
              "    40% {\n",
              "      border-color: transparent;\n",
              "      border-right-color: var(--fill-color);\n",
              "      border-top-color: var(--fill-color);\n",
              "    }\n",
              "    60% {\n",
              "      border-color: transparent;\n",
              "      border-right-color: var(--fill-color);\n",
              "    }\n",
              "    80% {\n",
              "      border-color: transparent;\n",
              "      border-right-color: var(--fill-color);\n",
              "      border-bottom-color: var(--fill-color);\n",
              "    }\n",
              "    90% {\n",
              "      border-color: transparent;\n",
              "      border-bottom-color: var(--fill-color);\n",
              "    }\n",
              "  }\n",
              "</style>\n",
              "\n",
              "  <script>\n",
              "    async function quickchart(key) {\n",
              "      const quickchartButtonEl =\n",
              "        document.querySelector('#' + key + ' button');\n",
              "      quickchartButtonEl.disabled = true;  // To prevent multiple clicks.\n",
              "      quickchartButtonEl.classList.add('colab-df-spinner');\n",
              "      try {\n",
              "        const charts = await google.colab.kernel.invokeFunction(\n",
              "            'suggestCharts', [key], {});\n",
              "      } catch (error) {\n",
              "        console.error('Error during call to suggestCharts:', error);\n",
              "      }\n",
              "      quickchartButtonEl.classList.remove('colab-df-spinner');\n",
              "      quickchartButtonEl.classList.add('colab-df-quickchart-complete');\n",
              "    }\n",
              "    (() => {\n",
              "      let quickchartButtonEl =\n",
              "        document.querySelector('#df-455b6387-1555-41fc-8456-8692e06b3d87 button');\n",
              "      quickchartButtonEl.style.display =\n",
              "        google.colab.kernel.accessAllowed ? 'block' : 'none';\n",
              "    })();\n",
              "  </script>\n",
              "</div>\n",
              "    </div>\n",
              "  </div>\n"
            ]
          },
          "metadata": {},
          "execution_count": 432
        }
      ]
    },
    {
      "cell_type": "code",
      "source": [
        "df.Attrition.unique()"
      ],
      "metadata": {
        "colab": {
          "base_uri": "https://localhost:8080/"
        },
        "id": "c2WnJAwHd3iY",
        "outputId": "e86278b3-e31a-40f0-8703-08c9db60894c"
      },
      "execution_count": 433,
      "outputs": [
        {
          "output_type": "execute_result",
          "data": {
            "text/plain": [
              "array(['No', 'Yes', nan], dtype=object)"
            ]
          },
          "metadata": {},
          "execution_count": 433
        }
      ]
    },
    {
      "cell_type": "code",
      "source": [
        "df = df.dropna(subset=['Attrition'])"
      ],
      "metadata": {
        "id": "9RBYfqO9ePa5"
      },
      "execution_count": 434,
      "outputs": []
    },
    {
      "cell_type": "code",
      "source": [
        "df.Attrition.unique()"
      ],
      "metadata": {
        "colab": {
          "base_uri": "https://localhost:8080/"
        },
        "id": "RDLTgfFdfegQ",
        "outputId": "50d83545-e8eb-41e5-ac2d-b860cd49b8ae"
      },
      "execution_count": 435,
      "outputs": [
        {
          "output_type": "execute_result",
          "data": {
            "text/plain": [
              "array(['No', 'Yes'], dtype=object)"
            ]
          },
          "metadata": {},
          "execution_count": 435
        }
      ]
    },
    {
      "cell_type": "code",
      "source": [
        "df.shape"
      ],
      "metadata": {
        "colab": {
          "base_uri": "https://localhost:8080/"
        },
        "id": "gelkSxbmfoEX",
        "outputId": "19ec536a-a5e9-46cd-e663-f325d4c70311"
      },
      "execution_count": 436,
      "outputs": [
        {
          "output_type": "execute_result",
          "data": {
            "text/plain": [
              "(4302, 36)"
            ]
          },
          "metadata": {},
          "execution_count": 436
        }
      ]
    },
    {
      "cell_type": "code",
      "source": [
        "Attrition_dict = {'No':0, 'Yes':1}\n",
        "df['Attrition']=df['Attrition'].map(Attrition_dict)"
      ],
      "metadata": {
        "colab": {
          "base_uri": "https://localhost:8080/"
        },
        "id": "hxR6vgIvnA9e",
        "outputId": "01cf0fce-c4f2-4230-a817-1e417df8d83f"
      },
      "execution_count": 437,
      "outputs": [
        {
          "output_type": "stream",
          "name": "stderr",
          "text": [
            "<ipython-input-437-dc7ff77ac07e>:2: SettingWithCopyWarning:\n",
            "\n",
            "\n",
            "A value is trying to be set on a copy of a slice from a DataFrame.\n",
            "Try using .loc[row_indexer,col_indexer] = value instead\n",
            "\n",
            "See the caveats in the documentation: https://pandas.pydata.org/pandas-docs/stable/user_guide/indexing.html#returning-a-view-versus-a-copy\n",
            "\n"
          ]
        }
      ]
    },
    {
      "cell_type": "code",
      "source": [
        "df.Attrition.unique()"
      ],
      "metadata": {
        "colab": {
          "base_uri": "https://localhost:8080/"
        },
        "id": "a1OtRwBYnF7c",
        "outputId": "fb31f0fa-8730-44b6-abec-fef32c860bec"
      },
      "execution_count": 438,
      "outputs": [
        {
          "output_type": "execute_result",
          "data": {
            "text/plain": [
              "array([0, 1])"
            ]
          },
          "metadata": {},
          "execution_count": 438
        }
      ]
    },
    {
      "cell_type": "code",
      "source": [
        "df.Age.unique()"
      ],
      "metadata": {
        "colab": {
          "base_uri": "https://localhost:8080/"
        },
        "id": "iDrLu-uGfret",
        "outputId": "a2b4a115-7998-4878-beab-64ddc5497662"
      },
      "execution_count": 439,
      "outputs": [
        {
          "output_type": "execute_result",
          "data": {
            "text/plain": [
              "array([  30.,   38.,   26.,   28.,   35.,   34.,   32.,   42.,   40.,\n",
              "         48.,   39.,   18.,   43.,   21.,   53.,   45.,   29.,   33.,\n",
              "         41.,   24.,   37.,   50.,   36.,   52.,   47.,   31.,   49.,\n",
              "         54.,   44.,   22.,   46.,   27.,   55.,   59.,   25.,   23.,\n",
              "         56.,   20.,   60.,   51.,   58.,   19.,   57., 8825., 3628.,\n",
              "       6287., 9330., 1107., 4454., 9155., 9890., 1189., 9195., 9014.,\n",
              "       1136., 5582., 2404., 1541., 4510., 4322., 4988., 8388., 2530.,\n",
              "       8901., 2852., 2459., 2982., 4973., 8534., 8314., 4130., 4328.,\n",
              "       7952., 8699., 3147., 8889., 3871., 9531., 8167., 5257., 8136.,\n",
              "       7390., 2993., 5672., 5933., 5614., 5007., 3095., 9219., 6749.,\n",
              "       4515., 6715., 1141., 8949., 3636., 4805., 5959., 9384., 8042.,\n",
              "       1423., 7056., 5116., 2667., 8703., 1126., 9612., 7845., 6998.,\n",
              "       1788., 6727., 5377., 5565., 4558., 6506., 4591., 7662., 6510.,\n",
              "       4985., 9581., 2095., 2275., 6399., 4935., 2698., 7617., 9661.,\n",
              "       4834., 2242., 1915., 3226., 7924., 9529., 8326., 1578., 8560.,\n",
              "       9078., 6429., 9243., 2186., 2888., 6210., 3388., 2423., 6025.,\n",
              "       1530., 7017., 4137., 5852., 4744., 7147., 7963., 2972., 5997.,\n",
              "       3626., 8744., 2637., 4880., 4330., 2641., 2882., 5215., 7015.,\n",
              "       8365., 6032., 5034., 2280., 4553., 3469., 8237., 8097., 3281.,\n",
              "       6703., 2012., 9866., 1775., 5402., 9159., 3437., 8823.])"
            ]
          },
          "metadata": {},
          "execution_count": 439
        }
      ]
    },
    {
      "cell_type": "code",
      "source": [
        "df = df[df['Age'] <= 100]"
      ],
      "metadata": {
        "id": "Nr3Z8FcBkClP"
      },
      "execution_count": 440,
      "outputs": []
    },
    {
      "cell_type": "code",
      "source": [
        "df.Age.unique()"
      ],
      "metadata": {
        "colab": {
          "base_uri": "https://localhost:8080/"
        },
        "id": "goiPXjJ6kHM5",
        "outputId": "fec26bfc-f894-4ae7-82a6-e7a7caa633c5"
      },
      "execution_count": 441,
      "outputs": [
        {
          "output_type": "execute_result",
          "data": {
            "text/plain": [
              "array([30., 38., 26., 28., 35., 34., 32., 42., 40., 48., 39., 18., 43.,\n",
              "       21., 53., 45., 29., 33., 41., 24., 37., 50., 36., 52., 47., 31.,\n",
              "       49., 54., 44., 22., 46., 27., 55., 59., 25., 23., 56., 20., 60.,\n",
              "       51., 58., 19., 57.])"
            ]
          },
          "metadata": {},
          "execution_count": 441
        }
      ]
    },
    {
      "cell_type": "code",
      "source": [
        "df.BusinessTravel.unique()"
      ],
      "metadata": {
        "colab": {
          "base_uri": "https://localhost:8080/"
        },
        "id": "UNkfyuQ_giUF",
        "outputId": "10413bf8-1cd5-4927-fe29-cf5316fc001d"
      },
      "execution_count": 442,
      "outputs": [
        {
          "output_type": "execute_result",
          "data": {
            "text/plain": [
              "array(['Travel_Rarely', 'Travel_Frequently', 'Non-Travel'], dtype=object)"
            ]
          },
          "metadata": {},
          "execution_count": 442
        }
      ]
    },
    {
      "cell_type": "code",
      "source": [
        "df = df.join(pd.get_dummies(df[\"BusinessTravel\"], drop_first=True)).drop(\"BusinessTravel\", axis=1)"
      ],
      "metadata": {
        "id": "3BGELHQeoXIL"
      },
      "execution_count": 443,
      "outputs": []
    },
    {
      "cell_type": "code",
      "source": [
        "df.columns"
      ],
      "metadata": {
        "colab": {
          "base_uri": "https://localhost:8080/"
        },
        "id": "roylKf33uhhH",
        "outputId": "19856ff2-26db-44d9-829a-eac1a268dde0"
      },
      "execution_count": 444,
      "outputs": [
        {
          "output_type": "execute_result",
          "data": {
            "text/plain": [
              "Index(['EmployeeNumber', 'Age', 'DailyRate', 'Department', 'DistanceFromHome',\n",
              "       'Education', 'EducationField', 'EmployeeCount',\n",
              "       'EnvironmentSatisfaction', 'Gender', 'HourlyRate', 'JobInvolvement',\n",
              "       'JobLevel', 'JobRole', 'JobSatisfaction', 'MaritalStatus',\n",
              "       'MonthlyIncome', 'MonthlyRate', 'NumCompaniesWorked', 'Over18',\n",
              "       'OverTime', 'PercentSalaryHike', 'PerformanceRating',\n",
              "       'RelationshipSatisfaction', 'StandardHours', 'StockOptionLevel',\n",
              "       'TotalWorkingYears', 'TrainingTimesLastYear', 'WorkLifeBalance',\n",
              "       'YearsAtCompany', 'YearsInCurrentRole', 'YearsSinceLastPromotion',\n",
              "       'YearsWithCurrManager', 'Attrition', 'YearlyIncome',\n",
              "       'Travel_Frequently', 'Travel_Rarely'],\n",
              "      dtype='object')"
            ]
          },
          "metadata": {},
          "execution_count": 444
        }
      ]
    },
    {
      "cell_type": "code",
      "source": [
        "df.DailyRate.unique()"
      ],
      "metadata": {
        "colab": {
          "base_uri": "https://localhost:8080/"
        },
        "id": "4DVODkXChdBj",
        "outputId": "cc7cc375-3be3-4918-ecf1-472b8143dd4b"
      },
      "execution_count": 445,
      "outputs": [
        {
          "output_type": "execute_result",
          "data": {
            "text/plain": [
              "array([ 852.,  397.,  841., 1117.,  464., 1107., 1018.,  269.,  296.,\n",
              "        989.,  855., 1181.,  895.,  827.,  977.,  544.,  244.,  995.,\n",
              "       1343., 1282.,  153.,  280.,  404., 1265.,  252., 1496.,  306.,\n",
              "        128.,  529.,  553.,  572.,  482.,  471.,  509.,  130.,  506.,\n",
              "        329.,  367., 1219.,  746., 1322.,  969., 1271., 1158.,  688.,\n",
              "        319.,  371., 1336.,  107.,  448.,  359.,  625., 1017.,  835.,\n",
              "       1050.,  523., 1064., 1128.,  928., 1319.,  932.,  809., 1376.,\n",
              "        253.,  336.,  884., 1385.,  945.,  118., 1231.,  426.,  737.,\n",
              "       1442.,  853.,  557.,  377.,  616., 1398., 1138.,  531.,  138.,\n",
              "       1377., 1240., 1400., 1001., 1082., 1171.,  136.,  218.,  452.,\n",
              "       1397., 1192.,  944.,  408., 1040., 1329., 1416., 1125., 1144.,\n",
              "        442., 1157.,  438.,  147.,  140.,  240.,  202., 1297.,  486.,\n",
              "       1146.,  150., 1404., 1206., 1172.,  771., 1167.,  441., 1141.,\n",
              "        715.,  891.,  282., 1425., 1371.,  170.,  650., 1212.,  638.,\n",
              "       1255., 1099., 1222.,  199.,  116., 1296., 1294.,  769.,  548.,\n",
              "        738.,  933.,  167., 1174.,  304.,  477.,  607.,  991., 1277.,\n",
              "        318., 1332.,  967.,  311., 1015.,  618.,  994., 1311.,  144.,\n",
              "       1055.,  530.,  330.,  508.,  593., 1242.,  430.,  718., 1349.,\n",
              "        663.,  696., 1303.,  970.,  573.,  678., 1221.,  924., 1456.,\n",
              "       1130., 1223.,  301.,  848.,  370., 1232., 1225., 1234.,  228.,\n",
              "        481.,  754., 1375.,  201.,  645., 1070.,  791.,  836., 1485.,\n",
              "       1339., 1379.,  267.,  355.,  376.,  334.,  516.,  641.,  763.,\n",
              "        185., 1356., 1153., 1480.,  316.,  705.,  427., 1094.,  264.,\n",
              "        560., 1441.,  168.,  216.,  431.,  867.,  735., 1142.,  556.,\n",
              "        192.,  119.,  247.,  248.,  129.,  630., 1252., 1300.,  604.,\n",
              "        289., 1420., 1041., 1112.,  897.,  111., 1413., 1355.,  833.,\n",
              "       1366.,  721.,  243.,  672., 1076.,  669., 1445.,  134., 1275.,\n",
              "        501.,  383.,  983., 1251.,  655.,  673.,  555., 1193.,  691.,\n",
              "       1091., 1448.,  369.,  310., 1402.,  662.,  781., 1380.,  703.,\n",
              "        591.,  806.,  458.,  342., 1333.,  263.,  845., 1358.,  141.,\n",
              "        883.,  542., 1370.,  428.,  566., 1313.,  279.,  217., 1431.,\n",
              "        390.,  142.,  574., 1434., 1467., 1009.,  447., 1258.,  571.,\n",
              "        163.,  906., 1421., 1354., 1302.,  406., 1199., 1382., 1259.,\n",
              "       1474., 1126., 1137.,  589., 1045.,  105.,  626.,  829., 1272.,\n",
              "        146.,  796.,  179.,  812., 1033.,  500., 1454., 1084.,  490.,\n",
              "       1127.,  345.,  258., 1378.,  697.,  682., 1092.,  971.,  699.,\n",
              "       1005., 1154.,  131.,  583.,  905.,  617., 1168., 1451.,  896.,\n",
              "       1236.,  189.,  750.,  224.,  636.,  504., 1179.,  343., 1361.,\n",
              "        534.,  869.,  285., 1162.,  195., 1443.,  322.,  878.,  621.,\n",
              "       1075., 1217., 1204.,  188.,  979.,  821.,  174., 1280.,  480.,\n",
              "       1449., 1182.,  437., 1429.,  676., 1274., 1079.,  277., 1089.,\n",
              "        256., 1238.,  783.,  391.,  661.,  613., 1029.,  976.,  605.,\n",
              "       1066.,  436., 1396.,  194.,  121.,  419.,  755.,  288.,  920.,\n",
              "        959.,  352.,  921., 1103.,  251., 1344., 1283.,  657., 1038.,\n",
              "        541.,  911.,  410.,  775.,  528.,  177.,  472., 1312.,  117.,\n",
              "        563.,  957.,  271.,  546.,  241.,  675.,  360., 1427.,  694.,\n",
              "       1309.,  172., 1411.,  964.,  470.,  722.,  628.,  155., 1054.,\n",
              "        182., 1463., 1440.,  871.,  337.,  692.,  465.,  693.,  654.,\n",
              "        443., 1353., 1405., 1131., 1459.,  309.,  422., 1134., 1085.,\n",
              "        587., 1342.,  413., 1218., 1452.,  109.,  575.,  440.,  507.,\n",
              "        164.,  433.,  469.,  592.,  601.,  415.,  294.,  986.,  611.,\n",
              "        894.,  581., 1357.,  832.,  299., 1276., 1462., 1120.,  788.,\n",
              "       1479.,  552.,  684., 1200.,  219., 1202.,  807., 1122., 1469.,\n",
              "       1188., 1351.,  950., 1093.,  286.,  535.,  254.,  786.,  956.,\n",
              "        790.,  804.,  559.,  713.,  205., 1490., 1243., 1210.,  882.,\n",
              "        723., 1105.,  879., 1136.,  954.,  200.,  466.,  350., 1053.,\n",
              "        489., 1291.,  594.,  685.,  840., 1389., 1305.,  913.,  373.,\n",
              "        585.,  862.,  652., 1034., 1320.,  203., 1063.,  106., 1334.,\n",
              "        265.,  635., 1097.,  603., 1115., 1194.,  702.,  154., 1475.,\n",
              "        210.,  708.,  711., 1306.,  792., 1180.,  379.,  505.,  982.,\n",
              "        949.,  931., 1207., 1216.,  644.,  938.,  741.,  303.,  887.,\n",
              "        392., 1492., 1470., 1327., 1062.,  332.,  922., 1246.,  325.,\n",
              "       1323.,  748., 1109.,  580.,  135., 1245.,  666.,  538., 1184.,\n",
              "        429.,  157.,  462.,  602.,  885.,  300., 1465.,  532.,  562.,\n",
              "        946.,  990.,  805., 1090.,  599.,  903.,  648.,  929., 1450.,\n",
              "        432.,  797.,  364.,  143.,  880.,  362.,  287.,  817.,  849.,\n",
              "        634.,  890.,  161., 1253., 1368., 1178.,  770.,  302., 1318.,\n",
              "       1023.,  152.,  160.,  665.,  930.,  868.,  268.,  943., 1150.,\n",
              "        966., 1069.,  598.,  180.,  266.,  992.,  793., 1108., 1387.,\n",
              "       1211.,  104.,  204., 1189.,  499.,  326.,  181.,  156., 1198.,\n",
              "        384.,  238.,  561.,  115.,  671., 1266.,  658., 1124., 1035.,\n",
              "        942.,  394., 1330.,  819.,  492.,  461.,  374.,  881.,  667.,\n",
              "        813.,  683.,  670.,  527.,  726.,  799.,  498.,  543.,  727.,\n",
              "       1230.,  307.,  866.,  230., 1031., 1239.,  801., 1365.,  176.,\n",
              "        125., 1214., 1288.,  457.,  996., 1495., 1476.,  478.,  999.,\n",
              "        196.,  608.,  902.,  558.,  444., 1229.,  145.,  586., 1372.,\n",
              "        600.,  916.,  917.,  736.,  640., 1488., 1176.,  395., 1337.,\n",
              "       1256., 1321., 1059., 1384.,  981.,  102., 1383.,  759.,  660.,\n",
              "        317., 1213.,  740., 1116.,  728., 1145., 1403., 1473., 1362.,\n",
              "       1278.,  549.,  756.,  439.,  536., 1315.,  720.,  629.,  889.,\n",
              "        588.,  974.,  622.,  830.,  734., 1151.,  211., 1195., 1482.,\n",
              "        810., 1030., 1395., 1457.,  313., 1010.,  328.,  706., 1086.,\n",
              "       1262.,  511.,  526., 1422., 1254.,  646.,  664., 1360.,  207.,\n",
              "        632.,  984.,  261.,  193., 1268., 1098., 1261.,  818.,  401.,\n",
              "        333., 1249.,  857., 1224.,  955.,  446., 1436., 1316.,  590.,\n",
              "       1418.,  567.,  802.,  249., 1410.,  290.,  704.,  305.,  525.,\n",
              "       1423.,  854.,  926.,  823., 1326., 1012., 1273.,  798., 1037.,\n",
              "       1065.,  479., 1186.,  988.,  953.,  234.,  468., 1046.,  653.,\n",
              "        341., 1247., 1269.,  824.,  619., 1287.,  782.,  937.,  120.,\n",
              "        232., 1123., 1308.,  132.,  859.,  968., 1003.,  483.,  495.,\n",
              "       1102.,  524., 1346.,  346., 1169., 1439., 1328.,  467., 1401.,\n",
              "        103.,  335., 1325.,  206.,  918.,  772., 1435.,  231.,  570.,\n",
              "       1052.,  496.,  314.,  405., 1444.,  474.,  414., 1498.,  412.,\n",
              "       1391.,  124., 1464., 1083.,  776., 1096.,  647., 1220.,  766.,\n",
              "        939., 1373.,  237.,  381.,  488.,  459., 1394., 1392.,  642.,\n",
              "        773.,  760., 1111.,  719., 1369.,  674.,  363., 1147., 1324.,\n",
              "        717.,  828., 1132.,  898.,  515.,  935., 1499.,  874.,  888.,\n",
              "       1002.,  584., 1381.,  148.,  689.,  975.,  213.,  725.,  208.,\n",
              "        582.])"
            ]
          },
          "metadata": {},
          "execution_count": 445
        }
      ]
    },
    {
      "cell_type": "code",
      "source": [
        "df.Department.unique()"
      ],
      "metadata": {
        "colab": {
          "base_uri": "https://localhost:8080/"
        },
        "id": "DptTl38rhlMJ",
        "outputId": "5dbe6560-14f4-4a01-8055-e4b50bbc12a6"
      },
      "execution_count": 446,
      "outputs": [
        {
          "output_type": "execute_result",
          "data": {
            "text/plain": [
              "array(['Research & Development', 'Human Resources', 'Sales'], dtype=object)"
            ]
          },
          "metadata": {},
          "execution_count": 446
        }
      ]
    },
    {
      "cell_type": "code",
      "source": [
        "df = df.join(pd.get_dummies(df[\"Department\"], drop_first=True)).drop(\"Department\", axis=1)"
      ],
      "metadata": {
        "id": "hoRWziATvAbX"
      },
      "execution_count": 447,
      "outputs": []
    },
    {
      "cell_type": "code",
      "source": [
        "df.columns"
      ],
      "metadata": {
        "colab": {
          "base_uri": "https://localhost:8080/"
        },
        "id": "GNg9AGaYvUsw",
        "outputId": "5caa87af-6025-4a5e-9ee7-3e86863e6757"
      },
      "execution_count": 448,
      "outputs": [
        {
          "output_type": "execute_result",
          "data": {
            "text/plain": [
              "Index(['EmployeeNumber', 'Age', 'DailyRate', 'DistanceFromHome', 'Education',\n",
              "       'EducationField', 'EmployeeCount', 'EnvironmentSatisfaction', 'Gender',\n",
              "       'HourlyRate', 'JobInvolvement', 'JobLevel', 'JobRole',\n",
              "       'JobSatisfaction', 'MaritalStatus', 'MonthlyIncome', 'MonthlyRate',\n",
              "       'NumCompaniesWorked', 'Over18', 'OverTime', 'PercentSalaryHike',\n",
              "       'PerformanceRating', 'RelationshipSatisfaction', 'StandardHours',\n",
              "       'StockOptionLevel', 'TotalWorkingYears', 'TrainingTimesLastYear',\n",
              "       'WorkLifeBalance', 'YearsAtCompany', 'YearsInCurrentRole',\n",
              "       'YearsSinceLastPromotion', 'YearsWithCurrManager', 'Attrition',\n",
              "       'YearlyIncome', 'Travel_Frequently', 'Travel_Rarely',\n",
              "       'Research & Development', 'Sales'],\n",
              "      dtype='object')"
            ]
          },
          "metadata": {},
          "execution_count": 448
        }
      ]
    },
    {
      "cell_type": "code",
      "source": [
        "df.DistanceFromHome.unique()"
      ],
      "metadata": {
        "colab": {
          "base_uri": "https://localhost:8080/"
        },
        "id": "pzdLxMomhtaf",
        "outputId": "bada91b3-ddc4-41a0-b600-1f0e21b437e8"
      },
      "execution_count": 449,
      "outputs": [
        {
          "output_type": "execute_result",
          "data": {
            "text/plain": [
              "array([1.00000e+00, 2.00000e+00, 6.00000e+00, 8.00000e+00, 4.00000e+00,\n",
              "       9.00000e+00, 3.00000e+00, 5.00000e+00, 2.20000e+01, 2.60000e+01,\n",
              "       1.00000e+01, 1.20000e+01, 7.00000e+00, 2.50000e+01, 2.90000e+01,\n",
              "       1.80000e+01, 2.40000e+01, 2.80000e+01, 1.60000e+01, 1.90000e+01,\n",
              "       1.30000e+01, 2.00000e+01, 1.10000e+01, 2.30000e+01, 2.10000e+01,\n",
              "       1.50000e+01, 1.40000e+01, 1.70000e+01, 2.70000e+01, 3.02984e+05,\n",
              "       6.29986e+05, 8.87003e+05, 9.18326e+05, 9.97422e+05, 8.52749e+05,\n",
              "       6.79106e+05, 3.04698e+05, 7.72706e+05, 2.59089e+05, 9.92947e+05,\n",
              "       2.53620e+05, 8.86117e+05, 8.60358e+05, 5.47308e+05, 1.93929e+05,\n",
              "       9.63929e+05, 8.09361e+05, 1.40916e+05, 8.25100e+05, 4.18093e+05,\n",
              "       7.16417e+05, 5.46730e+05, 2.42839e+05, 7.43173e+05, 1.50886e+05,\n",
              "       9.46786e+05, 6.07220e+05, 5.60047e+05, 8.40183e+05, 5.88585e+05,\n",
              "       4.79723e+05, 3.02239e+05, 9.99590e+05, 1.35607e+05, 3.27380e+05,\n",
              "       5.16738e+05, 3.80120e+05, 2.89540e+05, 4.70836e+05, 6.36415e+05,\n",
              "       1.47920e+05, 6.49517e+05, 6.88939e+05, 5.49089e+05, 9.33385e+05,\n",
              "       4.47546e+05, 7.82402e+05, 8.25855e+05, 4.10963e+05, 1.43454e+05,\n",
              "       6.67984e+05, 8.15600e+05, 3.32529e+05, 5.35366e+05, 6.92089e+05,\n",
              "       3.67120e+05, 2.66645e+05, 2.49717e+05, 1.67566e+05, 1.38023e+05,\n",
              "       5.53235e+05, 1.23628e+05, 1.02637e+05, 3.81469e+05, 2.64889e+05,\n",
              "       3.76075e+05, 2.74206e+05, 6.47087e+05, 2.29109e+05, 7.65855e+05,\n",
              "       9.75446e+05, 9.24937e+05, 9.34448e+05, 6.32834e+05, 4.21069e+05,\n",
              "       4.58858e+05, 2.98194e+05, 9.93161e+05, 6.86501e+05, 5.35160e+05,\n",
              "       1.61435e+05, 1.19377e+05, 2.79509e+05, 2.37547e+05, 5.89265e+05,\n",
              "       2.70050e+05, 3.03600e+05, 8.95533e+05, 9.71787e+05, 2.15000e+05,\n",
              "       5.85976e+05, 2.04179e+05, 6.78387e+05, 4.82211e+05, 7.55441e+05,\n",
              "       7.10269e+05, 2.20024e+05, 5.06379e+05, 8.53938e+05, 9.32144e+05,\n",
              "       9.68203e+05, 2.77125e+05, 5.36402e+05, 3.39434e+05, 1.02583e+05,\n",
              "       1.87830e+05, 5.88809e+05, 4.49359e+05, 6.25879e+05, 3.91908e+05,\n",
              "       6.33867e+05, 4.54423e+05, 7.40696e+05, 5.60263e+05, 7.33295e+05,\n",
              "       3.08024e+05, 8.12485e+05, 7.07484e+05, 4.77232e+05, 7.92796e+05,\n",
              "       4.11835e+05, 2.49810e+05, 3.23510e+05, 8.83970e+05, 3.22329e+05,\n",
              "       4.90741e+05, 6.64579e+05, 9.18785e+05])"
            ]
          },
          "metadata": {},
          "execution_count": 449
        }
      ]
    },
    {
      "cell_type": "code",
      "source": [
        "df.Education.unique()"
      ],
      "metadata": {
        "colab": {
          "base_uri": "https://localhost:8080/"
        },
        "id": "-axFlAm_hznO",
        "outputId": "9e3e53af-834d-4c07-c849-b77ab6c60d02"
      },
      "execution_count": 450,
      "outputs": [
        {
          "output_type": "execute_result",
          "data": {
            "text/plain": [
              "array([1., 2., 3., 4., 5.])"
            ]
          },
          "metadata": {},
          "execution_count": 450
        }
      ]
    },
    {
      "cell_type": "code",
      "source": [
        "df.EducationField.unique()"
      ],
      "metadata": {
        "colab": {
          "base_uri": "https://localhost:8080/"
        },
        "id": "tsmI1lPuh8TH",
        "outputId": "52e3cc60-bea2-44c7-9240-6ed5191ba559"
      },
      "execution_count": 451,
      "outputs": [
        {
          "output_type": "execute_result",
          "data": {
            "text/plain": [
              "array(['Life Sciences', 'Medical', 'Other', 'Technical Degree',\n",
              "       'Marketing', 'Human Resources'], dtype=object)"
            ]
          },
          "metadata": {},
          "execution_count": 451
        }
      ]
    },
    {
      "cell_type": "code",
      "source": [
        "df = df.join(pd.get_dummies(df[\"EducationField\"], drop_first=True)).drop(\"EducationField\", axis=1)"
      ],
      "metadata": {
        "id": "pZ9u_lUCvnqL"
      },
      "execution_count": 452,
      "outputs": []
    },
    {
      "cell_type": "code",
      "source": [
        "df.columns"
      ],
      "metadata": {
        "colab": {
          "base_uri": "https://localhost:8080/"
        },
        "id": "_B7CiITPv-kj",
        "outputId": "b27c8c5b-2f39-4475-d0a0-a64eade91a34"
      },
      "execution_count": 453,
      "outputs": [
        {
          "output_type": "execute_result",
          "data": {
            "text/plain": [
              "Index(['EmployeeNumber', 'Age', 'DailyRate', 'DistanceFromHome', 'Education',\n",
              "       'EmployeeCount', 'EnvironmentSatisfaction', 'Gender', 'HourlyRate',\n",
              "       'JobInvolvement', 'JobLevel', 'JobRole', 'JobSatisfaction',\n",
              "       'MaritalStatus', 'MonthlyIncome', 'MonthlyRate', 'NumCompaniesWorked',\n",
              "       'Over18', 'OverTime', 'PercentSalaryHike', 'PerformanceRating',\n",
              "       'RelationshipSatisfaction', 'StandardHours', 'StockOptionLevel',\n",
              "       'TotalWorkingYears', 'TrainingTimesLastYear', 'WorkLifeBalance',\n",
              "       'YearsAtCompany', 'YearsInCurrentRole', 'YearsSinceLastPromotion',\n",
              "       'YearsWithCurrManager', 'Attrition', 'YearlyIncome',\n",
              "       'Travel_Frequently', 'Travel_Rarely', 'Research & Development', 'Sales',\n",
              "       'Life Sciences', 'Marketing', 'Medical', 'Other', 'Technical Degree'],\n",
              "      dtype='object')"
            ]
          },
          "metadata": {},
          "execution_count": 453
        }
      ]
    },
    {
      "cell_type": "code",
      "source": [
        "df.EmployeeCount.unique()"
      ],
      "metadata": {
        "colab": {
          "base_uri": "https://localhost:8080/"
        },
        "id": "dr8wOvmIiFX8",
        "outputId": "78c69eee-8ac2-4f6e-f0c9-559c3d4b1603"
      },
      "execution_count": 454,
      "outputs": [
        {
          "output_type": "execute_result",
          "data": {
            "text/plain": [
              "array([1.])"
            ]
          },
          "metadata": {},
          "execution_count": 454
        }
      ]
    },
    {
      "cell_type": "code",
      "source": [
        "df = df.drop(['EmployeeCount'] ,axis=1)"
      ],
      "metadata": {
        "id": "VZfct6rbkg_N"
      },
      "execution_count": 455,
      "outputs": []
    },
    {
      "cell_type": "code",
      "source": [
        "df.EnvironmentSatisfaction.unique()"
      ],
      "metadata": {
        "colab": {
          "base_uri": "https://localhost:8080/"
        },
        "id": "L9NKTUEyigwI",
        "outputId": "9f463fed-d46a-4a29-a409-8b0347329985"
      },
      "execution_count": 456,
      "outputs": [
        {
          "output_type": "execute_result",
          "data": {
            "text/plain": [
              "array([4., 3., 1., 2.])"
            ]
          },
          "metadata": {},
          "execution_count": 456
        }
      ]
    },
    {
      "cell_type": "code",
      "source": [
        "df.Gender.unique()"
      ],
      "metadata": {
        "colab": {
          "base_uri": "https://localhost:8080/"
        },
        "id": "RA__ELTsimIs",
        "outputId": "8c374888-b383-4953-cd3b-e61bc5aab4a5"
      },
      "execution_count": 457,
      "outputs": [
        {
          "output_type": "execute_result",
          "data": {
            "text/plain": [
              "array(['Male', 'Female'], dtype=object)"
            ]
          },
          "metadata": {},
          "execution_count": 457
        }
      ]
    },
    {
      "cell_type": "code",
      "source": [
        "Gender_dict = {'Male':0, 'Female':1}\n",
        "df['Gender']=df['Gender'].map(Gender_dict)"
      ],
      "metadata": {
        "id": "OIiqLUwDmgo1"
      },
      "execution_count": 458,
      "outputs": []
    },
    {
      "cell_type": "code",
      "source": [
        "df.Gender.unique()"
      ],
      "metadata": {
        "colab": {
          "base_uri": "https://localhost:8080/"
        },
        "id": "ggkmu2QsmnlU",
        "outputId": "5ce930d4-24c6-487e-8652-7f6c31252654"
      },
      "execution_count": 459,
      "outputs": [
        {
          "output_type": "execute_result",
          "data": {
            "text/plain": [
              "array([0, 1])"
            ]
          },
          "metadata": {},
          "execution_count": 459
        }
      ]
    },
    {
      "cell_type": "code",
      "source": [
        "df.HourlyRate.unique()"
      ],
      "metadata": {
        "colab": {
          "base_uri": "https://localhost:8080/"
        },
        "id": "V5vDeQsHiwj6",
        "outputId": "a9bbd399-ea10-4cf6-9f9a-0dfa715596d9"
      },
      "execution_count": 460,
      "outputs": [
        {
          "output_type": "execute_result",
          "data": {
            "text/plain": [
              "array([ 55.,  54.,  46.,  66.,  75.,  52.,  39.,  56.,  33.,  82.,  45.,\n",
              "        70.,  97.,  77.,  40.,  49.,  58.,  73.,  43.,  98.,  95.,  41.,\n",
              "       100.,  84.,  79.,  74.,  90.,  96.,  91.,  32.,  88.,  86.,  76.,\n",
              "        35.,  94.,  83.,  65.,  42.,  31.,  51.,  36.,  80.,  69.,  99.,\n",
              "        48.,  89.,  81.,  61.,  92.,  59.,  44.,  47.,  53.,  34.,  60.,\n",
              "        78.,  30.,  68.,  37.,  87.,  50.,  63.,  72.,  38.,  71.,  64.,\n",
              "        85.,  57.,  67.,  62.,  93.])"
            ]
          },
          "metadata": {},
          "execution_count": 460
        }
      ]
    },
    {
      "cell_type": "code",
      "source": [
        "df.JobInvolvement.unique()"
      ],
      "metadata": {
        "colab": {
          "base_uri": "https://localhost:8080/"
        },
        "id": "YSGQB_bti71A",
        "outputId": "cf6f8169-6543-44fd-9e6f-b9e807d8ed50"
      },
      "execution_count": 461,
      "outputs": [
        {
          "output_type": "execute_result",
          "data": {
            "text/plain": [
              "array([2., 3., 1., 4.])"
            ]
          },
          "metadata": {},
          "execution_count": 461
        }
      ]
    },
    {
      "cell_type": "code",
      "source": [
        "df.JobLevel.unique()"
      ],
      "metadata": {
        "colab": {
          "base_uri": "https://localhost:8080/"
        },
        "id": "vfUYi9gljFbu",
        "outputId": "0162ad37-8220-4df8-bc03-25de0df8c5b1"
      },
      "execution_count": 462,
      "outputs": [
        {
          "output_type": "execute_result",
          "data": {
            "text/plain": [
              "array([2., 3., 1., 5., 4.])"
            ]
          },
          "metadata": {},
          "execution_count": 462
        }
      ]
    },
    {
      "cell_type": "code",
      "source": [
        "df.JobRole.unique()"
      ],
      "metadata": {
        "colab": {
          "base_uri": "https://localhost:8080/"
        },
        "id": "cC4sy4OvjKIz",
        "outputId": "8d12fd88-5b81-41a9-b4bd-fc56bb18cbf1"
      },
      "execution_count": 463,
      "outputs": [
        {
          "output_type": "execute_result",
          "data": {
            "text/plain": [
              "array(['Laboratory Technician', 'Manufacturing Director',\n",
              "       'Research Scientist', 'Human Resources', 'Research Director',\n",
              "       'Sales Representative', 'Manager', 'Healthcare Representative',\n",
              "       'Sales Executive'], dtype=object)"
            ]
          },
          "metadata": {},
          "execution_count": 463
        }
      ]
    },
    {
      "cell_type": "code",
      "source": [
        "df = df.join(pd.get_dummies(df[\"JobRole\"], drop_first=True)).drop(\"JobRole\", axis=1)"
      ],
      "metadata": {
        "id": "asB30sQ-zR_q"
      },
      "execution_count": 464,
      "outputs": []
    },
    {
      "cell_type": "code",
      "source": [
        "df.columns"
      ],
      "metadata": {
        "colab": {
          "base_uri": "https://localhost:8080/"
        },
        "id": "3IRhLKGmzWBA",
        "outputId": "cfda610e-7694-457e-d49f-8cb0e69799c6"
      },
      "execution_count": 465,
      "outputs": [
        {
          "output_type": "execute_result",
          "data": {
            "text/plain": [
              "Index(['EmployeeNumber', 'Age', 'DailyRate', 'DistanceFromHome', 'Education',\n",
              "       'EnvironmentSatisfaction', 'Gender', 'HourlyRate', 'JobInvolvement',\n",
              "       'JobLevel', 'JobSatisfaction', 'MaritalStatus', 'MonthlyIncome',\n",
              "       'MonthlyRate', 'NumCompaniesWorked', 'Over18', 'OverTime',\n",
              "       'PercentSalaryHike', 'PerformanceRating', 'RelationshipSatisfaction',\n",
              "       'StandardHours', 'StockOptionLevel', 'TotalWorkingYears',\n",
              "       'TrainingTimesLastYear', 'WorkLifeBalance', 'YearsAtCompany',\n",
              "       'YearsInCurrentRole', 'YearsSinceLastPromotion', 'YearsWithCurrManager',\n",
              "       'Attrition', 'YearlyIncome', 'Travel_Frequently', 'Travel_Rarely',\n",
              "       'Research & Development', 'Sales', 'Life Sciences', 'Marketing',\n",
              "       'Medical', 'Other', 'Technical Degree', 'Human Resources',\n",
              "       'Laboratory Technician', 'Manager', 'Manufacturing Director',\n",
              "       'Research Director', 'Research Scientist', 'Sales Executive',\n",
              "       'Sales Representative'],\n",
              "      dtype='object')"
            ]
          },
          "metadata": {},
          "execution_count": 465
        }
      ]
    },
    {
      "cell_type": "code",
      "source": [
        "df.JobSatisfaction.unique()"
      ],
      "metadata": {
        "colab": {
          "base_uri": "https://localhost:8080/"
        },
        "id": "TknCInBxjUvf",
        "outputId": "eaecfb2c-0d6e-4687-ecb5-f8fc3f50274d"
      },
      "execution_count": 466,
      "outputs": [
        {
          "output_type": "execute_result",
          "data": {
            "text/plain": [
              "array([4., 3., 2., 1.])"
            ]
          },
          "metadata": {},
          "execution_count": 466
        }
      ]
    },
    {
      "cell_type": "code",
      "source": [
        "df.MaritalStatus.unique()"
      ],
      "metadata": {
        "colab": {
          "base_uri": "https://localhost:8080/"
        },
        "id": "XgBpknOx4jPT",
        "outputId": "e0010be3-701e-459f-c127-77d31f7c2383"
      },
      "execution_count": 467,
      "outputs": [
        {
          "output_type": "execute_result",
          "data": {
            "text/plain": [
              "array(['Married', 'Single', 'Divorced'], dtype=object)"
            ]
          },
          "metadata": {},
          "execution_count": 467
        }
      ]
    },
    {
      "cell_type": "code",
      "source": [
        "df = df.join(pd.get_dummies(df[\"MaritalStatus\"], drop_first=True)).drop(\"MaritalStatus\", axis=1)"
      ],
      "metadata": {
        "id": "7_NqFFlR6E3V"
      },
      "execution_count": 468,
      "outputs": []
    },
    {
      "cell_type": "code",
      "source": [
        "df.columns"
      ],
      "metadata": {
        "colab": {
          "base_uri": "https://localhost:8080/"
        },
        "id": "5QC0nLJ76OZW",
        "outputId": "f06cc18c-2407-4f77-bd9f-c81ce2fa6ba6"
      },
      "execution_count": 469,
      "outputs": [
        {
          "output_type": "execute_result",
          "data": {
            "text/plain": [
              "Index(['EmployeeNumber', 'Age', 'DailyRate', 'DistanceFromHome', 'Education',\n",
              "       'EnvironmentSatisfaction', 'Gender', 'HourlyRate', 'JobInvolvement',\n",
              "       'JobLevel', 'JobSatisfaction', 'MonthlyIncome', 'MonthlyRate',\n",
              "       'NumCompaniesWorked', 'Over18', 'OverTime', 'PercentSalaryHike',\n",
              "       'PerformanceRating', 'RelationshipSatisfaction', 'StandardHours',\n",
              "       'StockOptionLevel', 'TotalWorkingYears', 'TrainingTimesLastYear',\n",
              "       'WorkLifeBalance', 'YearsAtCompany', 'YearsInCurrentRole',\n",
              "       'YearsSinceLastPromotion', 'YearsWithCurrManager', 'Attrition',\n",
              "       'YearlyIncome', 'Travel_Frequently', 'Travel_Rarely',\n",
              "       'Research & Development', 'Sales', 'Life Sciences', 'Marketing',\n",
              "       'Medical', 'Other', 'Technical Degree', 'Human Resources',\n",
              "       'Laboratory Technician', 'Manager', 'Manufacturing Director',\n",
              "       'Research Director', 'Research Scientist', 'Sales Executive',\n",
              "       'Sales Representative', 'Married', 'Single'],\n",
              "      dtype='object')"
            ]
          },
          "metadata": {},
          "execution_count": 469
        }
      ]
    },
    {
      "cell_type": "code",
      "source": [
        "df.MonthlyIncome.unique()"
      ],
      "metadata": {
        "colab": {
          "base_uri": "https://localhost:8080/"
        },
        "id": "o3xkxNxD4m_-",
        "outputId": "772d38db-fc76-4788-8a4e-917c992c6dfc"
      },
      "execution_count": 470,
      "outputs": [
        {
          "output_type": "execute_result",
          "data": {
            "text/plain": [
              "array([ 5126.,  7756.,  2368., ..., 13570., 13348.,  3708.])"
            ]
          },
          "metadata": {},
          "execution_count": 470
        }
      ]
    },
    {
      "cell_type": "code",
      "source": [
        "df.MonthlyRate.unique()"
      ],
      "metadata": {
        "colab": {
          "base_uri": "https://localhost:8080/"
        },
        "id": "Fg2ww2vL4pCo",
        "outputId": "fefb2ea8-5b97-44ea-bc76-66c1fefeea05"
      },
      "execution_count": 471,
      "outputs": [
        {
          "output_type": "execute_result",
          "data": {
            "text/plain": [
              "array([15998., 14199., 23300., ...,  5640., 14842.,  2104.])"
            ]
          },
          "metadata": {},
          "execution_count": 471
        }
      ]
    },
    {
      "cell_type": "code",
      "source": [
        "df.NumCompaniesWorked.unique()"
      ],
      "metadata": {
        "colab": {
          "base_uri": "https://localhost:8080/"
        },
        "id": "66_uBQNg4q-g",
        "outputId": "1417ed8d-60b7-47d7-adff-1cdf9869acc1"
      },
      "execution_count": 472,
      "outputs": [
        {
          "output_type": "execute_result",
          "data": {
            "text/plain": [
              "array([1., 3., 0., 5., 9., 4., 2., 6., 7., 8.])"
            ]
          },
          "metadata": {},
          "execution_count": 472
        }
      ]
    },
    {
      "cell_type": "code",
      "source": [
        "df.Over18.unique()"
      ],
      "metadata": {
        "colab": {
          "base_uri": "https://localhost:8080/"
        },
        "id": "gWExkwk84qS9",
        "outputId": "66fcc1f8-f34c-41c9-fe65-2a66a3da82f3"
      },
      "execution_count": 473,
      "outputs": [
        {
          "output_type": "execute_result",
          "data": {
            "text/plain": [
              "array(['Y'], dtype=object)"
            ]
          },
          "metadata": {},
          "execution_count": 473
        }
      ]
    },
    {
      "cell_type": "code",
      "source": [
        "df = df.drop(\"Over18\", axis=1)"
      ],
      "metadata": {
        "id": "jtmlfrBH6t6B"
      },
      "execution_count": 474,
      "outputs": []
    },
    {
      "cell_type": "code",
      "source": [
        "df.columns"
      ],
      "metadata": {
        "colab": {
          "base_uri": "https://localhost:8080/"
        },
        "id": "ZPX707qI76fj",
        "outputId": "414c2891-0f65-40ee-b6ba-8f98be94aeaf"
      },
      "execution_count": 475,
      "outputs": [
        {
          "output_type": "execute_result",
          "data": {
            "text/plain": [
              "Index(['EmployeeNumber', 'Age', 'DailyRate', 'DistanceFromHome', 'Education',\n",
              "       'EnvironmentSatisfaction', 'Gender', 'HourlyRate', 'JobInvolvement',\n",
              "       'JobLevel', 'JobSatisfaction', 'MonthlyIncome', 'MonthlyRate',\n",
              "       'NumCompaniesWorked', 'OverTime', 'PercentSalaryHike',\n",
              "       'PerformanceRating', 'RelationshipSatisfaction', 'StandardHours',\n",
              "       'StockOptionLevel', 'TotalWorkingYears', 'TrainingTimesLastYear',\n",
              "       'WorkLifeBalance', 'YearsAtCompany', 'YearsInCurrentRole',\n",
              "       'YearsSinceLastPromotion', 'YearsWithCurrManager', 'Attrition',\n",
              "       'YearlyIncome', 'Travel_Frequently', 'Travel_Rarely',\n",
              "       'Research & Development', 'Sales', 'Life Sciences', 'Marketing',\n",
              "       'Medical', 'Other', 'Technical Degree', 'Human Resources',\n",
              "       'Laboratory Technician', 'Manager', 'Manufacturing Director',\n",
              "       'Research Director', 'Research Scientist', 'Sales Executive',\n",
              "       'Sales Representative', 'Married', 'Single'],\n",
              "      dtype='object')"
            ]
          },
          "metadata": {},
          "execution_count": 475
        }
      ]
    },
    {
      "cell_type": "code",
      "source": [
        "df.OverTime.unique()"
      ],
      "metadata": {
        "colab": {
          "base_uri": "https://localhost:8080/"
        },
        "id": "2iZQEMOa4prC",
        "outputId": "0b92b5a4-e42e-4008-a1e8-f03afcd1bc69"
      },
      "execution_count": 476,
      "outputs": [
        {
          "output_type": "execute_result",
          "data": {
            "text/plain": [
              "array(['Yes', 'No'], dtype=object)"
            ]
          },
          "metadata": {},
          "execution_count": 476
        }
      ]
    },
    {
      "cell_type": "code",
      "source": [
        "df[\"OverTime\"] = [1 if x == \"Yes\" else 0 for x in df[\"OverTime\"]]"
      ],
      "metadata": {
        "id": "fD7426Qh6oGe"
      },
      "execution_count": 477,
      "outputs": []
    },
    {
      "cell_type": "code",
      "source": [
        "df.OverTime.unique()"
      ],
      "metadata": {
        "colab": {
          "base_uri": "https://localhost:8080/"
        },
        "id": "tja9cZsc9BXi",
        "outputId": "ac5feb87-4771-433f-df84-3c59ffbf4c25"
      },
      "execution_count": 478,
      "outputs": [
        {
          "output_type": "execute_result",
          "data": {
            "text/plain": [
              "array([1, 0])"
            ]
          },
          "metadata": {},
          "execution_count": 478
        }
      ]
    },
    {
      "cell_type": "code",
      "source": [
        "df.PercentSalaryHike.unique()"
      ],
      "metadata": {
        "colab": {
          "base_uri": "https://localhost:8080/"
        },
        "id": "WV-VHBd949PS",
        "outputId": "a7cb8321-8b38-473c-c757-d94ed2ce9dea"
      },
      "execution_count": 479,
      "outputs": [
        {
          "output_type": "execute_result",
          "data": {
            "text/plain": [
              "array([12., 19., 21., 15., 11., 16., 14., 13., 18., 23., 22., 17., 20.,\n",
              "       25., 24.])"
            ]
          },
          "metadata": {},
          "execution_count": 479
        }
      ]
    },
    {
      "cell_type": "code",
      "source": [
        "df.PerformanceRating.unique()"
      ],
      "metadata": {
        "colab": {
          "base_uri": "https://localhost:8080/"
        },
        "id": "MGPgowAH5Cgk",
        "outputId": "3f76858c-f4e7-499e-947b-088f85aba885"
      },
      "execution_count": 480,
      "outputs": [
        {
          "output_type": "execute_result",
          "data": {
            "text/plain": [
              "array([3., 4.])"
            ]
          },
          "metadata": {},
          "execution_count": 480
        }
      ]
    },
    {
      "cell_type": "code",
      "source": [
        "df.RelationshipSatisfaction.unique()"
      ],
      "metadata": {
        "colab": {
          "base_uri": "https://localhost:8080/"
        },
        "id": "rYOaRSQ05ID1",
        "outputId": "9489b3d7-cf2a-40d8-a395-6c4a8e2c8b98"
      },
      "execution_count": 481,
      "outputs": [
        {
          "output_type": "execute_result",
          "data": {
            "text/plain": [
              "array([3., 4., 2., 1.])"
            ]
          },
          "metadata": {},
          "execution_count": 481
        }
      ]
    },
    {
      "cell_type": "code",
      "source": [
        "df.StandardHours.unique()"
      ],
      "metadata": {
        "colab": {
          "base_uri": "https://localhost:8080/"
        },
        "id": "iNXm7S-e099l",
        "outputId": "b1bab685-4453-442d-b307-6b502330cfa1"
      },
      "execution_count": 482,
      "outputs": [
        {
          "output_type": "execute_result",
          "data": {
            "text/plain": [
              "array([80.])"
            ]
          },
          "metadata": {},
          "execution_count": 482
        }
      ]
    },
    {
      "cell_type": "code",
      "source": [
        "df=df.drop(['StandardHours'],axis=1)"
      ],
      "metadata": {
        "id": "XHNvc7D21Crw"
      },
      "execution_count": 483,
      "outputs": []
    },
    {
      "cell_type": "code",
      "source": [
        "df.StockOptionLevel.unique()"
      ],
      "metadata": {
        "colab": {
          "base_uri": "https://localhost:8080/"
        },
        "id": "s474H59o1F9h",
        "outputId": "0c0d6fba-dbf5-4222-f957-95d1905bd746"
      },
      "execution_count": 484,
      "outputs": [
        {
          "output_type": "execute_result",
          "data": {
            "text/plain": [
              "array([2., 1., 0., 3.])"
            ]
          },
          "metadata": {},
          "execution_count": 484
        }
      ]
    },
    {
      "cell_type": "code",
      "source": [
        "df.TotalWorkingYears.unique()"
      ],
      "metadata": {
        "colab": {
          "base_uri": "https://localhost:8080/"
        },
        "id": "eO5T42Qs1QN0",
        "outputId": "d8e9ddfc-0152-4341-8479-e3831fcd3f66"
      },
      "execution_count": 485,
      "outputs": [
        {
          "output_type": "execute_result",
          "data": {
            "text/plain": [
              "array([1.000e+01, 5.000e+00, 1.000e+00, 2.000e+00, 3.000e+00, 2.100e+01,\n",
              "       1.100e+01, 1.900e+01, 0.000e+00, 6.000e+00, 2.600e+01, 9.000e+00,\n",
              "       1.400e+01, 1.700e+01, 2.500e+01, 1.200e+01, 1.300e+01, 7.000e+00,\n",
              "       8.000e+00, 1.800e+01, 2.800e+01, 1.500e+01, 2.000e+01, 2.300e+01,\n",
              "       2.400e+01, 1.600e+01, 3.700e+01, 2.200e+01, 4.000e+00, 3.000e+01,\n",
              "       3.200e+01, 3.100e+01, 2.700e+01, 2.900e+01, 3.500e+01, 3.800e+01,\n",
              "       3.400e+01, 4.000e+01, 3.600e+01, 3.300e+01, 6.618e+03, 3.808e+03,\n",
              "       2.764e+03, 4.370e+03, 1.086e+03, 5.377e+03, 8.821e+03, 9.536e+03,\n",
              "       1.822e+03, 4.740e+03, 3.625e+03, 8.183e+03, 8.890e+03, 9.670e+03,\n",
              "       9.815e+03, 4.506e+03, 1.442e+03, 4.031e+03, 4.196e+03, 2.450e+03,\n",
              "       6.907e+03, 8.095e+03, 4.409e+03, 5.482e+03, 9.714e+03, 8.746e+03,\n",
              "       7.825e+03, 6.463e+03, 1.123e+03, 2.194e+03, 4.607e+03, 7.635e+03,\n",
              "       9.501e+03, 8.270e+03, 5.787e+03, 4.958e+03, 3.077e+03, 8.575e+03,\n",
              "       2.270e+03, 4.176e+03, 1.143e+03, 5.257e+03, 6.100e+03, 8.929e+03,\n",
              "       7.173e+03, 9.311e+03, 5.407e+03, 3.201e+03, 2.230e+03, 7.349e+03,\n",
              "       2.651e+03, 6.666e+03, 2.976e+03, 4.969e+03, 1.953e+03, 6.345e+03,\n",
              "       8.311e+03, 6.990e+03, 6.502e+03, 8.583e+03, 4.640e+03, 4.132e+03,\n",
              "       9.939e+03, 5.789e+03, 2.027e+03, 7.864e+03, 4.795e+03, 8.062e+03,\n",
              "       6.456e+03, 9.905e+03, 9.781e+03, 6.563e+03, 9.198e+03, 3.778e+03,\n",
              "       5.772e+03, 9.626e+03, 3.360e+03, 3.089e+03, 5.629e+03, 5.742e+03,\n",
              "       2.730e+03, 5.463e+03, 1.337e+03, 9.495e+03, 2.091e+03, 8.052e+03,\n",
              "       5.670e+03, 6.606e+03, 5.002e+03, 8.888e+03, 9.327e+03, 8.323e+03,\n",
              "       8.622e+03, 1.735e+03, 6.314e+03, 6.566e+03, 8.957e+03, 8.334e+03,\n",
              "       7.843e+03, 5.676e+03, 2.041e+03, 5.505e+03, 3.311e+03, 8.665e+03,\n",
              "       2.820e+03, 2.352e+03, 9.794e+03, 4.264e+03, 7.053e+03, 5.644e+03,\n",
              "       6.652e+03, 6.167e+03, 4.694e+03, 2.300e+03, 1.016e+03, 7.267e+03,\n",
              "       7.515e+03, 1.758e+03, 7.680e+03, 3.417e+03, 3.206e+03, 7.089e+03,\n",
              "       7.762e+03, 5.649e+03, 9.606e+03, 2.439e+03, 2.604e+03, 9.432e+03,\n",
              "       7.223e+03, 8.104e+03, 3.879e+03, 1.220e+03])"
            ]
          },
          "metadata": {},
          "execution_count": 485
        }
      ]
    },
    {
      "cell_type": "code",
      "source": [
        "df=df[df['TotalWorkingYears']<= 100]"
      ],
      "metadata": {
        "id": "j7C_p4231Xix"
      },
      "execution_count": 486,
      "outputs": []
    },
    {
      "cell_type": "code",
      "source": [
        "df.TotalWorkingYears.unique()"
      ],
      "metadata": {
        "colab": {
          "base_uri": "https://localhost:8080/"
        },
        "id": "WUi4F9iI1ZcT",
        "outputId": "b02bf7cd-acbd-443a-fcf1-5f28843f85ca"
      },
      "execution_count": 487,
      "outputs": [
        {
          "output_type": "execute_result",
          "data": {
            "text/plain": [
              "array([10.,  5.,  1.,  2.,  3., 21., 11., 19.,  0.,  6., 26.,  9., 14.,\n",
              "       17., 25., 12., 13.,  7.,  8., 18., 28., 15., 20., 23., 24., 16.,\n",
              "       37., 22.,  4., 30., 32., 31., 27., 29., 35., 38., 34., 40., 36.,\n",
              "       33.])"
            ]
          },
          "metadata": {},
          "execution_count": 487
        }
      ]
    },
    {
      "cell_type": "code",
      "source": [
        "df.TrainingTimesLastYear.unique()"
      ],
      "metadata": {
        "colab": {
          "base_uri": "https://localhost:8080/"
        },
        "id": "K8Trb1P31hXw",
        "outputId": "f976d17b-c895-49e2-d1fb-b778138284ac"
      },
      "execution_count": 488,
      "outputs": [
        {
          "output_type": "execute_result",
          "data": {
            "text/plain": [
              "array([1., 6., 3., 0., 4., 2., 5.])"
            ]
          },
          "metadata": {},
          "execution_count": 488
        }
      ]
    },
    {
      "cell_type": "code",
      "source": [
        "df.WorkLifeBalance.unique()"
      ],
      "metadata": {
        "colab": {
          "base_uri": "https://localhost:8080/"
        },
        "id": "R_3I7Ty71lkj",
        "outputId": "ad1ade42-f8b3-4818-9736-1112e3d4a783"
      },
      "execution_count": 489,
      "outputs": [
        {
          "output_type": "execute_result",
          "data": {
            "text/plain": [
              "array([2., 4., 3., 1.])"
            ]
          },
          "metadata": {},
          "execution_count": 489
        }
      ]
    },
    {
      "cell_type": "code",
      "source": [
        "df.YearsAtCompany.unique()"
      ],
      "metadata": {
        "colab": {
          "base_uri": "https://localhost:8080/"
        },
        "id": "03yb_Gf81rE5",
        "outputId": "4109f5f2-c84a-4ffc-f824-5ed38bfecfb5"
      },
      "execution_count": 490,
      "outputs": [
        {
          "output_type": "execute_result",
          "data": {
            "text/plain": [
              "array([1.000e+01, 5.000e+00, 1.000e+00, 2.000e+00, 7.000e+00, 9.000e+00,\n",
              "       2.000e+01, 0.000e+00, 3.000e+00, 1.400e+01, 8.000e+00, 2.400e+01,\n",
              "       6.000e+00, 4.000e+00, 1.100e+01, 1.500e+01, 1.300e+01, 2.100e+01,\n",
              "       3.600e+01, 2.600e+01, 1.900e+01, 1.600e+01, 2.200e+01, 1.800e+01,\n",
              "       2.500e+01, 1.700e+01, 1.200e+01, 3.700e+01, 3.300e+01, 4.000e+01,\n",
              "       3.400e+01, 2.300e+01, 2.900e+01, 3.100e+01, 3.200e+01, 2.700e+01,\n",
              "       3.000e+01, 5.078e+03, 7.345e+03, 3.079e+03, 2.332e+03, 1.761e+03,\n",
              "       1.378e+03, 8.870e+03, 4.879e+03, 9.445e+03, 2.265e+03, 5.801e+03,\n",
              "       8.553e+03, 3.761e+03, 2.051e+03, 7.735e+03, 2.506e+03, 9.066e+03,\n",
              "       3.335e+03, 1.621e+03, 8.120e+03, 3.743e+03, 9.681e+03, 6.797e+03,\n",
              "       3.707e+03, 7.547e+03, 6.133e+03, 3.177e+03, 3.549e+03, 8.717e+03,\n",
              "       1.036e+03, 9.508e+03, 1.488e+03, 5.359e+03, 2.744e+03, 5.581e+03,\n",
              "       9.676e+03, 1.286e+03, 5.904e+03, 1.872e+03, 4.763e+03, 7.324e+03,\n",
              "       6.140e+03, 3.687e+03, 1.420e+03, 9.767e+03, 3.507e+03, 6.524e+03,\n",
              "       5.096e+03, 6.225e+03, 7.747e+03, 5.066e+03, 9.984e+03, 5.132e+03,\n",
              "       5.706e+03, 3.231e+03, 2.659e+03, 5.506e+03, 8.867e+03, 8.875e+03,\n",
              "       3.912e+03, 1.625e+03, 9.577e+03, 3.584e+03, 9.352e+03, 5.150e+03,\n",
              "       6.253e+03, 1.646e+03, 8.862e+03, 2.516e+03, 3.126e+03, 4.604e+03,\n",
              "       5.276e+03, 6.040e+03, 3.074e+03, 7.335e+03, 4.706e+03, 3.645e+03,\n",
              "       2.987e+03, 3.190e+03, 3.202e+03, 1.295e+03, 5.368e+03, 1.282e+03,\n",
              "       2.925e+03, 2.203e+03, 2.785e+03, 1.375e+03, 3.734e+03, 1.564e+03,\n",
              "       8.543e+03, 5.736e+03, 7.366e+03, 4.014e+03, 9.481e+03, 5.512e+03,\n",
              "       1.239e+03, 2.072e+03, 3.132e+03, 8.179e+03, 5.209e+03, 8.298e+03,\n",
              "       1.184e+03, 2.809e+03, 2.551e+03, 3.655e+03, 9.196e+03, 6.834e+03,\n",
              "       7.337e+03, 6.705e+03, 2.041e+03, 1.977e+03, 6.103e+03, 3.812e+03,\n",
              "       4.783e+03, 9.505e+03, 5.765e+03, 5.888e+03, 7.338e+03, 8.976e+03,\n",
              "       7.217e+03, 3.649e+03, 4.369e+03, 4.198e+03, 8.039e+03, 1.344e+03,\n",
              "       8.890e+03, 8.110e+03, 6.144e+03, 3.927e+03])"
            ]
          },
          "metadata": {},
          "execution_count": 490
        }
      ]
    },
    {
      "cell_type": "code",
      "source": [
        "df=df[df['YearsAtCompany']<= 100]"
      ],
      "metadata": {
        "id": "laduysMc11Ct"
      },
      "execution_count": 491,
      "outputs": []
    },
    {
      "cell_type": "code",
      "source": [
        "df.YearsAtCompany.unique()"
      ],
      "metadata": {
        "colab": {
          "base_uri": "https://localhost:8080/"
        },
        "id": "le4sEK9y12O2",
        "outputId": "d5bb22b0-2715-4567-ffda-6e29d906359b"
      },
      "execution_count": 492,
      "outputs": [
        {
          "output_type": "execute_result",
          "data": {
            "text/plain": [
              "array([10.,  5.,  1.,  2.,  7.,  9., 20.,  0.,  3., 14.,  8., 24.,  6.,\n",
              "        4., 11., 15., 13., 21., 36., 26., 19., 16., 22., 18., 25., 17.,\n",
              "       12., 37., 33., 40., 34., 23., 29., 31., 32., 27., 30.])"
            ]
          },
          "metadata": {},
          "execution_count": 492
        }
      ]
    },
    {
      "cell_type": "code",
      "source": [
        "df.YearsInCurrentRole.unique()"
      ],
      "metadata": {
        "colab": {
          "base_uri": "https://localhost:8080/"
        },
        "id": "EBl0ejRf2Bmc",
        "outputId": "3887d2a7-c946-463f-c077-c8d9f5c9bd92"
      },
      "execution_count": 493,
      "outputs": [
        {
          "output_type": "execute_result",
          "data": {
            "text/plain": [
              "array([8.000e+00, 4.000e+00, 3.000e+00, 0.000e+00, 2.000e+00, 7.000e+00,\n",
              "       6.000e+00, 9.000e+00, 5.000e+00, 1.300e+01, 1.100e+01, 1.000e+00,\n",
              "       1.000e+01, 1.700e+01, 1.200e+01, 1.500e+01, 1.400e+01, 1.600e+01,\n",
              "       1.800e+01, 3.099e+03, 3.591e+03, 6.908e+03, 1.099e+03, 3.814e+03,\n",
              "       6.651e+03, 4.218e+03, 1.179e+03, 4.230e+03, 9.454e+03, 5.438e+03,\n",
              "       2.975e+03, 4.252e+03, 2.939e+03, 9.459e+03, 9.420e+03, 4.139e+03,\n",
              "       8.200e+03, 2.100e+03, 4.858e+03, 6.364e+03, 8.251e+03, 4.925e+03,\n",
              "       3.723e+03, 4.194e+03, 4.323e+03, 4.558e+03, 1.858e+03, 7.125e+03,\n",
              "       4.435e+03, 8.935e+03, 4.986e+03, 9.107e+03, 7.137e+03, 4.656e+03,\n",
              "       2.515e+03, 7.635e+03, 4.461e+03, 7.908e+03, 5.735e+03, 8.835e+03,\n",
              "       1.797e+03, 4.137e+03, 9.193e+03, 6.691e+03, 9.596e+03, 7.077e+03,\n",
              "       1.191e+03, 4.174e+03, 4.713e+03, 3.606e+03, 5.335e+03, 9.822e+03,\n",
              "       7.420e+03, 2.816e+03, 7.866e+03, 3.509e+03, 2.360e+03, 2.514e+03,\n",
              "       4.376e+03, 7.320e+03, 3.443e+03, 3.453e+03, 3.978e+03, 8.619e+03,\n",
              "       6.081e+03, 6.378e+03, 1.190e+03, 7.925e+03, 5.834e+03, 6.862e+03,\n",
              "       6.131e+03, 3.235e+03, 6.430e+03, 2.470e+03, 8.497e+03, 9.038e+03,\n",
              "       4.362e+03, 1.810e+03, 3.364e+03, 7.606e+03, 3.683e+03, 6.188e+03,\n",
              "       5.203e+03, 6.421e+03, 9.395e+03, 2.647e+03, 2.825e+03, 9.551e+03,\n",
              "       7.664e+03, 6.169e+03, 7.105e+03, 3.802e+03, 5.274e+03, 4.551e+03,\n",
              "       9.120e+03, 3.033e+03, 3.015e+03, 1.615e+03, 6.784e+03, 1.009e+03,\n",
              "       8.222e+03, 8.058e+03, 1.584e+03, 1.924e+03, 9.217e+03, 7.484e+03,\n",
              "       3.121e+03, 2.582e+03, 6.387e+03, 4.212e+03, 8.090e+03, 6.246e+03,\n",
              "       8.807e+03, 6.180e+03, 9.937e+03, 2.848e+03, 1.335e+03, 8.102e+03,\n",
              "       5.841e+03, 2.979e+03, 1.838e+03, 6.415e+03, 6.048e+03, 1.602e+03,\n",
              "       6.001e+03, 2.931e+03, 1.732e+03, 5.181e+03, 9.053e+03, 4.623e+03,\n",
              "       2.868e+03, 7.822e+03, 2.596e+03, 3.726e+03, 7.395e+03, 7.392e+03,\n",
              "       1.404e+03, 2.822e+03, 2.112e+03, 5.637e+03, 1.995e+03, 8.020e+03,\n",
              "       6.755e+03, 3.797e+03])"
            ]
          },
          "metadata": {},
          "execution_count": 493
        }
      ]
    },
    {
      "cell_type": "code",
      "source": [
        "df=df[df['YearsInCurrentRole']<= 100]"
      ],
      "metadata": {
        "id": "McvAdnYd20vB"
      },
      "execution_count": 494,
      "outputs": []
    },
    {
      "cell_type": "code",
      "source": [
        "df.YearsInCurrentRole.unique()"
      ],
      "metadata": {
        "colab": {
          "base_uri": "https://localhost:8080/"
        },
        "id": "rVRD_4K-21rL",
        "outputId": "fd8ae913-6524-42bc-db1b-f4c4cf3aad57"
      },
      "execution_count": 495,
      "outputs": [
        {
          "output_type": "execute_result",
          "data": {
            "text/plain": [
              "array([ 8.,  4.,  3.,  0.,  2.,  7.,  6.,  9.,  5., 13., 11.,  1., 10.,\n",
              "       17., 12., 15., 14., 16., 18.])"
            ]
          },
          "metadata": {},
          "execution_count": 495
        }
      ]
    },
    {
      "cell_type": "code",
      "source": [
        "df.YearsSinceLastPromotion.unique()"
      ],
      "metadata": {
        "colab": {
          "base_uri": "https://localhost:8080/"
        },
        "id": "vxCU_bzn244J",
        "outputId": "00350876-99cb-46d1-bb76-e2fb53c1c398"
      },
      "execution_count": 496,
      "outputs": [
        {
          "output_type": "execute_result",
          "data": {
            "text/plain": [
              "array([3.000e+00, 0.000e+00, 4.000e+00, 2.000e+00, 7.000e+00, 1.000e+00,\n",
              "       9.000e+00, 8.000e+00, 5.000e+00, 1.100e+01, 6.000e+00, 1.500e+01,\n",
              "       1.200e+01, 1.300e+01, 1.400e+01, 1.000e+01, 8.080e+03, 3.720e+03,\n",
              "       7.291e+03, 6.920e+03, 8.467e+03, 9.420e+03, 3.246e+03, 8.913e+03,\n",
              "       9.952e+03, 8.550e+03, 7.997e+03, 8.534e+03, 6.773e+03, 4.940e+03,\n",
              "       1.973e+03, 6.763e+03, 8.021e+03, 5.738e+03, 5.291e+03, 1.094e+03,\n",
              "       3.771e+03, 4.958e+03, 8.890e+03, 8.538e+03, 3.982e+03, 2.153e+03,\n",
              "       6.279e+03, 7.240e+03, 4.204e+03, 5.392e+03, 3.486e+03, 3.742e+03,\n",
              "       6.401e+03, 2.166e+03, 8.312e+03, 5.994e+03, 5.894e+03, 2.293e+03,\n",
              "       6.747e+03, 7.989e+03, 4.200e+03, 2.754e+03, 8.922e+03, 4.370e+03,\n",
              "       9.389e+03, 4.704e+03, 1.201e+03, 3.777e+03, 1.815e+03, 4.382e+03,\n",
              "       2.576e+03, 2.475e+03, 6.551e+03, 9.509e+03, 5.284e+03, 5.292e+03,\n",
              "       9.990e+03, 6.003e+03, 4.575e+03, 5.649e+03, 2.081e+03, 7.609e+03,\n",
              "       9.572e+03, 5.308e+03, 5.383e+03, 1.058e+03, 5.165e+03, 7.897e+03,\n",
              "       3.832e+03, 9.595e+03, 4.763e+03, 4.071e+03, 2.723e+03, 7.868e+03,\n",
              "       4.619e+03, 5.391e+03, 4.885e+03, 3.884e+03, 5.431e+03, 3.089e+03,\n",
              "       8.515e+03, 5.266e+03, 6.440e+03, 6.350e+03, 6.968e+03, 1.639e+03,\n",
              "       7.859e+03, 7.427e+03, 2.922e+03, 2.282e+03, 8.966e+03, 9.175e+03,\n",
              "       4.409e+03, 5.346e+03, 8.213e+03, 2.025e+03, 2.789e+03, 5.151e+03,\n",
              "       8.053e+03, 6.233e+03, 8.113e+03, 3.057e+03, 4.094e+03, 8.650e+03,\n",
              "       6.305e+03, 4.434e+03, 9.624e+03, 7.137e+03, 8.853e+03, 4.547e+03,\n",
              "       6.767e+03, 7.056e+03, 6.847e+03, 2.743e+03, 5.881e+03, 7.659e+03,\n",
              "       4.468e+03, 8.366e+03, 6.196e+03, 9.373e+03, 7.521e+03, 8.652e+03,\n",
              "       5.957e+03, 6.881e+03, 9.041e+03, 7.322e+03, 2.079e+03, 4.098e+03,\n",
              "       8.932e+03, 9.885e+03, 8.810e+03, 3.082e+03, 7.816e+03, 2.745e+03,\n",
              "       4.586e+03, 7.403e+03, 2.778e+03])"
            ]
          },
          "metadata": {},
          "execution_count": 496
        }
      ]
    },
    {
      "cell_type": "code",
      "source": [
        "df=df[df['YearsSinceLastPromotion']<= 100]"
      ],
      "metadata": {
        "id": "B4vXlmhS3PPZ"
      },
      "execution_count": 497,
      "outputs": []
    },
    {
      "cell_type": "code",
      "source": [
        "df.YearsSinceLastPromotion.unique()"
      ],
      "metadata": {
        "colab": {
          "base_uri": "https://localhost:8080/"
        },
        "id": "Ge-Tszso3RSj",
        "outputId": "c84f3ab7-88d7-439c-95fc-2f5438c2106e"
      },
      "execution_count": 498,
      "outputs": [
        {
          "output_type": "execute_result",
          "data": {
            "text/plain": [
              "array([ 3.,  0.,  4.,  2.,  7.,  1.,  9.,  8.,  5., 11.,  6., 15., 12.,\n",
              "       13., 14., 10.])"
            ]
          },
          "metadata": {},
          "execution_count": 498
        }
      ]
    },
    {
      "cell_type": "code",
      "source": [
        "df.YearsWithCurrManager.unique()"
      ],
      "metadata": {
        "colab": {
          "base_uri": "https://localhost:8080/"
        },
        "id": "asa9SDH23Svr",
        "outputId": "9bda6ac7-2ee7-4fad-add7-7a7524dff4e1"
      },
      "execution_count": 499,
      "outputs": [
        {
          "output_type": "execute_result",
          "data": {
            "text/plain": [
              "array([0.000e+00, 2.000e+00, 3.000e+00, 7.000e+00, 8.000e+00, 9.000e+00,\n",
              "       6.000e+00, 1.100e+01, 4.000e+00, 1.200e+01, 5.000e+00, 1.000e+01,\n",
              "       1.700e+01, 1.000e+00, 1.300e+01, 1.400e+01, 1.600e+01, 1.500e+01,\n",
              "       1.798e+03, 9.404e+03, 4.163e+03, 2.411e+03, 1.947e+03, 5.987e+03,\n",
              "       9.201e+03, 5.346e+03, 2.106e+03, 8.731e+03, 1.759e+03, 2.736e+03,\n",
              "       2.181e+03, 7.012e+03, 6.277e+03, 7.405e+03, 2.101e+03, 3.908e+03,\n",
              "       1.781e+03, 2.883e+03, 4.389e+03, 7.032e+03, 2.811e+03, 5.256e+03,\n",
              "       6.162e+03, 5.242e+03, 3.922e+03, 5.168e+03, 8.672e+03, 9.717e+03,\n",
              "       6.129e+03, 5.048e+03, 3.434e+03, 2.879e+03, 9.333e+03, 2.892e+03,\n",
              "       4.528e+03, 7.876e+03, 2.702e+03, 6.788e+03, 1.077e+03, 2.428e+03,\n",
              "       5.233e+03, 8.457e+03, 9.709e+03, 3.546e+03, 9.321e+03, 5.326e+03,\n",
              "       2.333e+03, 9.882e+03, 2.564e+03, 1.910e+03, 4.869e+03, 2.480e+03,\n",
              "       8.393e+03, 4.404e+03, 6.426e+03, 8.841e+03, 7.091e+03, 4.220e+03,\n",
              "       1.540e+03, 6.691e+03, 7.781e+03, 4.321e+03, 2.220e+03, 4.326e+03,\n",
              "       4.212e+03, 6.700e+03, 9.147e+03, 8.932e+03, 9.382e+03, 2.962e+03,\n",
              "       7.386e+03, 6.873e+03, 7.230e+03, 3.097e+03, 5.198e+03, 9.734e+03,\n",
              "       6.480e+03, 1.982e+03, 8.712e+03, 4.811e+03, 9.772e+03, 4.210e+03,\n",
              "       6.606e+03, 1.948e+03, 1.142e+03, 2.460e+03, 5.869e+03, 1.643e+03,\n",
              "       1.067e+03, 3.385e+03, 5.941e+03, 3.193e+03, 5.707e+03, 1.691e+03,\n",
              "       4.760e+03, 5.136e+03, 3.876e+03, 4.911e+03, 8.954e+03, 4.456e+03,\n",
              "       7.971e+03, 8.170e+03, 1.914e+03, 7.729e+03, 5.905e+03, 7.420e+03,\n",
              "       1.845e+03, 5.747e+03, 6.349e+03, 6.432e+03, 9.414e+03, 5.885e+03,\n",
              "       1.913e+03, 2.728e+03, 3.217e+03, 7.779e+03, 1.898e+03, 9.207e+03,\n",
              "       6.654e+03, 3.596e+03, 4.134e+03, 9.582e+03, 5.403e+03, 1.929e+03,\n",
              "       7.553e+03, 5.867e+03, 6.746e+03, 9.133e+03, 9.202e+03, 7.518e+03,\n",
              "       6.754e+03, 4.249e+03, 8.195e+03, 5.651e+03, 4.738e+03, 5.948e+03,\n",
              "       6.683e+03])"
            ]
          },
          "metadata": {},
          "execution_count": 499
        }
      ]
    },
    {
      "cell_type": "code",
      "source": [
        "df=df[df['YearsWithCurrManager']<= 100]"
      ],
      "metadata": {
        "id": "vWvxU0EyzZpH"
      },
      "execution_count": 500,
      "outputs": []
    },
    {
      "cell_type": "code",
      "source": [
        "df.YearsWithCurrManager.unique()"
      ],
      "metadata": {
        "colab": {
          "base_uri": "https://localhost:8080/"
        },
        "id": "b9WoYMZK3iEi",
        "outputId": "1efed988-b153-4e31-a50d-5da9325bfabe"
      },
      "execution_count": 501,
      "outputs": [
        {
          "output_type": "execute_result",
          "data": {
            "text/plain": [
              "array([ 0.,  2.,  3.,  7.,  8.,  9.,  6., 11.,  4., 12.,  5., 10., 17.,\n",
              "        1., 13., 14., 16., 15.])"
            ]
          },
          "metadata": {},
          "execution_count": 501
        }
      ]
    },
    {
      "cell_type": "code",
      "source": [
        "df.YearlyIncome.unique()"
      ],
      "metadata": {
        "colab": {
          "base_uri": "https://localhost:8080/"
        },
        "id": "1kNUDtQR3i0S",
        "outputId": "7717c280-96a7-4afa-9683-06844bc0de82"
      },
      "execution_count": 502,
      "outputs": [
        {
          "output_type": "execute_result",
          "data": {
            "text/plain": [
              "array([ 61512.,  93072.,  28416., ...,  79728., 238308.,  44496.])"
            ]
          },
          "metadata": {},
          "execution_count": 502
        }
      ]
    },
    {
      "cell_type": "code",
      "source": [
        "df.YearlyIncome.describe()"
      ],
      "metadata": {
        "colab": {
          "base_uri": "https://localhost:8080/"
        },
        "id": "cOeGGkMR3rKh",
        "outputId": "0e8b0b0c-9508-406e-e3bd-a4146d3df9ac"
      },
      "execution_count": 503,
      "outputs": [
        {
          "output_type": "execute_result",
          "data": {
            "text/plain": [
              "count      2630.000000\n",
              "mean      77384.733080\n",
              "std       56485.757872\n",
              "min       12108.000000\n",
              "25%       34404.000000\n",
              "50%       58260.000000\n",
              "75%      100347.000000\n",
              "max      239988.000000\n",
              "Name: YearlyIncome, dtype: float64"
            ]
          },
          "metadata": {},
          "execution_count": 503
        }
      ]
    },
    {
      "cell_type": "code",
      "source": [
        "df.shape"
      ],
      "metadata": {
        "colab": {
          "base_uri": "https://localhost:8080/"
        },
        "id": "Ai1ZxN1P3vbp",
        "outputId": "20267048-cee1-46aa-9975-2c0b3b76d46d"
      },
      "execution_count": 504,
      "outputs": [
        {
          "output_type": "execute_result",
          "data": {
            "text/plain": [
              "(2630, 47)"
            ]
          },
          "metadata": {},
          "execution_count": 504
        }
      ]
    },
    {
      "cell_type": "code",
      "source": [
        "df.info()"
      ],
      "metadata": {
        "colab": {
          "base_uri": "https://localhost:8080/"
        },
        "id": "jnA7eniI9SSr",
        "outputId": "c3c32266-7799-4346-9593-cc5c3d281fd1"
      },
      "execution_count": 505,
      "outputs": [
        {
          "output_type": "stream",
          "name": "stdout",
          "text": [
            "<class 'pandas.core.frame.DataFrame'>\n",
            "Int64Index: 2630 entries, 0 to 4448\n",
            "Data columns (total 47 columns):\n",
            " #   Column                    Non-Null Count  Dtype  \n",
            "---  ------                    --------------  -----  \n",
            " 0   EmployeeNumber            2630 non-null   int64  \n",
            " 1   Age                       2630 non-null   float64\n",
            " 2   DailyRate                 2630 non-null   float64\n",
            " 3   DistanceFromHome          2630 non-null   float64\n",
            " 4   Education                 2630 non-null   float64\n",
            " 5   EnvironmentSatisfaction   2630 non-null   float64\n",
            " 6   Gender                    2630 non-null   int64  \n",
            " 7   HourlyRate                2630 non-null   float64\n",
            " 8   JobInvolvement            2630 non-null   float64\n",
            " 9   JobLevel                  2630 non-null   float64\n",
            " 10  JobSatisfaction           2630 non-null   float64\n",
            " 11  MonthlyIncome             2630 non-null   float64\n",
            " 12  MonthlyRate               2630 non-null   float64\n",
            " 13  NumCompaniesWorked        2630 non-null   float64\n",
            " 14  OverTime                  2630 non-null   int64  \n",
            " 15  PercentSalaryHike         2630 non-null   float64\n",
            " 16  PerformanceRating         2630 non-null   float64\n",
            " 17  RelationshipSatisfaction  2630 non-null   float64\n",
            " 18  StockOptionLevel          2630 non-null   float64\n",
            " 19  TotalWorkingYears         2630 non-null   float64\n",
            " 20  TrainingTimesLastYear     2630 non-null   float64\n",
            " 21  WorkLifeBalance           2630 non-null   float64\n",
            " 22  YearsAtCompany            2630 non-null   float64\n",
            " 23  YearsInCurrentRole        2630 non-null   float64\n",
            " 24  YearsSinceLastPromotion   2630 non-null   float64\n",
            " 25  YearsWithCurrManager      2630 non-null   float64\n",
            " 26  Attrition                 2630 non-null   int64  \n",
            " 27  YearlyIncome              2630 non-null   float64\n",
            " 28  Travel_Frequently         2630 non-null   uint8  \n",
            " 29  Travel_Rarely             2630 non-null   uint8  \n",
            " 30  Research & Development    2630 non-null   uint8  \n",
            " 31  Sales                     2630 non-null   uint8  \n",
            " 32  Life Sciences             2630 non-null   uint8  \n",
            " 33  Marketing                 2630 non-null   uint8  \n",
            " 34  Medical                   2630 non-null   uint8  \n",
            " 35  Other                     2630 non-null   uint8  \n",
            " 36  Technical Degree          2630 non-null   uint8  \n",
            " 37  Human Resources           2630 non-null   uint8  \n",
            " 38  Laboratory Technician     2630 non-null   uint8  \n",
            " 39  Manager                   2630 non-null   uint8  \n",
            " 40  Manufacturing Director    2630 non-null   uint8  \n",
            " 41  Research Director         2630 non-null   uint8  \n",
            " 42  Research Scientist        2630 non-null   uint8  \n",
            " 43  Sales Executive           2630 non-null   uint8  \n",
            " 44  Sales Representative      2630 non-null   uint8  \n",
            " 45  Married                   2630 non-null   uint8  \n",
            " 46  Single                    2630 non-null   uint8  \n",
            "dtypes: float64(24), int64(4), uint8(19)\n",
            "memory usage: 644.7 KB\n"
          ]
        }
      ]
    },
    {
      "cell_type": "code",
      "source": [
        "df= df.set_index(\"EmployeeNumber\")"
      ],
      "metadata": {
        "id": "uPAKVSUXCqqS"
      },
      "execution_count": 506,
      "outputs": []
    },
    {
      "cell_type": "code",
      "source": [
        "df.shape"
      ],
      "metadata": {
        "colab": {
          "base_uri": "https://localhost:8080/"
        },
        "id": "yCkHCyWuDF5-",
        "outputId": "75ac3d55-c406-43bb-92a9-cf833251ac25"
      },
      "execution_count": 507,
      "outputs": [
        {
          "output_type": "execute_result",
          "data": {
            "text/plain": [
              "(2630, 46)"
            ]
          },
          "metadata": {},
          "execution_count": 507
        }
      ]
    },
    {
      "cell_type": "code",
      "source": [
        "y = df.pop('Attrition')\n",
        "X = df"
      ],
      "metadata": {
        "id": "QqAoxlhP-h68"
      },
      "execution_count": 508,
      "outputs": []
    },
    {
      "cell_type": "code",
      "source": [],
      "metadata": {
        "id": "9YEAYTVW_-xj"
      },
      "execution_count": null,
      "outputs": []
    }
  ]
}