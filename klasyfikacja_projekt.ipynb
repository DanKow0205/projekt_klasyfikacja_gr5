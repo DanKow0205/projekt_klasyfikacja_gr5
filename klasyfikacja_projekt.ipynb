{
  "nbformat": 4,
  "nbformat_minor": 0,
  "metadata": {
    "colab": {
      "provenance": []
    },
    "kernelspec": {
      "name": "python3",
      "display_name": "Python 3"
    },
    "language_info": {
      "name": "python"
    }
  },
  "cells": [
    {
      "cell_type": "code",
      "source": [
        "import pandas as pd\n",
        "import numpy as np"
      ],
      "metadata": {
        "id": "7Pb9-AKwUD7X"
      },
      "execution_count": 2,
      "outputs": []
    },
    {
      "cell_type": "code",
      "source": [
        "import matplotlib.pyplot as plt\n",
        "import seaborn as sns\n",
        "import plotly.express as px\n",
        "import plotly.graph_objects as go\n",
        "from plotly.offline import iplot"
      ],
      "metadata": {
        "id": "T0yOmSY9YaOf"
      },
      "execution_count": 16,
      "outputs": []
    },
    {
      "cell_type": "code",
      "source": [
        "from sklearn.preprocessing import OneHotEncoder"
      ],
      "metadata": {
        "id": "SQ4F95p7n8AW"
      },
      "execution_count": 52,
      "outputs": []
    },
    {
      "cell_type": "code",
      "execution_count": 4,
      "metadata": {
        "colab": {
          "base_uri": "https://localhost:8080/",
          "height": 313
        },
        "id": "wqnxY-6iTRyF",
        "outputId": "a7ea2216-57e8-42ec-ff09-9e1db7b4c769"
      },
      "outputs": [
        {
          "output_type": "execute_result",
          "data": {
            "text/plain": [
              "   EmployeeNumber   Age BusinessTravel  DailyRate              Department  \\\n",
              "0             104  30.0  Travel_Rarely      852.0  Research & Development   \n",
              "1            1638  38.0  Travel_Rarely      397.0  Research & Development   \n",
              "2             164  26.0  Travel_Rarely      841.0  Research & Development   \n",
              "3             395  28.0  Travel_Rarely     1117.0  Research & Development   \n",
              "4              53  35.0  Travel_Rarely      464.0  Research & Development   \n",
              "\n",
              "   DistanceFromHome  Education EducationField  EmployeeCount  \\\n",
              "0               1.0        1.0  Life Sciences            1.0   \n",
              "1               2.0        2.0        Medical            1.0   \n",
              "2               6.0        3.0          Other            1.0   \n",
              "3               8.0        2.0  Life Sciences            1.0   \n",
              "4               4.0        2.0          Other            1.0   \n",
              "\n",
              "   EnvironmentSatisfaction  Gender  HourlyRate  JobInvolvement  JobLevel  \\\n",
              "0                      4.0    Male        55.0             2.0       2.0   \n",
              "1                      4.0  Female        54.0             2.0       3.0   \n",
              "2                      3.0  Female        46.0             2.0       1.0   \n",
              "3                      4.0  Female        66.0             3.0       1.0   \n",
              "4                      3.0    Male        75.0             3.0       1.0   \n",
              "\n",
              "                  JobRole  JobSatisfaction MaritalStatus  MonthlyIncome  \\\n",
              "0   Laboratory Technician              4.0       Married         5126.0   \n",
              "1  Manufacturing Director              3.0       Married         7756.0   \n",
              "2      Research Scientist              2.0       Married         2368.0   \n",
              "3      Research Scientist              4.0        Single         3310.0   \n",
              "4   Laboratory Technician              4.0      Divorced         1951.0   \n",
              "\n",
              "   MonthlyRate  NumCompaniesWorked  \n",
              "0      15998.0                 1.0  \n",
              "1      14199.0                 3.0  \n",
              "2      23300.0                 1.0  \n",
              "3       4488.0                 1.0  \n",
              "4      10910.0                 1.0  "
            ],
            "text/html": [
              "\n",
              "  <div id=\"df-aaff9eef-a971-416d-a5aa-1a3a95db7614\" class=\"colab-df-container\">\n",
              "    <div>\n",
              "<style scoped>\n",
              "    .dataframe tbody tr th:only-of-type {\n",
              "        vertical-align: middle;\n",
              "    }\n",
              "\n",
              "    .dataframe tbody tr th {\n",
              "        vertical-align: top;\n",
              "    }\n",
              "\n",
              "    .dataframe thead th {\n",
              "        text-align: right;\n",
              "    }\n",
              "</style>\n",
              "<table border=\"1\" class=\"dataframe\">\n",
              "  <thead>\n",
              "    <tr style=\"text-align: right;\">\n",
              "      <th></th>\n",
              "      <th>EmployeeNumber</th>\n",
              "      <th>Age</th>\n",
              "      <th>BusinessTravel</th>\n",
              "      <th>DailyRate</th>\n",
              "      <th>Department</th>\n",
              "      <th>DistanceFromHome</th>\n",
              "      <th>Education</th>\n",
              "      <th>EducationField</th>\n",
              "      <th>EmployeeCount</th>\n",
              "      <th>EnvironmentSatisfaction</th>\n",
              "      <th>Gender</th>\n",
              "      <th>HourlyRate</th>\n",
              "      <th>JobInvolvement</th>\n",
              "      <th>JobLevel</th>\n",
              "      <th>JobRole</th>\n",
              "      <th>JobSatisfaction</th>\n",
              "      <th>MaritalStatus</th>\n",
              "      <th>MonthlyIncome</th>\n",
              "      <th>MonthlyRate</th>\n",
              "      <th>NumCompaniesWorked</th>\n",
              "    </tr>\n",
              "  </thead>\n",
              "  <tbody>\n",
              "    <tr>\n",
              "      <th>0</th>\n",
              "      <td>104</td>\n",
              "      <td>30.0</td>\n",
              "      <td>Travel_Rarely</td>\n",
              "      <td>852.0</td>\n",
              "      <td>Research &amp; Development</td>\n",
              "      <td>1.0</td>\n",
              "      <td>1.0</td>\n",
              "      <td>Life Sciences</td>\n",
              "      <td>1.0</td>\n",
              "      <td>4.0</td>\n",
              "      <td>Male</td>\n",
              "      <td>55.0</td>\n",
              "      <td>2.0</td>\n",
              "      <td>2.0</td>\n",
              "      <td>Laboratory Technician</td>\n",
              "      <td>4.0</td>\n",
              "      <td>Married</td>\n",
              "      <td>5126.0</td>\n",
              "      <td>15998.0</td>\n",
              "      <td>1.0</td>\n",
              "    </tr>\n",
              "    <tr>\n",
              "      <th>1</th>\n",
              "      <td>1638</td>\n",
              "      <td>38.0</td>\n",
              "      <td>Travel_Rarely</td>\n",
              "      <td>397.0</td>\n",
              "      <td>Research &amp; Development</td>\n",
              "      <td>2.0</td>\n",
              "      <td>2.0</td>\n",
              "      <td>Medical</td>\n",
              "      <td>1.0</td>\n",
              "      <td>4.0</td>\n",
              "      <td>Female</td>\n",
              "      <td>54.0</td>\n",
              "      <td>2.0</td>\n",
              "      <td>3.0</td>\n",
              "      <td>Manufacturing Director</td>\n",
              "      <td>3.0</td>\n",
              "      <td>Married</td>\n",
              "      <td>7756.0</td>\n",
              "      <td>14199.0</td>\n",
              "      <td>3.0</td>\n",
              "    </tr>\n",
              "    <tr>\n",
              "      <th>2</th>\n",
              "      <td>164</td>\n",
              "      <td>26.0</td>\n",
              "      <td>Travel_Rarely</td>\n",
              "      <td>841.0</td>\n",
              "      <td>Research &amp; Development</td>\n",
              "      <td>6.0</td>\n",
              "      <td>3.0</td>\n",
              "      <td>Other</td>\n",
              "      <td>1.0</td>\n",
              "      <td>3.0</td>\n",
              "      <td>Female</td>\n",
              "      <td>46.0</td>\n",
              "      <td>2.0</td>\n",
              "      <td>1.0</td>\n",
              "      <td>Research Scientist</td>\n",
              "      <td>2.0</td>\n",
              "      <td>Married</td>\n",
              "      <td>2368.0</td>\n",
              "      <td>23300.0</td>\n",
              "      <td>1.0</td>\n",
              "    </tr>\n",
              "    <tr>\n",
              "      <th>3</th>\n",
              "      <td>395</td>\n",
              "      <td>28.0</td>\n",
              "      <td>Travel_Rarely</td>\n",
              "      <td>1117.0</td>\n",
              "      <td>Research &amp; Development</td>\n",
              "      <td>8.0</td>\n",
              "      <td>2.0</td>\n",
              "      <td>Life Sciences</td>\n",
              "      <td>1.0</td>\n",
              "      <td>4.0</td>\n",
              "      <td>Female</td>\n",
              "      <td>66.0</td>\n",
              "      <td>3.0</td>\n",
              "      <td>1.0</td>\n",
              "      <td>Research Scientist</td>\n",
              "      <td>4.0</td>\n",
              "      <td>Single</td>\n",
              "      <td>3310.0</td>\n",
              "      <td>4488.0</td>\n",
              "      <td>1.0</td>\n",
              "    </tr>\n",
              "    <tr>\n",
              "      <th>4</th>\n",
              "      <td>53</td>\n",
              "      <td>35.0</td>\n",
              "      <td>Travel_Rarely</td>\n",
              "      <td>464.0</td>\n",
              "      <td>Research &amp; Development</td>\n",
              "      <td>4.0</td>\n",
              "      <td>2.0</td>\n",
              "      <td>Other</td>\n",
              "      <td>1.0</td>\n",
              "      <td>3.0</td>\n",
              "      <td>Male</td>\n",
              "      <td>75.0</td>\n",
              "      <td>3.0</td>\n",
              "      <td>1.0</td>\n",
              "      <td>Laboratory Technician</td>\n",
              "      <td>4.0</td>\n",
              "      <td>Divorced</td>\n",
              "      <td>1951.0</td>\n",
              "      <td>10910.0</td>\n",
              "      <td>1.0</td>\n",
              "    </tr>\n",
              "  </tbody>\n",
              "</table>\n",
              "</div>\n",
              "    <div class=\"colab-df-buttons\">\n",
              "\n",
              "  <div class=\"colab-df-container\">\n",
              "    <button class=\"colab-df-convert\" onclick=\"convertToInteractive('df-aaff9eef-a971-416d-a5aa-1a3a95db7614')\"\n",
              "            title=\"Convert this dataframe to an interactive table.\"\n",
              "            style=\"display:none;\">\n",
              "\n",
              "  <svg xmlns=\"http://www.w3.org/2000/svg\" height=\"24px\" viewBox=\"0 -960 960 960\">\n",
              "    <path d=\"M120-120v-720h720v720H120Zm60-500h600v-160H180v160Zm220 220h160v-160H400v160Zm0 220h160v-160H400v160ZM180-400h160v-160H180v160Zm440 0h160v-160H620v160ZM180-180h160v-160H180v160Zm440 0h160v-160H620v160Z\"/>\n",
              "  </svg>\n",
              "    </button>\n",
              "\n",
              "  <style>\n",
              "    .colab-df-container {\n",
              "      display:flex;\n",
              "      gap: 12px;\n",
              "    }\n",
              "\n",
              "    .colab-df-convert {\n",
              "      background-color: #E8F0FE;\n",
              "      border: none;\n",
              "      border-radius: 50%;\n",
              "      cursor: pointer;\n",
              "      display: none;\n",
              "      fill: #1967D2;\n",
              "      height: 32px;\n",
              "      padding: 0 0 0 0;\n",
              "      width: 32px;\n",
              "    }\n",
              "\n",
              "    .colab-df-convert:hover {\n",
              "      background-color: #E2EBFA;\n",
              "      box-shadow: 0px 1px 2px rgba(60, 64, 67, 0.3), 0px 1px 3px 1px rgba(60, 64, 67, 0.15);\n",
              "      fill: #174EA6;\n",
              "    }\n",
              "\n",
              "    .colab-df-buttons div {\n",
              "      margin-bottom: 4px;\n",
              "    }\n",
              "\n",
              "    [theme=dark] .colab-df-convert {\n",
              "      background-color: #3B4455;\n",
              "      fill: #D2E3FC;\n",
              "    }\n",
              "\n",
              "    [theme=dark] .colab-df-convert:hover {\n",
              "      background-color: #434B5C;\n",
              "      box-shadow: 0px 1px 3px 1px rgba(0, 0, 0, 0.15);\n",
              "      filter: drop-shadow(0px 1px 2px rgba(0, 0, 0, 0.3));\n",
              "      fill: #FFFFFF;\n",
              "    }\n",
              "  </style>\n",
              "\n",
              "    <script>\n",
              "      const buttonEl =\n",
              "        document.querySelector('#df-aaff9eef-a971-416d-a5aa-1a3a95db7614 button.colab-df-convert');\n",
              "      buttonEl.style.display =\n",
              "        google.colab.kernel.accessAllowed ? 'block' : 'none';\n",
              "\n",
              "      async function convertToInteractive(key) {\n",
              "        const element = document.querySelector('#df-aaff9eef-a971-416d-a5aa-1a3a95db7614');\n",
              "        const dataTable =\n",
              "          await google.colab.kernel.invokeFunction('convertToInteractive',\n",
              "                                                    [key], {});\n",
              "        if (!dataTable) return;\n",
              "\n",
              "        const docLinkHtml = 'Like what you see? Visit the ' +\n",
              "          '<a target=\"_blank\" href=https://colab.research.google.com/notebooks/data_table.ipynb>data table notebook</a>'\n",
              "          + ' to learn more about interactive tables.';\n",
              "        element.innerHTML = '';\n",
              "        dataTable['output_type'] = 'display_data';\n",
              "        await google.colab.output.renderOutput(dataTable, element);\n",
              "        const docLink = document.createElement('div');\n",
              "        docLink.innerHTML = docLinkHtml;\n",
              "        element.appendChild(docLink);\n",
              "      }\n",
              "    </script>\n",
              "  </div>\n",
              "\n",
              "\n",
              "<div id=\"df-6e3de166-51a2-4bab-9e47-bc2f65d60682\">\n",
              "  <button class=\"colab-df-quickchart\" onclick=\"quickchart('df-6e3de166-51a2-4bab-9e47-bc2f65d60682')\"\n",
              "            title=\"Suggest charts\"\n",
              "            style=\"display:none;\">\n",
              "\n",
              "<svg xmlns=\"http://www.w3.org/2000/svg\" height=\"24px\"viewBox=\"0 0 24 24\"\n",
              "     width=\"24px\">\n",
              "    <g>\n",
              "        <path d=\"M19 3H5c-1.1 0-2 .9-2 2v14c0 1.1.9 2 2 2h14c1.1 0 2-.9 2-2V5c0-1.1-.9-2-2-2zM9 17H7v-7h2v7zm4 0h-2V7h2v10zm4 0h-2v-4h2v4z\"/>\n",
              "    </g>\n",
              "</svg>\n",
              "  </button>\n",
              "\n",
              "<style>\n",
              "  .colab-df-quickchart {\n",
              "      --bg-color: #E8F0FE;\n",
              "      --fill-color: #1967D2;\n",
              "      --hover-bg-color: #E2EBFA;\n",
              "      --hover-fill-color: #174EA6;\n",
              "      --disabled-fill-color: #AAA;\n",
              "      --disabled-bg-color: #DDD;\n",
              "  }\n",
              "\n",
              "  [theme=dark] .colab-df-quickchart {\n",
              "      --bg-color: #3B4455;\n",
              "      --fill-color: #D2E3FC;\n",
              "      --hover-bg-color: #434B5C;\n",
              "      --hover-fill-color: #FFFFFF;\n",
              "      --disabled-bg-color: #3B4455;\n",
              "      --disabled-fill-color: #666;\n",
              "  }\n",
              "\n",
              "  .colab-df-quickchart {\n",
              "    background-color: var(--bg-color);\n",
              "    border: none;\n",
              "    border-radius: 50%;\n",
              "    cursor: pointer;\n",
              "    display: none;\n",
              "    fill: var(--fill-color);\n",
              "    height: 32px;\n",
              "    padding: 0;\n",
              "    width: 32px;\n",
              "  }\n",
              "\n",
              "  .colab-df-quickchart:hover {\n",
              "    background-color: var(--hover-bg-color);\n",
              "    box-shadow: 0 1px 2px rgba(60, 64, 67, 0.3), 0 1px 3px 1px rgba(60, 64, 67, 0.15);\n",
              "    fill: var(--button-hover-fill-color);\n",
              "  }\n",
              "\n",
              "  .colab-df-quickchart-complete:disabled,\n",
              "  .colab-df-quickchart-complete:disabled:hover {\n",
              "    background-color: var(--disabled-bg-color);\n",
              "    fill: var(--disabled-fill-color);\n",
              "    box-shadow: none;\n",
              "  }\n",
              "\n",
              "  .colab-df-spinner {\n",
              "    border: 2px solid var(--fill-color);\n",
              "    border-color: transparent;\n",
              "    border-bottom-color: var(--fill-color);\n",
              "    animation:\n",
              "      spin 1s steps(1) infinite;\n",
              "  }\n",
              "\n",
              "  @keyframes spin {\n",
              "    0% {\n",
              "      border-color: transparent;\n",
              "      border-bottom-color: var(--fill-color);\n",
              "      border-left-color: var(--fill-color);\n",
              "    }\n",
              "    20% {\n",
              "      border-color: transparent;\n",
              "      border-left-color: var(--fill-color);\n",
              "      border-top-color: var(--fill-color);\n",
              "    }\n",
              "    30% {\n",
              "      border-color: transparent;\n",
              "      border-left-color: var(--fill-color);\n",
              "      border-top-color: var(--fill-color);\n",
              "      border-right-color: var(--fill-color);\n",
              "    }\n",
              "    40% {\n",
              "      border-color: transparent;\n",
              "      border-right-color: var(--fill-color);\n",
              "      border-top-color: var(--fill-color);\n",
              "    }\n",
              "    60% {\n",
              "      border-color: transparent;\n",
              "      border-right-color: var(--fill-color);\n",
              "    }\n",
              "    80% {\n",
              "      border-color: transparent;\n",
              "      border-right-color: var(--fill-color);\n",
              "      border-bottom-color: var(--fill-color);\n",
              "    }\n",
              "    90% {\n",
              "      border-color: transparent;\n",
              "      border-bottom-color: var(--fill-color);\n",
              "    }\n",
              "  }\n",
              "</style>\n",
              "\n",
              "  <script>\n",
              "    async function quickchart(key) {\n",
              "      const quickchartButtonEl =\n",
              "        document.querySelector('#' + key + ' button');\n",
              "      quickchartButtonEl.disabled = true;  // To prevent multiple clicks.\n",
              "      quickchartButtonEl.classList.add('colab-df-spinner');\n",
              "      try {\n",
              "        const charts = await google.colab.kernel.invokeFunction(\n",
              "            'suggestCharts', [key], {});\n",
              "      } catch (error) {\n",
              "        console.error('Error during call to suggestCharts:', error);\n",
              "      }\n",
              "      quickchartButtonEl.classList.remove('colab-df-spinner');\n",
              "      quickchartButtonEl.classList.add('colab-df-quickchart-complete');\n",
              "    }\n",
              "    (() => {\n",
              "      let quickchartButtonEl =\n",
              "        document.querySelector('#df-6e3de166-51a2-4bab-9e47-bc2f65d60682 button');\n",
              "      quickchartButtonEl.style.display =\n",
              "        google.colab.kernel.accessAllowed ? 'block' : 'none';\n",
              "    })();\n",
              "  </script>\n",
              "</div>\n",
              "    </div>\n",
              "  </div>\n"
            ]
          },
          "metadata": {},
          "execution_count": 4
        }
      ],
      "source": [
        "df1 = pd.read_csv('/content/df1.csv')\n",
        "df1.head()"
      ]
    },
    {
      "cell_type": "code",
      "source": [
        "df1.shape"
      ],
      "metadata": {
        "colab": {
          "base_uri": "https://localhost:8080/"
        },
        "id": "EtVtQN9PUC1i",
        "outputId": "7c5578d4-b2da-4ec5-9d38-e562a3a2abb4"
      },
      "execution_count": 5,
      "outputs": [
        {
          "output_type": "execute_result",
          "data": {
            "text/plain": [
              "(4449, 20)"
            ]
          },
          "metadata": {},
          "execution_count": 5
        }
      ]
    },
    {
      "cell_type": "code",
      "source": [
        "df1.info()"
      ],
      "metadata": {
        "colab": {
          "base_uri": "https://localhost:8080/"
        },
        "id": "gcYfOeJeVsq1",
        "outputId": "5b5ec8fd-10e3-4e1f-b701-29dc647e4c8a"
      },
      "execution_count": 10,
      "outputs": [
        {
          "output_type": "stream",
          "name": "stdout",
          "text": [
            "<class 'pandas.core.frame.DataFrame'>\n",
            "RangeIndex: 4449 entries, 0 to 4448\n",
            "Data columns (total 20 columns):\n",
            " #   Column                   Non-Null Count  Dtype  \n",
            "---  ------                   --------------  -----  \n",
            " 0   EmployeeNumber           4449 non-null   int64  \n",
            " 1   Age                      4449 non-null   float64\n",
            " 2   BusinessTravel           4449 non-null   object \n",
            " 3   DailyRate                4449 non-null   float64\n",
            " 4   Department               4449 non-null   object \n",
            " 5   DistanceFromHome         4449 non-null   float64\n",
            " 6   Education                4449 non-null   float64\n",
            " 7   EducationField           4449 non-null   object \n",
            " 8   EmployeeCount            4449 non-null   float64\n",
            " 9   EnvironmentSatisfaction  4449 non-null   float64\n",
            " 10  Gender                   4449 non-null   object \n",
            " 11  HourlyRate               4449 non-null   float64\n",
            " 12  JobInvolvement           4449 non-null   float64\n",
            " 13  JobLevel                 4449 non-null   float64\n",
            " 14  JobRole                  4449 non-null   object \n",
            " 15  JobSatisfaction          4449 non-null   float64\n",
            " 16  MaritalStatus            4449 non-null   object \n",
            " 17  MonthlyIncome            4449 non-null   float64\n",
            " 18  MonthlyRate              4449 non-null   float64\n",
            " 19  NumCompaniesWorked       4449 non-null   float64\n",
            "dtypes: float64(13), int64(1), object(6)\n",
            "memory usage: 695.3+ KB\n"
          ]
        }
      ]
    },
    {
      "cell_type": "code",
      "source": [
        "df2 = pd.read_csv('/content/df2.csv')\n",
        "df2.head()"
      ],
      "metadata": {
        "colab": {
          "base_uri": "https://localhost:8080/",
          "height": 226
        },
        "id": "8qQ7g64GUU-7",
        "outputId": "8a6848ca-500b-4549-d76f-40b2eb6fc7d6"
      },
      "execution_count": 6,
      "outputs": [
        {
          "output_type": "execute_result",
          "data": {
            "text/plain": [
              "   EmployeeNumber Over18 OverTime  PercentSalaryHike  PerformanceRating  \\\n",
              "0             104      Y      Yes               12.0                3.0   \n",
              "1            1638      Y      Yes               19.0                3.0   \n",
              "2             164      Y       No               19.0                3.0   \n",
              "3             395      Y       No               21.0                4.0   \n",
              "4              53      Y       No               12.0                3.0   \n",
              "\n",
              "   RelationshipSatisfaction  StandardHours  StockOptionLevel  \\\n",
              "0                       3.0           80.0               2.0   \n",
              "1                       4.0           80.0               1.0   \n",
              "2                       3.0           80.0               0.0   \n",
              "3                       4.0           80.0               0.0   \n",
              "4                       3.0           80.0               1.0   \n",
              "\n",
              "   TotalWorkingYears  TrainingTimesLastYear  WorkLifeBalance  YearsAtCompany  \\\n",
              "0               10.0                    1.0              2.0            10.0   \n",
              "1               10.0                    6.0              4.0             5.0   \n",
              "2                5.0                    3.0              2.0             5.0   \n",
              "3                5.0                    3.0              3.0             5.0   \n",
              "4                1.0                    3.0              3.0             1.0   \n",
              "\n",
              "   YearsInCurrentRole  YearsSinceLastPromotion  YearsWithCurrManager  \\\n",
              "0                 8.0                      3.0                   0.0   \n",
              "1                 4.0                      0.0                   2.0   \n",
              "2                 4.0                      4.0                   3.0   \n",
              "3                 3.0                      0.0                   2.0   \n",
              "4                 0.0                      0.0                   0.0   \n",
              "\n",
              "  Attrition  YearlyIncome  \n",
              "0        No       61512.0  \n",
              "1        No       93072.0  \n",
              "2        No       28416.0  \n",
              "3        No       39720.0  \n",
              "4        No       23412.0  "
            ],
            "text/html": [
              "\n",
              "  <div id=\"df-fc0c5732-c685-4aa5-bf80-74ddaf8cfd89\" class=\"colab-df-container\">\n",
              "    <div>\n",
              "<style scoped>\n",
              "    .dataframe tbody tr th:only-of-type {\n",
              "        vertical-align: middle;\n",
              "    }\n",
              "\n",
              "    .dataframe tbody tr th {\n",
              "        vertical-align: top;\n",
              "    }\n",
              "\n",
              "    .dataframe thead th {\n",
              "        text-align: right;\n",
              "    }\n",
              "</style>\n",
              "<table border=\"1\" class=\"dataframe\">\n",
              "  <thead>\n",
              "    <tr style=\"text-align: right;\">\n",
              "      <th></th>\n",
              "      <th>EmployeeNumber</th>\n",
              "      <th>Over18</th>\n",
              "      <th>OverTime</th>\n",
              "      <th>PercentSalaryHike</th>\n",
              "      <th>PerformanceRating</th>\n",
              "      <th>RelationshipSatisfaction</th>\n",
              "      <th>StandardHours</th>\n",
              "      <th>StockOptionLevel</th>\n",
              "      <th>TotalWorkingYears</th>\n",
              "      <th>TrainingTimesLastYear</th>\n",
              "      <th>WorkLifeBalance</th>\n",
              "      <th>YearsAtCompany</th>\n",
              "      <th>YearsInCurrentRole</th>\n",
              "      <th>YearsSinceLastPromotion</th>\n",
              "      <th>YearsWithCurrManager</th>\n",
              "      <th>Attrition</th>\n",
              "      <th>YearlyIncome</th>\n",
              "    </tr>\n",
              "  </thead>\n",
              "  <tbody>\n",
              "    <tr>\n",
              "      <th>0</th>\n",
              "      <td>104</td>\n",
              "      <td>Y</td>\n",
              "      <td>Yes</td>\n",
              "      <td>12.0</td>\n",
              "      <td>3.0</td>\n",
              "      <td>3.0</td>\n",
              "      <td>80.0</td>\n",
              "      <td>2.0</td>\n",
              "      <td>10.0</td>\n",
              "      <td>1.0</td>\n",
              "      <td>2.0</td>\n",
              "      <td>10.0</td>\n",
              "      <td>8.0</td>\n",
              "      <td>3.0</td>\n",
              "      <td>0.0</td>\n",
              "      <td>No</td>\n",
              "      <td>61512.0</td>\n",
              "    </tr>\n",
              "    <tr>\n",
              "      <th>1</th>\n",
              "      <td>1638</td>\n",
              "      <td>Y</td>\n",
              "      <td>Yes</td>\n",
              "      <td>19.0</td>\n",
              "      <td>3.0</td>\n",
              "      <td>4.0</td>\n",
              "      <td>80.0</td>\n",
              "      <td>1.0</td>\n",
              "      <td>10.0</td>\n",
              "      <td>6.0</td>\n",
              "      <td>4.0</td>\n",
              "      <td>5.0</td>\n",
              "      <td>4.0</td>\n",
              "      <td>0.0</td>\n",
              "      <td>2.0</td>\n",
              "      <td>No</td>\n",
              "      <td>93072.0</td>\n",
              "    </tr>\n",
              "    <tr>\n",
              "      <th>2</th>\n",
              "      <td>164</td>\n",
              "      <td>Y</td>\n",
              "      <td>No</td>\n",
              "      <td>19.0</td>\n",
              "      <td>3.0</td>\n",
              "      <td>3.0</td>\n",
              "      <td>80.0</td>\n",
              "      <td>0.0</td>\n",
              "      <td>5.0</td>\n",
              "      <td>3.0</td>\n",
              "      <td>2.0</td>\n",
              "      <td>5.0</td>\n",
              "      <td>4.0</td>\n",
              "      <td>4.0</td>\n",
              "      <td>3.0</td>\n",
              "      <td>No</td>\n",
              "      <td>28416.0</td>\n",
              "    </tr>\n",
              "    <tr>\n",
              "      <th>3</th>\n",
              "      <td>395</td>\n",
              "      <td>Y</td>\n",
              "      <td>No</td>\n",
              "      <td>21.0</td>\n",
              "      <td>4.0</td>\n",
              "      <td>4.0</td>\n",
              "      <td>80.0</td>\n",
              "      <td>0.0</td>\n",
              "      <td>5.0</td>\n",
              "      <td>3.0</td>\n",
              "      <td>3.0</td>\n",
              "      <td>5.0</td>\n",
              "      <td>3.0</td>\n",
              "      <td>0.0</td>\n",
              "      <td>2.0</td>\n",
              "      <td>No</td>\n",
              "      <td>39720.0</td>\n",
              "    </tr>\n",
              "    <tr>\n",
              "      <th>4</th>\n",
              "      <td>53</td>\n",
              "      <td>Y</td>\n",
              "      <td>No</td>\n",
              "      <td>12.0</td>\n",
              "      <td>3.0</td>\n",
              "      <td>3.0</td>\n",
              "      <td>80.0</td>\n",
              "      <td>1.0</td>\n",
              "      <td>1.0</td>\n",
              "      <td>3.0</td>\n",
              "      <td>3.0</td>\n",
              "      <td>1.0</td>\n",
              "      <td>0.0</td>\n",
              "      <td>0.0</td>\n",
              "      <td>0.0</td>\n",
              "      <td>No</td>\n",
              "      <td>23412.0</td>\n",
              "    </tr>\n",
              "  </tbody>\n",
              "</table>\n",
              "</div>\n",
              "    <div class=\"colab-df-buttons\">\n",
              "\n",
              "  <div class=\"colab-df-container\">\n",
              "    <button class=\"colab-df-convert\" onclick=\"convertToInteractive('df-fc0c5732-c685-4aa5-bf80-74ddaf8cfd89')\"\n",
              "            title=\"Convert this dataframe to an interactive table.\"\n",
              "            style=\"display:none;\">\n",
              "\n",
              "  <svg xmlns=\"http://www.w3.org/2000/svg\" height=\"24px\" viewBox=\"0 -960 960 960\">\n",
              "    <path d=\"M120-120v-720h720v720H120Zm60-500h600v-160H180v160Zm220 220h160v-160H400v160Zm0 220h160v-160H400v160ZM180-400h160v-160H180v160Zm440 0h160v-160H620v160ZM180-180h160v-160H180v160Zm440 0h160v-160H620v160Z\"/>\n",
              "  </svg>\n",
              "    </button>\n",
              "\n",
              "  <style>\n",
              "    .colab-df-container {\n",
              "      display:flex;\n",
              "      gap: 12px;\n",
              "    }\n",
              "\n",
              "    .colab-df-convert {\n",
              "      background-color: #E8F0FE;\n",
              "      border: none;\n",
              "      border-radius: 50%;\n",
              "      cursor: pointer;\n",
              "      display: none;\n",
              "      fill: #1967D2;\n",
              "      height: 32px;\n",
              "      padding: 0 0 0 0;\n",
              "      width: 32px;\n",
              "    }\n",
              "\n",
              "    .colab-df-convert:hover {\n",
              "      background-color: #E2EBFA;\n",
              "      box-shadow: 0px 1px 2px rgba(60, 64, 67, 0.3), 0px 1px 3px 1px rgba(60, 64, 67, 0.15);\n",
              "      fill: #174EA6;\n",
              "    }\n",
              "\n",
              "    .colab-df-buttons div {\n",
              "      margin-bottom: 4px;\n",
              "    }\n",
              "\n",
              "    [theme=dark] .colab-df-convert {\n",
              "      background-color: #3B4455;\n",
              "      fill: #D2E3FC;\n",
              "    }\n",
              "\n",
              "    [theme=dark] .colab-df-convert:hover {\n",
              "      background-color: #434B5C;\n",
              "      box-shadow: 0px 1px 3px 1px rgba(0, 0, 0, 0.15);\n",
              "      filter: drop-shadow(0px 1px 2px rgba(0, 0, 0, 0.3));\n",
              "      fill: #FFFFFF;\n",
              "    }\n",
              "  </style>\n",
              "\n",
              "    <script>\n",
              "      const buttonEl =\n",
              "        document.querySelector('#df-fc0c5732-c685-4aa5-bf80-74ddaf8cfd89 button.colab-df-convert');\n",
              "      buttonEl.style.display =\n",
              "        google.colab.kernel.accessAllowed ? 'block' : 'none';\n",
              "\n",
              "      async function convertToInteractive(key) {\n",
              "        const element = document.querySelector('#df-fc0c5732-c685-4aa5-bf80-74ddaf8cfd89');\n",
              "        const dataTable =\n",
              "          await google.colab.kernel.invokeFunction('convertToInteractive',\n",
              "                                                    [key], {});\n",
              "        if (!dataTable) return;\n",
              "\n",
              "        const docLinkHtml = 'Like what you see? Visit the ' +\n",
              "          '<a target=\"_blank\" href=https://colab.research.google.com/notebooks/data_table.ipynb>data table notebook</a>'\n",
              "          + ' to learn more about interactive tables.';\n",
              "        element.innerHTML = '';\n",
              "        dataTable['output_type'] = 'display_data';\n",
              "        await google.colab.output.renderOutput(dataTable, element);\n",
              "        const docLink = document.createElement('div');\n",
              "        docLink.innerHTML = docLinkHtml;\n",
              "        element.appendChild(docLink);\n",
              "      }\n",
              "    </script>\n",
              "  </div>\n",
              "\n",
              "\n",
              "<div id=\"df-76a3b7d2-4ce4-4681-898a-01b90ad5304c\">\n",
              "  <button class=\"colab-df-quickchart\" onclick=\"quickchart('df-76a3b7d2-4ce4-4681-898a-01b90ad5304c')\"\n",
              "            title=\"Suggest charts\"\n",
              "            style=\"display:none;\">\n",
              "\n",
              "<svg xmlns=\"http://www.w3.org/2000/svg\" height=\"24px\"viewBox=\"0 0 24 24\"\n",
              "     width=\"24px\">\n",
              "    <g>\n",
              "        <path d=\"M19 3H5c-1.1 0-2 .9-2 2v14c0 1.1.9 2 2 2h14c1.1 0 2-.9 2-2V5c0-1.1-.9-2-2-2zM9 17H7v-7h2v7zm4 0h-2V7h2v10zm4 0h-2v-4h2v4z\"/>\n",
              "    </g>\n",
              "</svg>\n",
              "  </button>\n",
              "\n",
              "<style>\n",
              "  .colab-df-quickchart {\n",
              "      --bg-color: #E8F0FE;\n",
              "      --fill-color: #1967D2;\n",
              "      --hover-bg-color: #E2EBFA;\n",
              "      --hover-fill-color: #174EA6;\n",
              "      --disabled-fill-color: #AAA;\n",
              "      --disabled-bg-color: #DDD;\n",
              "  }\n",
              "\n",
              "  [theme=dark] .colab-df-quickchart {\n",
              "      --bg-color: #3B4455;\n",
              "      --fill-color: #D2E3FC;\n",
              "      --hover-bg-color: #434B5C;\n",
              "      --hover-fill-color: #FFFFFF;\n",
              "      --disabled-bg-color: #3B4455;\n",
              "      --disabled-fill-color: #666;\n",
              "  }\n",
              "\n",
              "  .colab-df-quickchart {\n",
              "    background-color: var(--bg-color);\n",
              "    border: none;\n",
              "    border-radius: 50%;\n",
              "    cursor: pointer;\n",
              "    display: none;\n",
              "    fill: var(--fill-color);\n",
              "    height: 32px;\n",
              "    padding: 0;\n",
              "    width: 32px;\n",
              "  }\n",
              "\n",
              "  .colab-df-quickchart:hover {\n",
              "    background-color: var(--hover-bg-color);\n",
              "    box-shadow: 0 1px 2px rgba(60, 64, 67, 0.3), 0 1px 3px 1px rgba(60, 64, 67, 0.15);\n",
              "    fill: var(--button-hover-fill-color);\n",
              "  }\n",
              "\n",
              "  .colab-df-quickchart-complete:disabled,\n",
              "  .colab-df-quickchart-complete:disabled:hover {\n",
              "    background-color: var(--disabled-bg-color);\n",
              "    fill: var(--disabled-fill-color);\n",
              "    box-shadow: none;\n",
              "  }\n",
              "\n",
              "  .colab-df-spinner {\n",
              "    border: 2px solid var(--fill-color);\n",
              "    border-color: transparent;\n",
              "    border-bottom-color: var(--fill-color);\n",
              "    animation:\n",
              "      spin 1s steps(1) infinite;\n",
              "  }\n",
              "\n",
              "  @keyframes spin {\n",
              "    0% {\n",
              "      border-color: transparent;\n",
              "      border-bottom-color: var(--fill-color);\n",
              "      border-left-color: var(--fill-color);\n",
              "    }\n",
              "    20% {\n",
              "      border-color: transparent;\n",
              "      border-left-color: var(--fill-color);\n",
              "      border-top-color: var(--fill-color);\n",
              "    }\n",
              "    30% {\n",
              "      border-color: transparent;\n",
              "      border-left-color: var(--fill-color);\n",
              "      border-top-color: var(--fill-color);\n",
              "      border-right-color: var(--fill-color);\n",
              "    }\n",
              "    40% {\n",
              "      border-color: transparent;\n",
              "      border-right-color: var(--fill-color);\n",
              "      border-top-color: var(--fill-color);\n",
              "    }\n",
              "    60% {\n",
              "      border-color: transparent;\n",
              "      border-right-color: var(--fill-color);\n",
              "    }\n",
              "    80% {\n",
              "      border-color: transparent;\n",
              "      border-right-color: var(--fill-color);\n",
              "      border-bottom-color: var(--fill-color);\n",
              "    }\n",
              "    90% {\n",
              "      border-color: transparent;\n",
              "      border-bottom-color: var(--fill-color);\n",
              "    }\n",
              "  }\n",
              "</style>\n",
              "\n",
              "  <script>\n",
              "    async function quickchart(key) {\n",
              "      const quickchartButtonEl =\n",
              "        document.querySelector('#' + key + ' button');\n",
              "      quickchartButtonEl.disabled = true;  // To prevent multiple clicks.\n",
              "      quickchartButtonEl.classList.add('colab-df-spinner');\n",
              "      try {\n",
              "        const charts = await google.colab.kernel.invokeFunction(\n",
              "            'suggestCharts', [key], {});\n",
              "      } catch (error) {\n",
              "        console.error('Error during call to suggestCharts:', error);\n",
              "      }\n",
              "      quickchartButtonEl.classList.remove('colab-df-spinner');\n",
              "      quickchartButtonEl.classList.add('colab-df-quickchart-complete');\n",
              "    }\n",
              "    (() => {\n",
              "      let quickchartButtonEl =\n",
              "        document.querySelector('#df-76a3b7d2-4ce4-4681-898a-01b90ad5304c button');\n",
              "      quickchartButtonEl.style.display =\n",
              "        google.colab.kernel.accessAllowed ? 'block' : 'none';\n",
              "    })();\n",
              "  </script>\n",
              "</div>\n",
              "    </div>\n",
              "  </div>\n"
            ]
          },
          "metadata": {},
          "execution_count": 6
        }
      ]
    },
    {
      "cell_type": "code",
      "source": [
        "df2.shape"
      ],
      "metadata": {
        "colab": {
          "base_uri": "https://localhost:8080/"
        },
        "id": "YONPGlPbUlLw",
        "outputId": "8413aeee-8102-4436-f2cb-4ad495b10e1e"
      },
      "execution_count": 7,
      "outputs": [
        {
          "output_type": "execute_result",
          "data": {
            "text/plain": [
              "(4449, 17)"
            ]
          },
          "metadata": {},
          "execution_count": 7
        }
      ]
    },
    {
      "cell_type": "code",
      "source": [
        "df2.info()"
      ],
      "metadata": {
        "colab": {
          "base_uri": "https://localhost:8080/"
        },
        "id": "SyjNNuOOUnuS",
        "outputId": "63ca1199-3bfa-4ab9-c0bb-3370312623f0"
      },
      "execution_count": 12,
      "outputs": [
        {
          "output_type": "stream",
          "name": "stdout",
          "text": [
            "<class 'pandas.core.frame.DataFrame'>\n",
            "RangeIndex: 4449 entries, 0 to 4448\n",
            "Data columns (total 17 columns):\n",
            " #   Column                    Non-Null Count  Dtype  \n",
            "---  ------                    --------------  -----  \n",
            " 0   EmployeeNumber            4449 non-null   int64  \n",
            " 1   Over18                    4449 non-null   object \n",
            " 2   OverTime                  4449 non-null   object \n",
            " 3   PercentSalaryHike         4449 non-null   float64\n",
            " 4   PerformanceRating         4449 non-null   float64\n",
            " 5   RelationshipSatisfaction  4449 non-null   float64\n",
            " 6   StandardHours             4449 non-null   float64\n",
            " 7   StockOptionLevel          4449 non-null   float64\n",
            " 8   TotalWorkingYears         4449 non-null   float64\n",
            " 9   TrainingTimesLastYear     4449 non-null   float64\n",
            " 10  WorkLifeBalance           4449 non-null   float64\n",
            " 11  YearsAtCompany            4449 non-null   float64\n",
            " 12  YearsInCurrentRole        4449 non-null   float64\n",
            " 13  YearsSinceLastPromotion   4449 non-null   float64\n",
            " 14  YearsWithCurrManager      4449 non-null   float64\n",
            " 15  Attrition                 4302 non-null   object \n",
            " 16  YearlyIncome              4449 non-null   float64\n",
            "dtypes: float64(13), int64(1), object(3)\n",
            "memory usage: 591.0+ KB\n"
          ]
        }
      ]
    },
    {
      "cell_type": "code",
      "source": [
        "df = pd.merge(df1, df2, on='EmployeeNumber')"
      ],
      "metadata": {
        "id": "8wadotpSVVx7"
      },
      "execution_count": 99,
      "outputs": []
    },
    {
      "cell_type": "code",
      "source": [
        "df.shape"
      ],
      "metadata": {
        "colab": {
          "base_uri": "https://localhost:8080/"
        },
        "id": "0kIjlNyaW8k5",
        "outputId": "eb8331f5-8af3-4779-ba19-f8d334c19e03"
      },
      "execution_count": 100,
      "outputs": [
        {
          "output_type": "execute_result",
          "data": {
            "text/plain": [
              "(4449, 36)"
            ]
          },
          "metadata": {},
          "execution_count": 100
        }
      ]
    },
    {
      "cell_type": "code",
      "source": [
        "df.info()"
      ],
      "metadata": {
        "colab": {
          "base_uri": "https://localhost:8080/"
        },
        "id": "BvEKWn3TW-ip",
        "outputId": "34f15a7e-2df9-4539-9e9f-4636e7e1129e"
      },
      "execution_count": 101,
      "outputs": [
        {
          "output_type": "stream",
          "name": "stdout",
          "text": [
            "<class 'pandas.core.frame.DataFrame'>\n",
            "Int64Index: 4449 entries, 0 to 4448\n",
            "Data columns (total 36 columns):\n",
            " #   Column                    Non-Null Count  Dtype  \n",
            "---  ------                    --------------  -----  \n",
            " 0   EmployeeNumber            4449 non-null   int64  \n",
            " 1   Age                       4449 non-null   float64\n",
            " 2   BusinessTravel            4449 non-null   object \n",
            " 3   DailyRate                 4449 non-null   float64\n",
            " 4   Department                4449 non-null   object \n",
            " 5   DistanceFromHome          4449 non-null   float64\n",
            " 6   Education                 4449 non-null   float64\n",
            " 7   EducationField            4449 non-null   object \n",
            " 8   EmployeeCount             4449 non-null   float64\n",
            " 9   EnvironmentSatisfaction   4449 non-null   float64\n",
            " 10  Gender                    4449 non-null   object \n",
            " 11  HourlyRate                4449 non-null   float64\n",
            " 12  JobInvolvement            4449 non-null   float64\n",
            " 13  JobLevel                  4449 non-null   float64\n",
            " 14  JobRole                   4449 non-null   object \n",
            " 15  JobSatisfaction           4449 non-null   float64\n",
            " 16  MaritalStatus             4449 non-null   object \n",
            " 17  MonthlyIncome             4449 non-null   float64\n",
            " 18  MonthlyRate               4449 non-null   float64\n",
            " 19  NumCompaniesWorked        4449 non-null   float64\n",
            " 20  Over18                    4449 non-null   object \n",
            " 21  OverTime                  4449 non-null   object \n",
            " 22  PercentSalaryHike         4449 non-null   float64\n",
            " 23  PerformanceRating         4449 non-null   float64\n",
            " 24  RelationshipSatisfaction  4449 non-null   float64\n",
            " 25  StandardHours             4449 non-null   float64\n",
            " 26  StockOptionLevel          4449 non-null   float64\n",
            " 27  TotalWorkingYears         4449 non-null   float64\n",
            " 28  TrainingTimesLastYear     4449 non-null   float64\n",
            " 29  WorkLifeBalance           4449 non-null   float64\n",
            " 30  YearsAtCompany            4449 non-null   float64\n",
            " 31  YearsInCurrentRole        4449 non-null   float64\n",
            " 32  YearsSinceLastPromotion   4449 non-null   float64\n",
            " 33  YearsWithCurrManager      4449 non-null   float64\n",
            " 34  Attrition                 4302 non-null   object \n",
            " 35  YearlyIncome              4449 non-null   float64\n",
            "dtypes: float64(26), int64(1), object(9)\n",
            "memory usage: 1.3+ MB\n"
          ]
        }
      ]
    },
    {
      "cell_type": "code",
      "source": [
        "df.head()"
      ],
      "metadata": {
        "colab": {
          "base_uri": "https://localhost:8080/",
          "height": 342
        },
        "id": "hix9dojHYyYA",
        "outputId": "30d89d7a-20f7-44c9-b681-92baa64ac343"
      },
      "execution_count": 102,
      "outputs": [
        {
          "output_type": "execute_result",
          "data": {
            "text/plain": [
              "   EmployeeNumber   Age BusinessTravel  DailyRate              Department  \\\n",
              "0             104  30.0  Travel_Rarely      852.0  Research & Development   \n",
              "1            1638  38.0  Travel_Rarely      397.0  Research & Development   \n",
              "2             164  26.0  Travel_Rarely      841.0  Research & Development   \n",
              "3             395  28.0  Travel_Rarely     1117.0  Research & Development   \n",
              "4              53  35.0  Travel_Rarely      464.0  Research & Development   \n",
              "\n",
              "   DistanceFromHome  Education EducationField  EmployeeCount  \\\n",
              "0               1.0        1.0  Life Sciences            1.0   \n",
              "1               2.0        2.0        Medical            1.0   \n",
              "2               6.0        3.0          Other            1.0   \n",
              "3               8.0        2.0  Life Sciences            1.0   \n",
              "4               4.0        2.0          Other            1.0   \n",
              "\n",
              "   EnvironmentSatisfaction  ... StockOptionLevel  TotalWorkingYears  \\\n",
              "0                      4.0  ...              2.0               10.0   \n",
              "1                      4.0  ...              1.0               10.0   \n",
              "2                      3.0  ...              0.0                5.0   \n",
              "3                      4.0  ...              0.0                5.0   \n",
              "4                      3.0  ...              1.0                1.0   \n",
              "\n",
              "   TrainingTimesLastYear  WorkLifeBalance YearsAtCompany  YearsInCurrentRole  \\\n",
              "0                    1.0              2.0           10.0                 8.0   \n",
              "1                    6.0              4.0            5.0                 4.0   \n",
              "2                    3.0              2.0            5.0                 4.0   \n",
              "3                    3.0              3.0            5.0                 3.0   \n",
              "4                    3.0              3.0            1.0                 0.0   \n",
              "\n",
              "  YearsSinceLastPromotion  YearsWithCurrManager  Attrition  YearlyIncome  \n",
              "0                     3.0                   0.0         No       61512.0  \n",
              "1                     0.0                   2.0         No       93072.0  \n",
              "2                     4.0                   3.0         No       28416.0  \n",
              "3                     0.0                   2.0         No       39720.0  \n",
              "4                     0.0                   0.0         No       23412.0  \n",
              "\n",
              "[5 rows x 36 columns]"
            ],
            "text/html": [
              "\n",
              "  <div id=\"df-0c236d7d-625f-4184-bbb5-04a38f95eeec\" class=\"colab-df-container\">\n",
              "    <div>\n",
              "<style scoped>\n",
              "    .dataframe tbody tr th:only-of-type {\n",
              "        vertical-align: middle;\n",
              "    }\n",
              "\n",
              "    .dataframe tbody tr th {\n",
              "        vertical-align: top;\n",
              "    }\n",
              "\n",
              "    .dataframe thead th {\n",
              "        text-align: right;\n",
              "    }\n",
              "</style>\n",
              "<table border=\"1\" class=\"dataframe\">\n",
              "  <thead>\n",
              "    <tr style=\"text-align: right;\">\n",
              "      <th></th>\n",
              "      <th>EmployeeNumber</th>\n",
              "      <th>Age</th>\n",
              "      <th>BusinessTravel</th>\n",
              "      <th>DailyRate</th>\n",
              "      <th>Department</th>\n",
              "      <th>DistanceFromHome</th>\n",
              "      <th>Education</th>\n",
              "      <th>EducationField</th>\n",
              "      <th>EmployeeCount</th>\n",
              "      <th>EnvironmentSatisfaction</th>\n",
              "      <th>...</th>\n",
              "      <th>StockOptionLevel</th>\n",
              "      <th>TotalWorkingYears</th>\n",
              "      <th>TrainingTimesLastYear</th>\n",
              "      <th>WorkLifeBalance</th>\n",
              "      <th>YearsAtCompany</th>\n",
              "      <th>YearsInCurrentRole</th>\n",
              "      <th>YearsSinceLastPromotion</th>\n",
              "      <th>YearsWithCurrManager</th>\n",
              "      <th>Attrition</th>\n",
              "      <th>YearlyIncome</th>\n",
              "    </tr>\n",
              "  </thead>\n",
              "  <tbody>\n",
              "    <tr>\n",
              "      <th>0</th>\n",
              "      <td>104</td>\n",
              "      <td>30.0</td>\n",
              "      <td>Travel_Rarely</td>\n",
              "      <td>852.0</td>\n",
              "      <td>Research &amp; Development</td>\n",
              "      <td>1.0</td>\n",
              "      <td>1.0</td>\n",
              "      <td>Life Sciences</td>\n",
              "      <td>1.0</td>\n",
              "      <td>4.0</td>\n",
              "      <td>...</td>\n",
              "      <td>2.0</td>\n",
              "      <td>10.0</td>\n",
              "      <td>1.0</td>\n",
              "      <td>2.0</td>\n",
              "      <td>10.0</td>\n",
              "      <td>8.0</td>\n",
              "      <td>3.0</td>\n",
              "      <td>0.0</td>\n",
              "      <td>No</td>\n",
              "      <td>61512.0</td>\n",
              "    </tr>\n",
              "    <tr>\n",
              "      <th>1</th>\n",
              "      <td>1638</td>\n",
              "      <td>38.0</td>\n",
              "      <td>Travel_Rarely</td>\n",
              "      <td>397.0</td>\n",
              "      <td>Research &amp; Development</td>\n",
              "      <td>2.0</td>\n",
              "      <td>2.0</td>\n",
              "      <td>Medical</td>\n",
              "      <td>1.0</td>\n",
              "      <td>4.0</td>\n",
              "      <td>...</td>\n",
              "      <td>1.0</td>\n",
              "      <td>10.0</td>\n",
              "      <td>6.0</td>\n",
              "      <td>4.0</td>\n",
              "      <td>5.0</td>\n",
              "      <td>4.0</td>\n",
              "      <td>0.0</td>\n",
              "      <td>2.0</td>\n",
              "      <td>No</td>\n",
              "      <td>93072.0</td>\n",
              "    </tr>\n",
              "    <tr>\n",
              "      <th>2</th>\n",
              "      <td>164</td>\n",
              "      <td>26.0</td>\n",
              "      <td>Travel_Rarely</td>\n",
              "      <td>841.0</td>\n",
              "      <td>Research &amp; Development</td>\n",
              "      <td>6.0</td>\n",
              "      <td>3.0</td>\n",
              "      <td>Other</td>\n",
              "      <td>1.0</td>\n",
              "      <td>3.0</td>\n",
              "      <td>...</td>\n",
              "      <td>0.0</td>\n",
              "      <td>5.0</td>\n",
              "      <td>3.0</td>\n",
              "      <td>2.0</td>\n",
              "      <td>5.0</td>\n",
              "      <td>4.0</td>\n",
              "      <td>4.0</td>\n",
              "      <td>3.0</td>\n",
              "      <td>No</td>\n",
              "      <td>28416.0</td>\n",
              "    </tr>\n",
              "    <tr>\n",
              "      <th>3</th>\n",
              "      <td>395</td>\n",
              "      <td>28.0</td>\n",
              "      <td>Travel_Rarely</td>\n",
              "      <td>1117.0</td>\n",
              "      <td>Research &amp; Development</td>\n",
              "      <td>8.0</td>\n",
              "      <td>2.0</td>\n",
              "      <td>Life Sciences</td>\n",
              "      <td>1.0</td>\n",
              "      <td>4.0</td>\n",
              "      <td>...</td>\n",
              "      <td>0.0</td>\n",
              "      <td>5.0</td>\n",
              "      <td>3.0</td>\n",
              "      <td>3.0</td>\n",
              "      <td>5.0</td>\n",
              "      <td>3.0</td>\n",
              "      <td>0.0</td>\n",
              "      <td>2.0</td>\n",
              "      <td>No</td>\n",
              "      <td>39720.0</td>\n",
              "    </tr>\n",
              "    <tr>\n",
              "      <th>4</th>\n",
              "      <td>53</td>\n",
              "      <td>35.0</td>\n",
              "      <td>Travel_Rarely</td>\n",
              "      <td>464.0</td>\n",
              "      <td>Research &amp; Development</td>\n",
              "      <td>4.0</td>\n",
              "      <td>2.0</td>\n",
              "      <td>Other</td>\n",
              "      <td>1.0</td>\n",
              "      <td>3.0</td>\n",
              "      <td>...</td>\n",
              "      <td>1.0</td>\n",
              "      <td>1.0</td>\n",
              "      <td>3.0</td>\n",
              "      <td>3.0</td>\n",
              "      <td>1.0</td>\n",
              "      <td>0.0</td>\n",
              "      <td>0.0</td>\n",
              "      <td>0.0</td>\n",
              "      <td>No</td>\n",
              "      <td>23412.0</td>\n",
              "    </tr>\n",
              "  </tbody>\n",
              "</table>\n",
              "<p>5 rows × 36 columns</p>\n",
              "</div>\n",
              "    <div class=\"colab-df-buttons\">\n",
              "\n",
              "  <div class=\"colab-df-container\">\n",
              "    <button class=\"colab-df-convert\" onclick=\"convertToInteractive('df-0c236d7d-625f-4184-bbb5-04a38f95eeec')\"\n",
              "            title=\"Convert this dataframe to an interactive table.\"\n",
              "            style=\"display:none;\">\n",
              "\n",
              "  <svg xmlns=\"http://www.w3.org/2000/svg\" height=\"24px\" viewBox=\"0 -960 960 960\">\n",
              "    <path d=\"M120-120v-720h720v720H120Zm60-500h600v-160H180v160Zm220 220h160v-160H400v160Zm0 220h160v-160H400v160ZM180-400h160v-160H180v160Zm440 0h160v-160H620v160ZM180-180h160v-160H180v160Zm440 0h160v-160H620v160Z\"/>\n",
              "  </svg>\n",
              "    </button>\n",
              "\n",
              "  <style>\n",
              "    .colab-df-container {\n",
              "      display:flex;\n",
              "      gap: 12px;\n",
              "    }\n",
              "\n",
              "    .colab-df-convert {\n",
              "      background-color: #E8F0FE;\n",
              "      border: none;\n",
              "      border-radius: 50%;\n",
              "      cursor: pointer;\n",
              "      display: none;\n",
              "      fill: #1967D2;\n",
              "      height: 32px;\n",
              "      padding: 0 0 0 0;\n",
              "      width: 32px;\n",
              "    }\n",
              "\n",
              "    .colab-df-convert:hover {\n",
              "      background-color: #E2EBFA;\n",
              "      box-shadow: 0px 1px 2px rgba(60, 64, 67, 0.3), 0px 1px 3px 1px rgba(60, 64, 67, 0.15);\n",
              "      fill: #174EA6;\n",
              "    }\n",
              "\n",
              "    .colab-df-buttons div {\n",
              "      margin-bottom: 4px;\n",
              "    }\n",
              "\n",
              "    [theme=dark] .colab-df-convert {\n",
              "      background-color: #3B4455;\n",
              "      fill: #D2E3FC;\n",
              "    }\n",
              "\n",
              "    [theme=dark] .colab-df-convert:hover {\n",
              "      background-color: #434B5C;\n",
              "      box-shadow: 0px 1px 3px 1px rgba(0, 0, 0, 0.15);\n",
              "      filter: drop-shadow(0px 1px 2px rgba(0, 0, 0, 0.3));\n",
              "      fill: #FFFFFF;\n",
              "    }\n",
              "  </style>\n",
              "\n",
              "    <script>\n",
              "      const buttonEl =\n",
              "        document.querySelector('#df-0c236d7d-625f-4184-bbb5-04a38f95eeec button.colab-df-convert');\n",
              "      buttonEl.style.display =\n",
              "        google.colab.kernel.accessAllowed ? 'block' : 'none';\n",
              "\n",
              "      async function convertToInteractive(key) {\n",
              "        const element = document.querySelector('#df-0c236d7d-625f-4184-bbb5-04a38f95eeec');\n",
              "        const dataTable =\n",
              "          await google.colab.kernel.invokeFunction('convertToInteractive',\n",
              "                                                    [key], {});\n",
              "        if (!dataTable) return;\n",
              "\n",
              "        const docLinkHtml = 'Like what you see? Visit the ' +\n",
              "          '<a target=\"_blank\" href=https://colab.research.google.com/notebooks/data_table.ipynb>data table notebook</a>'\n",
              "          + ' to learn more about interactive tables.';\n",
              "        element.innerHTML = '';\n",
              "        dataTable['output_type'] = 'display_data';\n",
              "        await google.colab.output.renderOutput(dataTable, element);\n",
              "        const docLink = document.createElement('div');\n",
              "        docLink.innerHTML = docLinkHtml;\n",
              "        element.appendChild(docLink);\n",
              "      }\n",
              "    </script>\n",
              "  </div>\n",
              "\n",
              "\n",
              "<div id=\"df-e3580837-4230-48d7-8fce-e05db256f7d3\">\n",
              "  <button class=\"colab-df-quickchart\" onclick=\"quickchart('df-e3580837-4230-48d7-8fce-e05db256f7d3')\"\n",
              "            title=\"Suggest charts\"\n",
              "            style=\"display:none;\">\n",
              "\n",
              "<svg xmlns=\"http://www.w3.org/2000/svg\" height=\"24px\"viewBox=\"0 0 24 24\"\n",
              "     width=\"24px\">\n",
              "    <g>\n",
              "        <path d=\"M19 3H5c-1.1 0-2 .9-2 2v14c0 1.1.9 2 2 2h14c1.1 0 2-.9 2-2V5c0-1.1-.9-2-2-2zM9 17H7v-7h2v7zm4 0h-2V7h2v10zm4 0h-2v-4h2v4z\"/>\n",
              "    </g>\n",
              "</svg>\n",
              "  </button>\n",
              "\n",
              "<style>\n",
              "  .colab-df-quickchart {\n",
              "      --bg-color: #E8F0FE;\n",
              "      --fill-color: #1967D2;\n",
              "      --hover-bg-color: #E2EBFA;\n",
              "      --hover-fill-color: #174EA6;\n",
              "      --disabled-fill-color: #AAA;\n",
              "      --disabled-bg-color: #DDD;\n",
              "  }\n",
              "\n",
              "  [theme=dark] .colab-df-quickchart {\n",
              "      --bg-color: #3B4455;\n",
              "      --fill-color: #D2E3FC;\n",
              "      --hover-bg-color: #434B5C;\n",
              "      --hover-fill-color: #FFFFFF;\n",
              "      --disabled-bg-color: #3B4455;\n",
              "      --disabled-fill-color: #666;\n",
              "  }\n",
              "\n",
              "  .colab-df-quickchart {\n",
              "    background-color: var(--bg-color);\n",
              "    border: none;\n",
              "    border-radius: 50%;\n",
              "    cursor: pointer;\n",
              "    display: none;\n",
              "    fill: var(--fill-color);\n",
              "    height: 32px;\n",
              "    padding: 0;\n",
              "    width: 32px;\n",
              "  }\n",
              "\n",
              "  .colab-df-quickchart:hover {\n",
              "    background-color: var(--hover-bg-color);\n",
              "    box-shadow: 0 1px 2px rgba(60, 64, 67, 0.3), 0 1px 3px 1px rgba(60, 64, 67, 0.15);\n",
              "    fill: var(--button-hover-fill-color);\n",
              "  }\n",
              "\n",
              "  .colab-df-quickchart-complete:disabled,\n",
              "  .colab-df-quickchart-complete:disabled:hover {\n",
              "    background-color: var(--disabled-bg-color);\n",
              "    fill: var(--disabled-fill-color);\n",
              "    box-shadow: none;\n",
              "  }\n",
              "\n",
              "  .colab-df-spinner {\n",
              "    border: 2px solid var(--fill-color);\n",
              "    border-color: transparent;\n",
              "    border-bottom-color: var(--fill-color);\n",
              "    animation:\n",
              "      spin 1s steps(1) infinite;\n",
              "  }\n",
              "\n",
              "  @keyframes spin {\n",
              "    0% {\n",
              "      border-color: transparent;\n",
              "      border-bottom-color: var(--fill-color);\n",
              "      border-left-color: var(--fill-color);\n",
              "    }\n",
              "    20% {\n",
              "      border-color: transparent;\n",
              "      border-left-color: var(--fill-color);\n",
              "      border-top-color: var(--fill-color);\n",
              "    }\n",
              "    30% {\n",
              "      border-color: transparent;\n",
              "      border-left-color: var(--fill-color);\n",
              "      border-top-color: var(--fill-color);\n",
              "      border-right-color: var(--fill-color);\n",
              "    }\n",
              "    40% {\n",
              "      border-color: transparent;\n",
              "      border-right-color: var(--fill-color);\n",
              "      border-top-color: var(--fill-color);\n",
              "    }\n",
              "    60% {\n",
              "      border-color: transparent;\n",
              "      border-right-color: var(--fill-color);\n",
              "    }\n",
              "    80% {\n",
              "      border-color: transparent;\n",
              "      border-right-color: var(--fill-color);\n",
              "      border-bottom-color: var(--fill-color);\n",
              "    }\n",
              "    90% {\n",
              "      border-color: transparent;\n",
              "      border-bottom-color: var(--fill-color);\n",
              "    }\n",
              "  }\n",
              "</style>\n",
              "\n",
              "  <script>\n",
              "    async function quickchart(key) {\n",
              "      const quickchartButtonEl =\n",
              "        document.querySelector('#' + key + ' button');\n",
              "      quickchartButtonEl.disabled = true;  // To prevent multiple clicks.\n",
              "      quickchartButtonEl.classList.add('colab-df-spinner');\n",
              "      try {\n",
              "        const charts = await google.colab.kernel.invokeFunction(\n",
              "            'suggestCharts', [key], {});\n",
              "      } catch (error) {\n",
              "        console.error('Error during call to suggestCharts:', error);\n",
              "      }\n",
              "      quickchartButtonEl.classList.remove('colab-df-spinner');\n",
              "      quickchartButtonEl.classList.add('colab-df-quickchart-complete');\n",
              "    }\n",
              "    (() => {\n",
              "      let quickchartButtonEl =\n",
              "        document.querySelector('#df-e3580837-4230-48d7-8fce-e05db256f7d3 button');\n",
              "      quickchartButtonEl.style.display =\n",
              "        google.colab.kernel.accessAllowed ? 'block' : 'none';\n",
              "    })();\n",
              "  </script>\n",
              "</div>\n",
              "    </div>\n",
              "  </div>\n"
            ]
          },
          "metadata": {},
          "execution_count": 102
        }
      ]
    },
    {
      "cell_type": "code",
      "source": [
        "df.Attrition.unique()"
      ],
      "metadata": {
        "colab": {
          "base_uri": "https://localhost:8080/"
        },
        "id": "c2WnJAwHd3iY",
        "outputId": "ddf1482b-ab4f-4807-e31e-b6fbbbf5aae6"
      },
      "execution_count": 103,
      "outputs": [
        {
          "output_type": "execute_result",
          "data": {
            "text/plain": [
              "array(['No', 'Yes', nan], dtype=object)"
            ]
          },
          "metadata": {},
          "execution_count": 103
        }
      ]
    },
    {
      "cell_type": "code",
      "source": [
        "df = df.dropna(subset=['Attrition'])"
      ],
      "metadata": {
        "id": "9RBYfqO9ePa5"
      },
      "execution_count": 104,
      "outputs": []
    },
    {
      "cell_type": "code",
      "source": [
        "df.Attrition.unique()"
      ],
      "metadata": {
        "colab": {
          "base_uri": "https://localhost:8080/"
        },
        "id": "RDLTgfFdfegQ",
        "outputId": "18a80c41-b7b9-481c-a009-352c77b4323a"
      },
      "execution_count": 105,
      "outputs": [
        {
          "output_type": "execute_result",
          "data": {
            "text/plain": [
              "array(['No', 'Yes'], dtype=object)"
            ]
          },
          "metadata": {},
          "execution_count": 105
        }
      ]
    },
    {
      "cell_type": "code",
      "source": [
        "df.shape"
      ],
      "metadata": {
        "colab": {
          "base_uri": "https://localhost:8080/"
        },
        "id": "gelkSxbmfoEX",
        "outputId": "582998f8-b35f-4a15-b819-47ffcfaa853d"
      },
      "execution_count": 106,
      "outputs": [
        {
          "output_type": "execute_result",
          "data": {
            "text/plain": [
              "(4302, 36)"
            ]
          },
          "metadata": {},
          "execution_count": 106
        }
      ]
    },
    {
      "cell_type": "code",
      "source": [
        "Attrition_dict = {'No':0, 'Yes':1}\n",
        "df['Attrition']=df['Attrition'].map(Attrition_dict)"
      ],
      "metadata": {
        "id": "hxR6vgIvnA9e"
      },
      "execution_count": 107,
      "outputs": []
    },
    {
      "cell_type": "code",
      "source": [
        "df.Attrition.unique()"
      ],
      "metadata": {
        "colab": {
          "base_uri": "https://localhost:8080/"
        },
        "id": "a1OtRwBYnF7c",
        "outputId": "df0e1b61-a62a-43d1-a185-da22662cdf22"
      },
      "execution_count": 108,
      "outputs": [
        {
          "output_type": "execute_result",
          "data": {
            "text/plain": [
              "array([0, 1])"
            ]
          },
          "metadata": {},
          "execution_count": 108
        }
      ]
    },
    {
      "cell_type": "code",
      "source": [
        "df.Age.unique()"
      ],
      "metadata": {
        "colab": {
          "base_uri": "https://localhost:8080/"
        },
        "id": "iDrLu-uGfret",
        "outputId": "13bd4079-e710-41a1-e8e7-728456820343"
      },
      "execution_count": 109,
      "outputs": [
        {
          "output_type": "execute_result",
          "data": {
            "text/plain": [
              "array([  30.,   38.,   26.,   28.,   35.,   34.,   32.,   42.,   40.,\n",
              "         48.,   39.,   18.,   43.,   21.,   53.,   45.,   29.,   33.,\n",
              "         41.,   24.,   37.,   50.,   36.,   52.,   47.,   31.,   49.,\n",
              "         54.,   44.,   22.,   46.,   27.,   55.,   59.,   25.,   23.,\n",
              "         56.,   20.,   60.,   51.,   58.,   19.,   57., 8825., 3628.,\n",
              "       6287., 9330., 1107., 4454., 9155., 9890., 1189., 9195., 9014.,\n",
              "       1136., 5582., 2404., 1541., 4510., 4322., 4988., 8388., 2530.,\n",
              "       8901., 2852., 2459., 2982., 4973., 8534., 8314., 4130., 4328.,\n",
              "       7952., 8699., 3147., 8889., 3871., 9531., 8167., 5257., 8136.,\n",
              "       7390., 2993., 5672., 5933., 5614., 5007., 3095., 9219., 6749.,\n",
              "       4515., 6715., 1141., 8949., 3636., 4805., 5959., 9384., 8042.,\n",
              "       1423., 7056., 5116., 2667., 8703., 1126., 9612., 7845., 6998.,\n",
              "       1788., 6727., 5377., 5565., 4558., 6506., 4591., 7662., 6510.,\n",
              "       4985., 9581., 2095., 2275., 6399., 4935., 2698., 7617., 9661.,\n",
              "       4834., 2242., 1915., 3226., 7924., 9529., 8326., 1578., 8560.,\n",
              "       9078., 6429., 9243., 2186., 2888., 6210., 3388., 2423., 6025.,\n",
              "       1530., 7017., 4137., 5852., 4744., 7147., 7963., 2972., 5997.,\n",
              "       3626., 8744., 2637., 4880., 4330., 2641., 2882., 5215., 7015.,\n",
              "       8365., 6032., 5034., 2280., 4553., 3469., 8237., 8097., 3281.,\n",
              "       6703., 2012., 9866., 1775., 5402., 9159., 3437., 8823.])"
            ]
          },
          "metadata": {},
          "execution_count": 109
        }
      ]
    },
    {
      "cell_type": "code",
      "source": [
        "df = df[df['Age'] <= 100]"
      ],
      "metadata": {
        "id": "Nr3Z8FcBkClP"
      },
      "execution_count": 110,
      "outputs": []
    },
    {
      "cell_type": "code",
      "source": [
        "df.Age.unique()"
      ],
      "metadata": {
        "colab": {
          "base_uri": "https://localhost:8080/"
        },
        "id": "goiPXjJ6kHM5",
        "outputId": "8e80e295-214e-44d5-fc3b-35f08db0ab84"
      },
      "execution_count": 111,
      "outputs": [
        {
          "output_type": "execute_result",
          "data": {
            "text/plain": [
              "array([30., 38., 26., 28., 35., 34., 32., 42., 40., 48., 39., 18., 43.,\n",
              "       21., 53., 45., 29., 33., 41., 24., 37., 50., 36., 52., 47., 31.,\n",
              "       49., 54., 44., 22., 46., 27., 55., 59., 25., 23., 56., 20., 60.,\n",
              "       51., 58., 19., 57.])"
            ]
          },
          "metadata": {},
          "execution_count": 111
        }
      ]
    },
    {
      "cell_type": "code",
      "source": [
        "df.BusinessTravel.unique()"
      ],
      "metadata": {
        "colab": {
          "base_uri": "https://localhost:8080/"
        },
        "id": "UNkfyuQ_giUF",
        "outputId": "56359f07-395f-4e15-81e7-6a32795df80f"
      },
      "execution_count": 112,
      "outputs": [
        {
          "output_type": "execute_result",
          "data": {
            "text/plain": [
              "array(['Travel_Rarely', 'Travel_Frequently', 'Non-Travel'], dtype=object)"
            ]
          },
          "metadata": {},
          "execution_count": 112
        }
      ]
    },
    {
      "cell_type": "code",
      "source": [
        "df = df.join(pd.get_dummies(df[\"BusinessTravel\"], drop_first=True)).drop(\"BusinessTravel\", axis=1)"
      ],
      "metadata": {
        "id": "3BGELHQeoXIL"
      },
      "execution_count": 113,
      "outputs": []
    },
    {
      "cell_type": "code",
      "source": [
        "df.columns"
      ],
      "metadata": {
        "colab": {
          "base_uri": "https://localhost:8080/"
        },
        "id": "roylKf33uhhH",
        "outputId": "8cb3eefe-5fd1-48cb-a143-7d88ee7cb1cc"
      },
      "execution_count": 114,
      "outputs": [
        {
          "output_type": "execute_result",
          "data": {
            "text/plain": [
              "Index(['EmployeeNumber', 'Age', 'DailyRate', 'Department', 'DistanceFromHome',\n",
              "       'Education', 'EducationField', 'EmployeeCount',\n",
              "       'EnvironmentSatisfaction', 'Gender', 'HourlyRate', 'JobInvolvement',\n",
              "       'JobLevel', 'JobRole', 'JobSatisfaction', 'MaritalStatus',\n",
              "       'MonthlyIncome', 'MonthlyRate', 'NumCompaniesWorked', 'Over18',\n",
              "       'OverTime', 'PercentSalaryHike', 'PerformanceRating',\n",
              "       'RelationshipSatisfaction', 'StandardHours', 'StockOptionLevel',\n",
              "       'TotalWorkingYears', 'TrainingTimesLastYear', 'WorkLifeBalance',\n",
              "       'YearsAtCompany', 'YearsInCurrentRole', 'YearsSinceLastPromotion',\n",
              "       'YearsWithCurrManager', 'Attrition', 'YearlyIncome',\n",
              "       'Travel_Frequently', 'Travel_Rarely'],\n",
              "      dtype='object')"
            ]
          },
          "metadata": {},
          "execution_count": 114
        }
      ]
    },
    {
      "cell_type": "code",
      "source": [
        "df.DailyRate.unique()"
      ],
      "metadata": {
        "colab": {
          "base_uri": "https://localhost:8080/"
        },
        "id": "4DVODkXChdBj",
        "outputId": "cd8925d6-c5f6-4eed-a758-c5dd37aaaa24"
      },
      "execution_count": 115,
      "outputs": [
        {
          "output_type": "execute_result",
          "data": {
            "text/plain": [
              "array([ 852.,  397.,  841., 1117.,  464., 1107., 1018.,  269.,  296.,\n",
              "        989.,  855., 1181.,  895.,  827.,  977.,  544.,  244.,  995.,\n",
              "       1343., 1282.,  153.,  280.,  404., 1265.,  252., 1496.,  306.,\n",
              "        128.,  529.,  553.,  572.,  482.,  471.,  509.,  130.,  506.,\n",
              "        329.,  367., 1219.,  746., 1322.,  969., 1271., 1158.,  688.,\n",
              "        319.,  371., 1336.,  107.,  448.,  359.,  625., 1017.,  835.,\n",
              "       1050.,  523., 1064., 1128.,  928., 1319.,  932.,  809., 1376.,\n",
              "        253.,  336.,  884., 1385.,  945.,  118., 1231.,  426.,  737.,\n",
              "       1442.,  853.,  557.,  377.,  616., 1398., 1138.,  531.,  138.,\n",
              "       1377., 1240., 1400., 1001., 1082., 1171.,  136.,  218.,  452.,\n",
              "       1397., 1192.,  944.,  408., 1040., 1329., 1416., 1125., 1144.,\n",
              "        442., 1157.,  438.,  147.,  140.,  240.,  202., 1297.,  486.,\n",
              "       1146.,  150., 1404., 1206., 1172.,  771., 1167.,  441., 1141.,\n",
              "        715.,  891.,  282., 1425., 1371.,  170.,  650., 1212.,  638.,\n",
              "       1255., 1099., 1222.,  199.,  116., 1296., 1294.,  769.,  548.,\n",
              "        738.,  933.,  167., 1174.,  304.,  477.,  607.,  991., 1277.,\n",
              "        318., 1332.,  967.,  311., 1015.,  618.,  994., 1311.,  144.,\n",
              "       1055.,  530.,  330.,  508.,  593., 1242.,  430.,  718., 1349.,\n",
              "        663.,  696., 1303.,  970.,  573.,  678., 1221.,  924., 1456.,\n",
              "       1130., 1223.,  301.,  848.,  370., 1232., 1225., 1234.,  228.,\n",
              "        481.,  754., 1375.,  201.,  645., 1070.,  791.,  836., 1485.,\n",
              "       1339., 1379.,  267.,  355.,  376.,  334.,  516.,  641.,  763.,\n",
              "        185., 1356., 1153., 1480.,  316.,  705.,  427., 1094.,  264.,\n",
              "        560., 1441.,  168.,  216.,  431.,  867.,  735., 1142.,  556.,\n",
              "        192.,  119.,  247.,  248.,  129.,  630., 1252., 1300.,  604.,\n",
              "        289., 1420., 1041., 1112.,  897.,  111., 1413., 1355.,  833.,\n",
              "       1366.,  721.,  243.,  672., 1076.,  669., 1445.,  134., 1275.,\n",
              "        501.,  383.,  983., 1251.,  655.,  673.,  555., 1193.,  691.,\n",
              "       1091., 1448.,  369.,  310., 1402.,  662.,  781., 1380.,  703.,\n",
              "        591.,  806.,  458.,  342., 1333.,  263.,  845., 1358.,  141.,\n",
              "        883.,  542., 1370.,  428.,  566., 1313.,  279.,  217., 1431.,\n",
              "        390.,  142.,  574., 1434., 1467., 1009.,  447., 1258.,  571.,\n",
              "        163.,  906., 1421., 1354., 1302.,  406., 1199., 1382., 1259.,\n",
              "       1474., 1126., 1137.,  589., 1045.,  105.,  626.,  829., 1272.,\n",
              "        146.,  796.,  179.,  812., 1033.,  500., 1454., 1084.,  490.,\n",
              "       1127.,  345.,  258., 1378.,  697.,  682., 1092.,  971.,  699.,\n",
              "       1005., 1154.,  131.,  583.,  905.,  617., 1168., 1451.,  896.,\n",
              "       1236.,  189.,  750.,  224.,  636.,  504., 1179.,  343., 1361.,\n",
              "        534.,  869.,  285., 1162.,  195., 1443.,  322.,  878.,  621.,\n",
              "       1075., 1217., 1204.,  188.,  979.,  821.,  174., 1280.,  480.,\n",
              "       1449., 1182.,  437., 1429.,  676., 1274., 1079.,  277., 1089.,\n",
              "        256., 1238.,  783.,  391.,  661.,  613., 1029.,  976.,  605.,\n",
              "       1066.,  436., 1396.,  194.,  121.,  419.,  755.,  288.,  920.,\n",
              "        959.,  352.,  921., 1103.,  251., 1344., 1283.,  657., 1038.,\n",
              "        541.,  911.,  410.,  775.,  528.,  177.,  472., 1312.,  117.,\n",
              "        563.,  957.,  271.,  546.,  241.,  675.,  360., 1427.,  694.,\n",
              "       1309.,  172., 1411.,  964.,  470.,  722.,  628.,  155., 1054.,\n",
              "        182., 1463., 1440.,  871.,  337.,  692.,  465.,  693.,  654.,\n",
              "        443., 1353., 1405., 1131., 1459.,  309.,  422., 1134., 1085.,\n",
              "        587., 1342.,  413., 1218., 1452.,  109.,  575.,  440.,  507.,\n",
              "        164.,  433.,  469.,  592.,  601.,  415.,  294.,  986.,  611.,\n",
              "        894.,  581., 1357.,  832.,  299., 1276., 1462., 1120.,  788.,\n",
              "       1479.,  552.,  684., 1200.,  219., 1202.,  807., 1122., 1469.,\n",
              "       1188., 1351.,  950., 1093.,  286.,  535.,  254.,  786.,  956.,\n",
              "        790.,  804.,  559.,  713.,  205., 1490., 1243., 1210.,  882.,\n",
              "        723., 1105.,  879., 1136.,  954.,  200.,  466.,  350., 1053.,\n",
              "        489., 1291.,  594.,  685.,  840., 1389., 1305.,  913.,  373.,\n",
              "        585.,  862.,  652., 1034., 1320.,  203., 1063.,  106., 1334.,\n",
              "        265.,  635., 1097.,  603., 1115., 1194.,  702.,  154., 1475.,\n",
              "        210.,  708.,  711., 1306.,  792., 1180.,  379.,  505.,  982.,\n",
              "        949.,  931., 1207., 1216.,  644.,  938.,  741.,  303.,  887.,\n",
              "        392., 1492., 1470., 1327., 1062.,  332.,  922., 1246.,  325.,\n",
              "       1323.,  748., 1109.,  580.,  135., 1245.,  666.,  538., 1184.,\n",
              "        429.,  157.,  462.,  602.,  885.,  300., 1465.,  532.,  562.,\n",
              "        946.,  990.,  805., 1090.,  599.,  903.,  648.,  929., 1450.,\n",
              "        432.,  797.,  364.,  143.,  880.,  362.,  287.,  817.,  849.,\n",
              "        634.,  890.,  161., 1253., 1368., 1178.,  770.,  302., 1318.,\n",
              "       1023.,  152.,  160.,  665.,  930.,  868.,  268.,  943., 1150.,\n",
              "        966., 1069.,  598.,  180.,  266.,  992.,  793., 1108., 1387.,\n",
              "       1211.,  104.,  204., 1189.,  499.,  326.,  181.,  156., 1198.,\n",
              "        384.,  238.,  561.,  115.,  671., 1266.,  658., 1124., 1035.,\n",
              "        942.,  394., 1330.,  819.,  492.,  461.,  374.,  881.,  667.,\n",
              "        813.,  683.,  670.,  527.,  726.,  799.,  498.,  543.,  727.,\n",
              "       1230.,  307.,  866.,  230., 1031., 1239.,  801., 1365.,  176.,\n",
              "        125., 1214., 1288.,  457.,  996., 1495., 1476.,  478.,  999.,\n",
              "        196.,  608.,  902.,  558.,  444., 1229.,  145.,  586., 1372.,\n",
              "        600.,  916.,  917.,  736.,  640., 1488., 1176.,  395., 1337.,\n",
              "       1256., 1321., 1059., 1384.,  981.,  102., 1383.,  759.,  660.,\n",
              "        317., 1213.,  740., 1116.,  728., 1145., 1403., 1473., 1362.,\n",
              "       1278.,  549.,  756.,  439.,  536., 1315.,  720.,  629.,  889.,\n",
              "        588.,  974.,  622.,  830.,  734., 1151.,  211., 1195., 1482.,\n",
              "        810., 1030., 1395., 1457.,  313., 1010.,  328.,  706., 1086.,\n",
              "       1262.,  511.,  526., 1422., 1254.,  646.,  664., 1360.,  207.,\n",
              "        632.,  984.,  261.,  193., 1268., 1098., 1261.,  818.,  401.,\n",
              "        333., 1249.,  857., 1224.,  955.,  446., 1436., 1316.,  590.,\n",
              "       1418.,  567.,  802.,  249., 1410.,  290.,  704.,  305.,  525.,\n",
              "       1423.,  854.,  926.,  823., 1326., 1012., 1273.,  798., 1037.,\n",
              "       1065.,  479., 1186.,  988.,  953.,  234.,  468., 1046.,  653.,\n",
              "        341., 1247., 1269.,  824.,  619., 1287.,  782.,  937.,  120.,\n",
              "        232., 1123., 1308.,  132.,  859.,  968., 1003.,  483.,  495.,\n",
              "       1102.,  524., 1346.,  346., 1169., 1439., 1328.,  467., 1401.,\n",
              "        103.,  335., 1325.,  206.,  918.,  772., 1435.,  231.,  570.,\n",
              "       1052.,  496.,  314.,  405., 1444.,  474.,  414., 1498.,  412.,\n",
              "       1391.,  124., 1464., 1083.,  776., 1096.,  647., 1220.,  766.,\n",
              "        939., 1373.,  237.,  381.,  488.,  459., 1394., 1392.,  642.,\n",
              "        773.,  760., 1111.,  719., 1369.,  674.,  363., 1147., 1324.,\n",
              "        717.,  828., 1132.,  898.,  515.,  935., 1499.,  874.,  888.,\n",
              "       1002.,  584., 1381.,  148.,  689.,  975.,  213.,  725.,  208.,\n",
              "        582.])"
            ]
          },
          "metadata": {},
          "execution_count": 115
        }
      ]
    },
    {
      "cell_type": "code",
      "source": [
        "df.Department.unique()"
      ],
      "metadata": {
        "colab": {
          "base_uri": "https://localhost:8080/"
        },
        "id": "DptTl38rhlMJ",
        "outputId": "fc0a5c73-153b-4341-ef2a-de0ead586eac"
      },
      "execution_count": 116,
      "outputs": [
        {
          "output_type": "execute_result",
          "data": {
            "text/plain": [
              "array(['Research & Development', 'Human Resources', 'Sales'], dtype=object)"
            ]
          },
          "metadata": {},
          "execution_count": 116
        }
      ]
    },
    {
      "cell_type": "code",
      "source": [
        "df = df.join(pd.get_dummies(df[\"Department\"], drop_first=True)).drop(\"Department\", axis=1)"
      ],
      "metadata": {
        "id": "hoRWziATvAbX"
      },
      "execution_count": 117,
      "outputs": []
    },
    {
      "cell_type": "code",
      "source": [
        "df.columns"
      ],
      "metadata": {
        "colab": {
          "base_uri": "https://localhost:8080/"
        },
        "id": "GNg9AGaYvUsw",
        "outputId": "af7d31a0-214a-410b-8f63-081dc6f8407a"
      },
      "execution_count": 118,
      "outputs": [
        {
          "output_type": "execute_result",
          "data": {
            "text/plain": [
              "Index(['EmployeeNumber', 'Age', 'DailyRate', 'DistanceFromHome', 'Education',\n",
              "       'EducationField', 'EmployeeCount', 'EnvironmentSatisfaction', 'Gender',\n",
              "       'HourlyRate', 'JobInvolvement', 'JobLevel', 'JobRole',\n",
              "       'JobSatisfaction', 'MaritalStatus', 'MonthlyIncome', 'MonthlyRate',\n",
              "       'NumCompaniesWorked', 'Over18', 'OverTime', 'PercentSalaryHike',\n",
              "       'PerformanceRating', 'RelationshipSatisfaction', 'StandardHours',\n",
              "       'StockOptionLevel', 'TotalWorkingYears', 'TrainingTimesLastYear',\n",
              "       'WorkLifeBalance', 'YearsAtCompany', 'YearsInCurrentRole',\n",
              "       'YearsSinceLastPromotion', 'YearsWithCurrManager', 'Attrition',\n",
              "       'YearlyIncome', 'Travel_Frequently', 'Travel_Rarely',\n",
              "       'Research & Development', 'Sales'],\n",
              "      dtype='object')"
            ]
          },
          "metadata": {},
          "execution_count": 118
        }
      ]
    },
    {
      "cell_type": "code",
      "source": [
        "df.DistanceFromHome.unique()"
      ],
      "metadata": {
        "colab": {
          "base_uri": "https://localhost:8080/"
        },
        "id": "pzdLxMomhtaf",
        "outputId": "137d9a23-3f57-4db6-a1e8-d019396581b7"
      },
      "execution_count": 119,
      "outputs": [
        {
          "output_type": "execute_result",
          "data": {
            "text/plain": [
              "array([1.00000e+00, 2.00000e+00, 6.00000e+00, 8.00000e+00, 4.00000e+00,\n",
              "       9.00000e+00, 3.00000e+00, 5.00000e+00, 2.20000e+01, 2.60000e+01,\n",
              "       1.00000e+01, 1.20000e+01, 7.00000e+00, 2.50000e+01, 2.90000e+01,\n",
              "       1.80000e+01, 2.40000e+01, 2.80000e+01, 1.60000e+01, 1.90000e+01,\n",
              "       1.30000e+01, 2.00000e+01, 1.10000e+01, 2.30000e+01, 2.10000e+01,\n",
              "       1.50000e+01, 1.40000e+01, 1.70000e+01, 2.70000e+01, 3.02984e+05,\n",
              "       6.29986e+05, 8.87003e+05, 9.18326e+05, 9.97422e+05, 8.52749e+05,\n",
              "       6.79106e+05, 3.04698e+05, 7.72706e+05, 2.59089e+05, 9.92947e+05,\n",
              "       2.53620e+05, 8.86117e+05, 8.60358e+05, 5.47308e+05, 1.93929e+05,\n",
              "       9.63929e+05, 8.09361e+05, 1.40916e+05, 8.25100e+05, 4.18093e+05,\n",
              "       7.16417e+05, 5.46730e+05, 2.42839e+05, 7.43173e+05, 1.50886e+05,\n",
              "       9.46786e+05, 6.07220e+05, 5.60047e+05, 8.40183e+05, 5.88585e+05,\n",
              "       4.79723e+05, 3.02239e+05, 9.99590e+05, 1.35607e+05, 3.27380e+05,\n",
              "       5.16738e+05, 3.80120e+05, 2.89540e+05, 4.70836e+05, 6.36415e+05,\n",
              "       1.47920e+05, 6.49517e+05, 6.88939e+05, 5.49089e+05, 9.33385e+05,\n",
              "       4.47546e+05, 7.82402e+05, 8.25855e+05, 4.10963e+05, 1.43454e+05,\n",
              "       6.67984e+05, 8.15600e+05, 3.32529e+05, 5.35366e+05, 6.92089e+05,\n",
              "       3.67120e+05, 2.66645e+05, 2.49717e+05, 1.67566e+05, 1.38023e+05,\n",
              "       5.53235e+05, 1.23628e+05, 1.02637e+05, 3.81469e+05, 2.64889e+05,\n",
              "       3.76075e+05, 2.74206e+05, 6.47087e+05, 2.29109e+05, 7.65855e+05,\n",
              "       9.75446e+05, 9.24937e+05, 9.34448e+05, 6.32834e+05, 4.21069e+05,\n",
              "       4.58858e+05, 2.98194e+05, 9.93161e+05, 6.86501e+05, 5.35160e+05,\n",
              "       1.61435e+05, 1.19377e+05, 2.79509e+05, 2.37547e+05, 5.89265e+05,\n",
              "       2.70050e+05, 3.03600e+05, 8.95533e+05, 9.71787e+05, 2.15000e+05,\n",
              "       5.85976e+05, 2.04179e+05, 6.78387e+05, 4.82211e+05, 7.55441e+05,\n",
              "       7.10269e+05, 2.20024e+05, 5.06379e+05, 8.53938e+05, 9.32144e+05,\n",
              "       9.68203e+05, 2.77125e+05, 5.36402e+05, 3.39434e+05, 1.02583e+05,\n",
              "       1.87830e+05, 5.88809e+05, 4.49359e+05, 6.25879e+05, 3.91908e+05,\n",
              "       6.33867e+05, 4.54423e+05, 7.40696e+05, 5.60263e+05, 7.33295e+05,\n",
              "       3.08024e+05, 8.12485e+05, 7.07484e+05, 4.77232e+05, 7.92796e+05,\n",
              "       4.11835e+05, 2.49810e+05, 3.23510e+05, 8.83970e+05, 3.22329e+05,\n",
              "       4.90741e+05, 6.64579e+05, 9.18785e+05])"
            ]
          },
          "metadata": {},
          "execution_count": 119
        }
      ]
    },
    {
      "cell_type": "code",
      "source": [
        "df.Education.unique()"
      ],
      "metadata": {
        "colab": {
          "base_uri": "https://localhost:8080/"
        },
        "id": "-axFlAm_hznO",
        "outputId": "8a7280e1-8df4-46d4-f1e8-4d1646f0b745"
      },
      "execution_count": 120,
      "outputs": [
        {
          "output_type": "execute_result",
          "data": {
            "text/plain": [
              "array([1., 2., 3., 4., 5.])"
            ]
          },
          "metadata": {},
          "execution_count": 120
        }
      ]
    },
    {
      "cell_type": "code",
      "source": [
        "df.EducationField.unique()"
      ],
      "metadata": {
        "colab": {
          "base_uri": "https://localhost:8080/"
        },
        "id": "tsmI1lPuh8TH",
        "outputId": "efcc5734-f5c5-4ff3-f42c-7dc5f0a66b22"
      },
      "execution_count": 121,
      "outputs": [
        {
          "output_type": "execute_result",
          "data": {
            "text/plain": [
              "array(['Life Sciences', 'Medical', 'Other', 'Technical Degree',\n",
              "       'Marketing', 'Human Resources'], dtype=object)"
            ]
          },
          "metadata": {},
          "execution_count": 121
        }
      ]
    },
    {
      "cell_type": "code",
      "source": [
        "df = df.join(pd.get_dummies(df[\"EducationField\"], drop_first=True)).drop(\"EducationField\", axis=1)"
      ],
      "metadata": {
        "id": "pZ9u_lUCvnqL"
      },
      "execution_count": 122,
      "outputs": []
    },
    {
      "cell_type": "code",
      "source": [
        "df.columns"
      ],
      "metadata": {
        "colab": {
          "base_uri": "https://localhost:8080/"
        },
        "id": "_B7CiITPv-kj",
        "outputId": "14872e50-e438-4bea-c6d4-2c3b5c773967"
      },
      "execution_count": 123,
      "outputs": [
        {
          "output_type": "execute_result",
          "data": {
            "text/plain": [
              "Index(['EmployeeNumber', 'Age', 'DailyRate', 'DistanceFromHome', 'Education',\n",
              "       'EmployeeCount', 'EnvironmentSatisfaction', 'Gender', 'HourlyRate',\n",
              "       'JobInvolvement', 'JobLevel', 'JobRole', 'JobSatisfaction',\n",
              "       'MaritalStatus', 'MonthlyIncome', 'MonthlyRate', 'NumCompaniesWorked',\n",
              "       'Over18', 'OverTime', 'PercentSalaryHike', 'PerformanceRating',\n",
              "       'RelationshipSatisfaction', 'StandardHours', 'StockOptionLevel',\n",
              "       'TotalWorkingYears', 'TrainingTimesLastYear', 'WorkLifeBalance',\n",
              "       'YearsAtCompany', 'YearsInCurrentRole', 'YearsSinceLastPromotion',\n",
              "       'YearsWithCurrManager', 'Attrition', 'YearlyIncome',\n",
              "       'Travel_Frequently', 'Travel_Rarely', 'Research & Development', 'Sales',\n",
              "       'Life Sciences', 'Marketing', 'Medical', 'Other', 'Technical Degree'],\n",
              "      dtype='object')"
            ]
          },
          "metadata": {},
          "execution_count": 123
        }
      ]
    },
    {
      "cell_type": "code",
      "source": [
        "df.EmployeeCount.unique()"
      ],
      "metadata": {
        "colab": {
          "base_uri": "https://localhost:8080/"
        },
        "id": "dr8wOvmIiFX8",
        "outputId": "f2af51a6-023a-477a-82ec-689f3df17094"
      },
      "execution_count": 124,
      "outputs": [
        {
          "output_type": "execute_result",
          "data": {
            "text/plain": [
              "array([1.])"
            ]
          },
          "metadata": {},
          "execution_count": 124
        }
      ]
    },
    {
      "cell_type": "code",
      "source": [
        "df = df.drop(['EmployeeCount'] ,axis=1)"
      ],
      "metadata": {
        "id": "VZfct6rbkg_N"
      },
      "execution_count": 125,
      "outputs": []
    },
    {
      "cell_type": "code",
      "source": [
        "df.EnvironmentSatisfaction.unique()"
      ],
      "metadata": {
        "colab": {
          "base_uri": "https://localhost:8080/"
        },
        "id": "L9NKTUEyigwI",
        "outputId": "18f08bdf-6538-4a86-a922-8819847cad4f"
      },
      "execution_count": 126,
      "outputs": [
        {
          "output_type": "execute_result",
          "data": {
            "text/plain": [
              "array([4., 3., 1., 2.])"
            ]
          },
          "metadata": {},
          "execution_count": 126
        }
      ]
    },
    {
      "cell_type": "code",
      "source": [
        "df.Gender.unique()"
      ],
      "metadata": {
        "colab": {
          "base_uri": "https://localhost:8080/"
        },
        "id": "RA__ELTsimIs",
        "outputId": "117b1f0a-4709-4cec-f61f-81079cf90789"
      },
      "execution_count": 127,
      "outputs": [
        {
          "output_type": "execute_result",
          "data": {
            "text/plain": [
              "array(['Male', 'Female'], dtype=object)"
            ]
          },
          "metadata": {},
          "execution_count": 127
        }
      ]
    },
    {
      "cell_type": "code",
      "source": [
        "Gender_dict = {'Male':0, 'Female':1}\n",
        "df['Gender']=df['Gender'].map(Gender_dict)"
      ],
      "metadata": {
        "id": "OIiqLUwDmgo1"
      },
      "execution_count": 128,
      "outputs": []
    },
    {
      "cell_type": "code",
      "source": [
        "df.Gender.unique()"
      ],
      "metadata": {
        "colab": {
          "base_uri": "https://localhost:8080/"
        },
        "id": "ggkmu2QsmnlU",
        "outputId": "928d29c2-81fb-41cd-c707-b5418b94a7e7"
      },
      "execution_count": 129,
      "outputs": [
        {
          "output_type": "execute_result",
          "data": {
            "text/plain": [
              "array([0, 1])"
            ]
          },
          "metadata": {},
          "execution_count": 129
        }
      ]
    },
    {
      "cell_type": "code",
      "source": [
        "df.HourlyRate.unique()"
      ],
      "metadata": {
        "colab": {
          "base_uri": "https://localhost:8080/"
        },
        "id": "V5vDeQsHiwj6",
        "outputId": "319887db-468d-45cc-aa1c-6c58f88ea363"
      },
      "execution_count": 130,
      "outputs": [
        {
          "output_type": "execute_result",
          "data": {
            "text/plain": [
              "array([ 55.,  54.,  46.,  66.,  75.,  52.,  39.,  56.,  33.,  82.,  45.,\n",
              "        70.,  97.,  77.,  40.,  49.,  58.,  73.,  43.,  98.,  95.,  41.,\n",
              "       100.,  84.,  79.,  74.,  90.,  96.,  91.,  32.,  88.,  86.,  76.,\n",
              "        35.,  94.,  83.,  65.,  42.,  31.,  51.,  36.,  80.,  69.,  99.,\n",
              "        48.,  89.,  81.,  61.,  92.,  59.,  44.,  47.,  53.,  34.,  60.,\n",
              "        78.,  30.,  68.,  37.,  87.,  50.,  63.,  72.,  38.,  71.,  64.,\n",
              "        85.,  57.,  67.,  62.,  93.])"
            ]
          },
          "metadata": {},
          "execution_count": 130
        }
      ]
    },
    {
      "cell_type": "code",
      "source": [
        "df.JobInvolvement.unique()"
      ],
      "metadata": {
        "colab": {
          "base_uri": "https://localhost:8080/"
        },
        "id": "YSGQB_bti71A",
        "outputId": "4ec01b09-131f-49c8-bfe6-6e91ca4df8ef"
      },
      "execution_count": 131,
      "outputs": [
        {
          "output_type": "execute_result",
          "data": {
            "text/plain": [
              "array([2., 3., 1., 4.])"
            ]
          },
          "metadata": {},
          "execution_count": 131
        }
      ]
    },
    {
      "cell_type": "code",
      "source": [
        "df.JobLevel.unique()"
      ],
      "metadata": {
        "colab": {
          "base_uri": "https://localhost:8080/"
        },
        "id": "vfUYi9gljFbu",
        "outputId": "84e4dcf8-0751-4102-d510-c0d0a9590d27"
      },
      "execution_count": 132,
      "outputs": [
        {
          "output_type": "execute_result",
          "data": {
            "text/plain": [
              "array([2., 3., 1., 5., 4.])"
            ]
          },
          "metadata": {},
          "execution_count": 132
        }
      ]
    },
    {
      "cell_type": "code",
      "source": [
        "df.JobRole.unique()"
      ],
      "metadata": {
        "colab": {
          "base_uri": "https://localhost:8080/"
        },
        "id": "cC4sy4OvjKIz",
        "outputId": "d333ab38-bace-49a4-ed6d-60e34687c142"
      },
      "execution_count": 133,
      "outputs": [
        {
          "output_type": "execute_result",
          "data": {
            "text/plain": [
              "array(['Laboratory Technician', 'Manufacturing Director',\n",
              "       'Research Scientist', 'Human Resources', 'Research Director',\n",
              "       'Sales Representative', 'Manager', 'Healthcare Representative',\n",
              "       'Sales Executive'], dtype=object)"
            ]
          },
          "metadata": {},
          "execution_count": 133
        }
      ]
    },
    {
      "cell_type": "code",
      "source": [
        "df = df.join(pd.get_dummies(df[\"JobRole\"], drop_first=True)).drop(\"JobRole\", axis=1)"
      ],
      "metadata": {
        "id": "asB30sQ-zR_q"
      },
      "execution_count": 140,
      "outputs": []
    },
    {
      "cell_type": "code",
      "source": [
        "df.columns"
      ],
      "metadata": {
        "colab": {
          "base_uri": "https://localhost:8080/"
        },
        "id": "3IRhLKGmzWBA",
        "outputId": "1cd9eeea-4773-4877-8ed0-1797a8b19550"
      },
      "execution_count": 141,
      "outputs": [
        {
          "output_type": "execute_result",
          "data": {
            "text/plain": [
              "Index(['EmployeeNumber', 'Age', 'DailyRate', 'DistanceFromHome', 'Education',\n",
              "       'EnvironmentSatisfaction', 'Gender', 'HourlyRate', 'JobInvolvement',\n",
              "       'JobLevel', 'JobSatisfaction', 'MaritalStatus', 'MonthlyIncome',\n",
              "       'MonthlyRate', 'NumCompaniesWorked', 'Over18', 'OverTime',\n",
              "       'PercentSalaryHike', 'PerformanceRating', 'RelationshipSatisfaction',\n",
              "       'StandardHours', 'StockOptionLevel', 'TotalWorkingYears',\n",
              "       'TrainingTimesLastYear', 'WorkLifeBalance', 'YearsAtCompany',\n",
              "       'YearsInCurrentRole', 'YearsSinceLastPromotion', 'YearsWithCurrManager',\n",
              "       'Attrition', 'YearlyIncome', 'Travel_Frequently', 'Travel_Rarely',\n",
              "       'Research & Development', 'Sales', 'Life Sciences', 'Marketing',\n",
              "       'Medical', 'Other', 'Technical Degree',\n",
              "       'JobRole_Healthcare Representative', 'JobRole_Human Resources',\n",
              "       'JobRole_Laboratory Technician', 'JobRole_Manager',\n",
              "       'JobRole_Manufacturing Director', 'JobRole_Research Director',\n",
              "       'JobRole_Research Scientist', 'JobRole_Sales Executive',\n",
              "       'JobRole_Sales Representative', 'Human Resources',\n",
              "       'Laboratory Technician', 'Manager', 'Manufacturing Director',\n",
              "       'Research Director', 'Research Scientist', 'Sales Executive',\n",
              "       'Sales Representative'],\n",
              "      dtype='object')"
            ]
          },
          "metadata": {},
          "execution_count": 141
        }
      ]
    },
    {
      "cell_type": "code",
      "source": [
        "df.JobSatisfaction.unique()"
      ],
      "metadata": {
        "colab": {
          "base_uri": "https://localhost:8080/"
        },
        "id": "TknCInBxjUvf",
        "outputId": "2d6a04fa-0e90-473c-90d6-b722cc39ad0b"
      },
      "execution_count": 142,
      "outputs": [
        {
          "output_type": "execute_result",
          "data": {
            "text/plain": [
              "array([4., 3., 2., 1.])"
            ]
          },
          "metadata": {},
          "execution_count": 142
        }
      ]
    },
    {
      "cell_type": "code",
      "source": [],
      "metadata": {
        "id": "vWvxU0EyzZpH"
      },
      "execution_count": null,
      "outputs": []
    }
  ]
}